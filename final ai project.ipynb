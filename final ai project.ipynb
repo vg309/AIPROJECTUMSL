





<!DOCTYPE html>
<html lang="en" data-color-mode="auto" data-light-theme="light" data-dark-theme="dark" data-a11y-animated-images="system">
  <head>
    <meta charset="utf-8">
  <link rel="dns-prefetch" href="https://github.githubassets.com">
  <link rel="dns-prefetch" href="https://avatars.githubusercontent.com">
  <link rel="dns-prefetch" href="https://github-cloud.s3.amazonaws.com">
  <link rel="dns-prefetch" href="https://user-images.githubusercontent.com/">
  <link rel="preconnect" href="https://github.githubassets.com" crossorigin>
  <link rel="preconnect" href="https://avatars.githubusercontent.com">

  


  <link crossorigin="anonymous" media="all" rel="stylesheet" href="https://github.githubassets.com/assets/light-0946cdc16f15.css" /><link crossorigin="anonymous" media="all" rel="stylesheet" href="https://github.githubassets.com/assets/dark-3946c959759a.css" /><link data-color-theme="dark_dimmed" crossorigin="anonymous" media="all" rel="stylesheet" data-href="https://github.githubassets.com/assets/dark_dimmed-9b9a8c91acc5.css" /><link data-color-theme="dark_high_contrast" crossorigin="anonymous" media="all" rel="stylesheet" data-href="https://github.githubassets.com/assets/dark_high_contrast-11302a585e33.css" /><link data-color-theme="dark_colorblind" crossorigin="anonymous" media="all" rel="stylesheet" data-href="https://github.githubassets.com/assets/dark_colorblind-1a4564ab0fbf.css" /><link data-color-theme="light_colorblind" crossorigin="anonymous" media="all" rel="stylesheet" data-href="https://github.githubassets.com/assets/light_colorblind-12a8b2aa9101.css" /><link data-color-theme="light_high_contrast" crossorigin="anonymous" media="all" rel="stylesheet" data-href="https://github.githubassets.com/assets/light_high_contrast-5924a648f3e7.css" /><link data-color-theme="light_tritanopia" crossorigin="anonymous" media="all" rel="stylesheet" data-href="https://github.githubassets.com/assets/light_tritanopia-05358496cb79.css" /><link data-color-theme="dark_tritanopia" crossorigin="anonymous" media="all" rel="stylesheet" data-href="https://github.githubassets.com/assets/dark_tritanopia-aad6b801a158.css" />
  <link crossorigin="anonymous" media="all" rel="stylesheet" href="https://github.githubassets.com/assets/design-tokens-v2-private-ab52183758fa.css" />
    <link crossorigin="anonymous" media="all" rel="stylesheet" href="https://github.githubassets.com/assets/primer-4d8f37cc9d91.css" />
    <link crossorigin="anonymous" media="all" rel="stylesheet" href="https://github.githubassets.com/assets/global-243d3a393d7d.css" />
    <link crossorigin="anonymous" media="all" rel="stylesheet" href="https://github.githubassets.com/assets/github-b717d68e0146.css" />
  <link crossorigin="anonymous" media="all" rel="stylesheet" href="https://github.githubassets.com/assets/code-5347859ecdfc.css" />



  <script crossorigin="anonymous" defer="defer" type="application/javascript" src="https://github.githubassets.com/assets/wp-runtime-a59f3775ca39.js"></script>
<script crossorigin="anonymous" defer="defer" type="application/javascript" src="https://github.githubassets.com/assets/vendors-node_modules_stacktrace-parser_dist_stack-trace-parser_esm_js-node_modules_github_bro-a4c183-ae93d3fba59c.js"></script>
<script crossorigin="anonymous" defer="defer" type="application/javascript" src="https://github.githubassets.com/assets/ui_packages_failbot_failbot_ts-e38c93eab86e.js"></script>
<script crossorigin="anonymous" defer="defer" type="application/javascript" src="https://github.githubassets.com/assets/environment-de3997b81651.js"></script>
<script crossorigin="anonymous" defer="defer" type="application/javascript" src="https://github.githubassets.com/assets/vendors-node_modules_github_selector-observer_dist_index_esm_js-2646a2c533e3.js"></script>
<script crossorigin="anonymous" defer="defer" type="application/javascript" src="https://github.githubassets.com/assets/vendors-node_modules_github_relative-time-element_dist_index_js-99e288659d4f.js"></script>
<script crossorigin="anonymous" defer="defer" type="application/javascript" src="https://github.githubassets.com/assets/vendors-node_modules_fzy_js_index_js-node_modules_github_markdown-toolbar-element_dist_index_js-e3de700a4c9d.js"></script>
<script crossorigin="anonymous" defer="defer" type="application/javascript" src="https://github.githubassets.com/assets/vendors-node_modules_delegated-events_dist_index_js-node_modules_github_auto-complete-element-5b3870-ff38694180c6.js"></script>
<script crossorigin="anonymous" defer="defer" type="application/javascript" src="https://github.githubassets.com/assets/vendors-node_modules_github_file-attachment-element_dist_index_js-node_modules_github_text-ex-3415a8-7ecc10fb88d0.js"></script>
<script crossorigin="anonymous" defer="defer" type="application/javascript" src="https://github.githubassets.com/assets/vendors-node_modules_github_filter-input-element_dist_index_js-node_modules_github_remote-inp-8873b7-5771678648e0.js"></script>
<script crossorigin="anonymous" defer="defer" type="application/javascript" src="https://github.githubassets.com/assets/vendors-node_modules_primer_view-components_app_components_primer_primer_js-node_modules_gith-3af896-2189f4f604ee.js"></script>
<script crossorigin="anonymous" defer="defer" type="application/javascript" src="https://github.githubassets.com/assets/github-elements-7b037525f59f.js"></script>
<script crossorigin="anonymous" defer="defer" type="application/javascript" src="https://github.githubassets.com/assets/element-registry-265f231a8769.js"></script>
<script crossorigin="anonymous" defer="defer" type="application/javascript" src="https://github.githubassets.com/assets/vendors-node_modules_lit-html_lit-html_js-9d9fe1859ce5.js"></script>
<script crossorigin="anonymous" defer="defer" type="application/javascript" src="https://github.githubassets.com/assets/vendors-node_modules_github_mini-throttle_dist_index_js-node_modules_github_alive-client_dist-bf5aa2-424aa982deef.js"></script>
<script crossorigin="anonymous" defer="defer" type="application/javascript" src="https://github.githubassets.com/assets/vendors-node_modules_github_turbo_dist_turbo_es2017-esm_js-ba0e4d5b3207.js"></script>
<script crossorigin="anonymous" defer="defer" type="application/javascript" src="https://github.githubassets.com/assets/vendors-node_modules_primer_behaviors_dist_esm_dimensions_js-node_modules_github_hotkey_dist_-269f6d-5d145c7cc849.js"></script>
<script crossorigin="anonymous" defer="defer" type="application/javascript" src="https://github.githubassets.com/assets/vendors-node_modules_github_remote-form_dist_index_js-node_modules_scroll-anchoring_dist_scro-5881a7-44d01ee9e782.js"></script>
<script crossorigin="anonymous" defer="defer" type="application/javascript" src="https://github.githubassets.com/assets/vendors-node_modules_color-convert_index_js-35b3ae68c408.js"></script>
<script crossorigin="anonymous" defer="defer" type="application/javascript" src="https://github.githubassets.com/assets/vendors-node_modules_github_paste-markdown_dist_index_esm_js-node_modules_github_quote-select-973149-7c1c1618332f.js"></script>
<script crossorigin="anonymous" defer="defer" type="application/javascript" src="https://github.githubassets.com/assets/app_assets_modules_github_updatable-content_ts-dadb69f79923.js"></script>
<script crossorigin="anonymous" defer="defer" type="application/javascript" src="https://github.githubassets.com/assets/app_assets_modules_github_behaviors_keyboard-shortcuts-helper_ts-app_assets_modules_github_be-f5afdb-8cfe1dd0ad56.js"></script>
<script crossorigin="anonymous" defer="defer" type="application/javascript" src="https://github.githubassets.com/assets/app_assets_modules_github_blob-anchor_ts-app_assets_modules_github_code-editor_ts-app_assets_-d384d0-eae4affc5787.js"></script>
<script crossorigin="anonymous" defer="defer" type="application/javascript" src="https://github.githubassets.com/assets/app_assets_modules_github_sticky-scroll-into-view_ts-1d145b63ed56.js"></script>
<script crossorigin="anonymous" defer="defer" type="application/javascript" src="https://github.githubassets.com/assets/app_assets_modules_github_behaviors_ajax-error_ts-app_assets_modules_github_behaviors_include-2e2258-dae7d38e0248.js"></script>
<script crossorigin="anonymous" defer="defer" type="application/javascript" src="https://github.githubassets.com/assets/app_assets_modules_github_behaviors_commenting_edit_ts-app_assets_modules_github_behaviors_ht-83c235-80a9915bf75c.js"></script>
<script crossorigin="anonymous" defer="defer" type="application/javascript" src="https://github.githubassets.com/assets/behaviors-86791d034ef8.js"></script>
<script crossorigin="anonymous" defer="defer" type="application/javascript" src="https://github.githubassets.com/assets/vendors-node_modules_delegated-events_dist_index_js-node_modules_github_catalyst_lib_index_js-623425af41e1.js"></script>
<script crossorigin="anonymous" defer="defer" type="application/javascript" src="https://github.githubassets.com/assets/notifications-global-4dc6f295cc92.js"></script>
  
  <script crossorigin="anonymous" defer="defer" type="application/javascript" src="https://github.githubassets.com/assets/react-lib-26cb888452e9.js"></script>
<script crossorigin="anonymous" defer="defer" type="application/javascript" src="https://github.githubassets.com/assets/vendors-node_modules_primer_octicons-react_dist_index_esm_js-node_modules_primer_react_lib-es-ca6dae-23fb3f0ab525.js"></script>
<script crossorigin="anonymous" defer="defer" type="application/javascript" src="https://github.githubassets.com/assets/vendors-node_modules_primer_behaviors_dist_esm_focus-zone_js-d55308df5023.js"></script>
<script crossorigin="anonymous" defer="defer" type="application/javascript" src="https://github.githubassets.com/assets/vendors-node_modules_primer_react_lib-esm_Button_IconButton_js-node_modules_primer_react_lib--22cd40-b4cc6d8cc073.js"></script>
<script crossorigin="anonymous" defer="defer" type="application/javascript" src="https://github.githubassets.com/assets/vendors-node_modules_primer_react_lib-esm_ActionList_index_js-node_modules_primer_react_lib-e-d264d6-1cb0d3f44019.js"></script>
<script crossorigin="anonymous" defer="defer" type="application/javascript" src="https://github.githubassets.com/assets/vendors-node_modules_primer_react_lib-esm_ActionMenu_js-9f46ef9292fe.js"></script>
<script crossorigin="anonymous" defer="defer" type="application/javascript" src="https://github.githubassets.com/assets/vendors-node_modules_primer_behaviors_dist_esm_scroll-into-view_js-node_modules_primer_react_-04bb1b-dadff286ba44.js"></script>
<script crossorigin="anonymous" defer="defer" type="application/javascript" src="https://github.githubassets.com/assets/vendors-node_modules_primer_react_lib-esm_FormControl_FormControl_js-a0b171a7401f.js"></script>
<script crossorigin="anonymous" defer="defer" type="application/javascript" src="https://github.githubassets.com/assets/vendors-node_modules_dompurify_dist_purify_js-64d590970fa6.js"></script>
<script crossorigin="anonymous" defer="defer" type="application/javascript" src="https://github.githubassets.com/assets/vendors-node_modules_primer_react_lib-esm_Dialog_ConfirmationDialog_js-node_modules_primer_re-3d8a84-e777e763812a.js"></script>
<script crossorigin="anonymous" defer="defer" type="application/javascript" src="https://github.githubassets.com/assets/vendors-node_modules_primer_react_lib-esm_PageLayout_PageLayout_js-4fa99e9ebc43.js"></script>
<script crossorigin="anonymous" defer="defer" type="application/javascript" src="https://github.githubassets.com/assets/vendors-node_modules_primer_react_lib-esm_TreeView_TreeView_js-24fd33d383d9.js"></script>
<script crossorigin="anonymous" defer="defer" type="application/javascript" src="https://github.githubassets.com/assets/vendors-node_modules_primer_react_lib-esm_Avatar_Avatar_js-node_modules_primer_react_lib-esm_-9d76dd-90f908d64068.js"></script>
<script crossorigin="anonymous" defer="defer" type="application/javascript" src="https://github.githubassets.com/assets/vendors-node_modules_github_blackbird-parser_dist_blackbird_js-fcd9d30e9b7e.js"></script>
<script crossorigin="anonymous" defer="defer" type="application/javascript" src="https://github.githubassets.com/assets/vendors-node_modules_primer_react_lib-esm_NavList_NavList_js-node_modules_primer_react_lib-es-ff3f14-8c5958c1d74b.js"></script>
<script crossorigin="anonymous" defer="defer" type="application/javascript" src="https://github.githubassets.com/assets/vendors-node_modules_primer_react_lib-esm_CheckboxGroup_CheckboxGroup_js-node_modules_delegat-b5c553-34eb33c693d6.js"></script>
<script crossorigin="anonymous" defer="defer" type="application/javascript" src="https://github.githubassets.com/assets/vendors-node_modules_primer_react_lib-esm_AvatarStack_AvatarStack_js-node_modules_primer_reac-3dc090-2491a42d89af.js"></script>
<script crossorigin="anonymous" defer="defer" type="application/javascript" src="https://github.githubassets.com/assets/ui_packages_react-core_AppContextProvider_tsx-ui_packages_react-core_BaseProviders_tsx-ui_pac-7f090f-c5e2a78ead13.js"></script>
<script crossorigin="anonymous" defer="defer" type="application/javascript" src="https://github.githubassets.com/assets/ui_packages_react-core_Entry_tsx-ca0c5e967358.js"></script>
<script crossorigin="anonymous" defer="defer" type="application/javascript" src="https://github.githubassets.com/assets/ui_packages_safe-html_SafeHTML_tsx-ui_packages_paths_path_ts-ui_packages_verified-fetch_verif-4a9323-c168ec1e8758.js"></script>
<script crossorigin="anonymous" defer="defer" type="application/javascript" src="https://github.githubassets.com/assets/app_assets_modules_react-shared_RefSelector_RefSelector_tsx-087e28f1fa57.js"></script>
<script crossorigin="anonymous" defer="defer" type="application/javascript" src="https://github.githubassets.com/assets/app_assets_modules_blackbird-monolith_hooks_use-navigate-to-query_ts-app_assets_modules_black-72e806-af339a3fc622.js"></script>
<script crossorigin="anonymous" defer="defer" type="application/javascript" src="https://github.githubassets.com/assets/app_assets_modules_react-code-view_pages_CodeView_tsx-ui_packages_feature-flags_feature-flags-c064f7-236735aad024.js"></script>
<script crossorigin="anonymous" defer="defer" type="application/javascript" src="https://github.githubassets.com/assets/react-code-view-cd4f635f58a9.js"></script>


  <title>AIPROJECTUMSL/Untitled14 (1).ipynb at main · vg309/AIPROJECTUMSL</title>



  <meta name="route-pattern" content="/:user_id/:repository/blob/*name(/*path)">

    
  <meta name="current-catalog-service-hash" content="581425c0eaaa5e5e53c5b736f58a14dbe5d38b0be425901738ad0670bd1d5a33">


  <meta name="request-id" content="7536:0162:17EE75:237750:644FD77D" data-turbo-transient="true" /><meta name="html-safe-nonce" content="475ed1ea97e7adab46d25e47a018e3a451dce8f56de8d0205d85d72a7626bec2" data-turbo-transient="true" /><meta name="visitor-payload" content="eyJyZWZlcnJlciI6Imh0dHBzOi8vZ2l0aHViLmNvbS92ZzMwOS9BSVBST0pFQ1RVTVNMIiwicmVxdWVzdF9pZCI6Ijc1MzY6MDE2MjoxN0VFNzU6MjM3NzUwOjY0NEZENzdEIiwidmlzaXRvcl9pZCI6IjgyMDM2NzczMzEzNjQ5NTA4MTgiLCJyZWdpb25fZWRnZSI6ImlhZCIsInJlZ2lvbl9yZW5kZXIiOiJpYWQifQ==" data-turbo-transient="true" /><meta name="visitor-hmac" content="c0e310d649581dc5a16a31e64a923f53b2a309b69b1b431acf85bf7b890d477e" data-turbo-transient="true" />


    <meta name="hovercard-subject-tag" content="repository:633157059" data-turbo-transient>


  <meta name="github-keyboard-shortcuts" content="repository,source-code,file-tree" data-turbo-transient="true" />
  

  <meta name="selected-link" value="repo_source" data-turbo-transient>

    <meta name="google-site-verification" content="c1kuD-K2HIVF635lypcsWPoD4kilo5-jA_wBFyT4uMY">
  <meta name="google-site-verification" content="KT5gs8h0wvaagLKAVWq8bbeNwnZZK1r1XQysX3xurLU">
  <meta name="google-site-verification" content="ZzhVyEFwb7w3e0-uOTltm8Jsck2F5StVihD0exw2fsA">
  <meta name="google-site-verification" content="GXs5KoUUkNCoaAZn7wPN-t01Pywp9M3sEjnt_3_ZWPc">
  <meta name="google-site-verification" content="Apib7-x98H0j5cPqHWwSMm6dNU4GmODRoqxLiDzdx9I">

<meta name="octolytics-url" content="https://collector.github.com/github/collect" /><meta name="octolytics-actor-id" content="131923627" /><meta name="octolytics-actor-login" content="vg309" /><meta name="octolytics-actor-hash" content="2d91a3e41aee0d6e44cef3a3b537793f6a39fd6f735ef0540938ec2e113fcefc" />

  <meta name="analytics-location" content="/&lt;user-name&gt;/&lt;repo-name&gt;/blob/show" data-turbo-transient="true" />

  




  

    <meta name="user-login" content="vg309">

  <link rel="sudo-modal" href="/sessions/sudo_modal">

    <meta name="viewport" content="width=device-width">
    
      <meta name="description" content="Contribute to vg309/AIPROJECTUMSL development by creating an account on GitHub.">
      <link rel="search" type="application/opensearchdescription+xml" href="/opensearch.xml" title="GitHub">
    <link rel="fluid-icon" href="https://github.com/fluidicon.png" title="GitHub">
    <meta property="fb:app_id" content="1401488693436528">
    <meta name="apple-itunes-app" content="app-id=1477376905" />
      <meta name="twitter:image:src" content="https://opengraph.githubassets.com/ceceefd5b5724760d2a43240252d868dd171327ea655a165054ac7230bb0a445/vg309/AIPROJECTUMSL" /><meta name="twitter:site" content="@github" /><meta name="twitter:card" content="summary_large_image" /><meta name="twitter:title" content="AIPROJECTUMSL/Untitled14 (1).ipynb at main · vg309/AIPROJECTUMSL" /><meta name="twitter:description" content="Contribute to vg309/AIPROJECTUMSL development by creating an account on GitHub." />
      <meta property="og:image" content="https://opengraph.githubassets.com/ceceefd5b5724760d2a43240252d868dd171327ea655a165054ac7230bb0a445/vg309/AIPROJECTUMSL" /><meta property="og:image:alt" content="Contribute to vg309/AIPROJECTUMSL development by creating an account on GitHub." /><meta property="og:image:width" content="1200" /><meta property="og:image:height" content="600" /><meta property="og:site_name" content="GitHub" /><meta property="og:type" content="object" /><meta property="og:title" content="AIPROJECTUMSL/Untitled14 (1).ipynb at main · vg309/AIPROJECTUMSL" /><meta property="og:url" content="https://github.com/vg309/AIPROJECTUMSL" /><meta property="og:description" content="Contribute to vg309/AIPROJECTUMSL development by creating an account on GitHub." />
      
    <link rel="assets" href="https://github.githubassets.com/">
      <link rel="shared-web-socket" href="wss://alive.github.com/_sockets/u/131923627/ws?session=eyJ2IjoiVjMiLCJ1IjoxMzE5MjM2MjcsInMiOjExMDU5ODI2MDgsImMiOjQyNzQxOTMzNTcsInQiOjE2ODI5NTQxMTd9--4f2939a8b883b49df9899a6f996d809278a7179bf7126a2b12ff05f6c65c15ad" data-refresh-url="/_alive" data-session-id="ce1b34d8181243ca8987e16d9f981eb913ea2ea21bb271ecaeb0c8a0df6099de">
      <link rel="shared-web-socket-src" href="/assets-cdn/worker/socket-worker-71e98f781d79.js">


        <meta name="hostname" content="github.com">


      <meta name="keyboard-shortcuts-preference" content="all">

        <meta name="expected-hostname" content="github.com">

    <meta name="enabled-features" content="TURBO_EXPERIMENT_RISKY,IMAGE_METRIC_TRACKING,GEOJSON_AZURE_MAPS">


  <meta http-equiv="x-pjax-version" content="18a14a1052a4f18a45251a3c7ed94b6c7c95a483ac456ee0a83d97becc471a00" data-turbo-track="reload">
  <meta http-equiv="x-pjax-csp-version" content="0db263f9a873141d8256f783c35f244c06d490aacc3b680f99794dd8fd59fb59" data-turbo-track="reload">
  <meta http-equiv="x-pjax-css-version" content="d0d1f5be9d5737dd36dc184b20f007cd603f64dae470c6d16fbee094e3cf2c43" data-turbo-track="reload">
  <meta http-equiv="x-pjax-js-version" content="1341c02f6daeff9d8b3d2157e7755cdec2f8684430c910f2b6050fc993f4a041" data-turbo-track="reload">

  <meta name="turbo-cache-control" content="no-preview" data-turbo-transient="">

      <meta name="turbo-cache-control" content="no-cache" data-turbo-transient>
    <meta data-hydrostats="publish">

  <meta name="go-import" content="github.com/vg309/AIPROJECTUMSL git https://github.com/vg309/AIPROJECTUMSL.git">

  <meta name="octolytics-dimension-user_id" content="131923627" /><meta name="octolytics-dimension-user_login" content="vg309" /><meta name="octolytics-dimension-repository_id" content="633157059" /><meta name="octolytics-dimension-repository_nwo" content="vg309/AIPROJECTUMSL" /><meta name="octolytics-dimension-repository_public" content="true" /><meta name="octolytics-dimension-repository_is_fork" content="false" /><meta name="octolytics-dimension-repository_network_root_id" content="633157059" /><meta name="octolytics-dimension-repository_network_root_nwo" content="vg309/AIPROJECTUMSL" />



  <meta name="turbo-body-classes" content="logged-in env-production page-responsive">


  <meta name="browser-stats-url" content="https://api.github.com/_private/browser/stats">

  <meta name="browser-errors-url" content="https://api.github.com/_private/browser/errors">

  <meta name="browser-optimizely-client-errors-url" content="https://api.github.com/_private/browser/optimizely_client/errors">

  <link rel="mask-icon" href="https://github.githubassets.com/pinned-octocat.svg" color="#000000">
  <link rel="alternate icon" class="js-site-favicon" type="image/png" href="https://github.githubassets.com/favicons/favicon.png">
  <link rel="icon" class="js-site-favicon" type="image/svg+xml" href="https://github.githubassets.com/favicons/favicon.svg">

<meta name="theme-color" content="#1e2327">
<meta name="color-scheme" content="light dark" />


  <link rel="manifest" href="/manifest.json" crossOrigin="use-credentials">

  </head>

  <body class="logged-in env-production page-responsive" style="word-wrap: break-word;">
    <div data-turbo-body class="logged-in env-production page-responsive" style="word-wrap: break-word;">
      


    <div class="position-relative js-header-wrapper ">
      <a href="#start-of-content" class="p-3 color-bg-accent-emphasis color-fg-on-emphasis show-on-focus js-skip-to-content">Skip to content</a>
      <span data-view-component="true" class="progress-pjax-loader Progress position-fixed width-full">
    <span style="width: 0%;" data-view-component="true" class="Progress-item progress-pjax-loader-bar left-0 top-0 color-bg-accent-emphasis"></span>
</span>      
      


        <script crossorigin="anonymous" defer="defer" type="application/javascript" src="https://github.githubassets.com/assets/vendors-node_modules_allex_crc32_lib_crc32_esm_js-node_modules_github_mini-throttle_dist_deco-26fa0f-02e7ed68dae1.js"></script>
<script crossorigin="anonymous" defer="defer" type="application/javascript" src="https://github.githubassets.com/assets/vendors-node_modules_github_clipboard-copy-element_dist_index_esm_js-node_modules_delegated-e-b37f7d-a9177ba414f2.js"></script>
<script crossorigin="anonymous" defer="defer" type="application/javascript" src="https://github.githubassets.com/assets/app_assets_modules_github_command-palette_items_help-item_ts-app_assets_modules_github_comman-48ad9d-beffe41c24a7.js"></script>
<script crossorigin="anonymous" defer="defer" type="application/javascript" src="https://github.githubassets.com/assets/command-palette-c2a5f7e7eb12.js"></script>

            <header class="AppHeader">
    <div class="AppHeader-globalBar pb-2 js-global-bar">
      <div class="AppHeader-globalBar-start">
          <deferred-side-panel data-url="/_side-panels/global">
  <include-fragment data-target="deferred-side-panel.fragment">
        <button aria-label="Open side panel" data-action="click:deferred-side-panel#loadPanel click:deferred-side-panel#panelOpened" data-show-dialog-id="dialog-ca42482f-29a1-4339-a116-dacc11dfacf8" id="dialog-show-dialog-ca42482f-29a1-4339-a116-dacc11dfacf8" type="button" data-view-component="true" class="AppHeader-logo Button--invisible Button--medium Button Button--invisible-noVisuals color-bg-transparent p-0">    <span class="Button-content">
      <span class="Button-label"><svg aria-hidden="true" height="24" viewBox="0 0 16 16" version="1.1" width="24" data-view-component="true" class="octicon octicon-mark-github color-fg-default">
    <path d="M8 0c4.42 0 8 3.58 8 8a8.013 8.013 0 0 1-5.45 7.59c-.4.08-.55-.17-.55-.38 0-.27.01-1.13.01-2.2 0-.75-.25-1.23-.54-1.48 1.78-.2 3.65-.88 3.65-3.95 0-.88-.31-1.59-.82-2.15.08-.2.36-1.02-.08-2.12 0 0-.67-.22-2.2.82-.64-.18-1.32-.27-2-.27-.68 0-1.36.09-2 .27-1.53-1.03-2.2-.82-2.2-.82-.44 1.1-.16 1.92-.08 2.12-.51.56-.82 1.28-.82 2.15 0 3.06 1.86 3.75 3.64 3.95-.23.2-.44.55-.51 1.07-.46.21-1.61.55-2.33-.66-.15-.24-.6-.83-1.23-.82-.67.01-.27.38.01.53.34.19.73.9.82 1.13.16.45.68 1.31 2.69.94 0 .67.01 1.3.01 1.49 0 .21-.15.45-.55.38A7.995 7.995 0 0 1 0 8c0-4.42 3.58-8 8-8Z"></path>
</svg></span>
    </span>
</button>  

<div class="Overlay--hidden Overlay-backdrop--side Overlay-backdrop--placement-left" data-modal-dialog-overlay>
  <modal-dialog data-target="deferred-side-panel.panel" role="dialog" id="dialog-ca42482f-29a1-4339-a116-dacc11dfacf8" aria-modal="true" aria-disabled="true" aria-describedby="dialog-ca42482f-29a1-4339-a116-dacc11dfacf8-title dialog-ca42482f-29a1-4339-a116-dacc11dfacf8-description" data-view-component="true" class="Overlay Overlay-whenNarrow Overlay--size-small-portrait Overlay--motion-scaleFade SidePanel">
    <div styles="flex-direction: row;" data-view-component="true" class="Overlay-header">
  <div class="Overlay-headerContentWrap">
    <div class="Overlay-titleWrap">
      <h1 class="Overlay-title sr-only" id="dialog-ca42482f-29a1-4339-a116-dacc11dfacf8-title">
        Global navigation
      </h1>
            <div data-view-component="true" class="d-flex">
      <div data-view-component="true" class="AppHeader-logo position-relative">
        <svg aria-hidden="true" height="24" viewBox="0 0 16 16" version="1.1" width="24" data-view-component="true" class="octicon octicon-mark-github color-fg-default">
    <path d="M8 0c4.42 0 8 3.58 8 8a8.013 8.013 0 0 1-5.45 7.59c-.4.08-.55-.17-.55-.38 0-.27.01-1.13.01-2.2 0-.75-.25-1.23-.54-1.48 1.78-.2 3.65-.88 3.65-3.95 0-.88-.31-1.59-.82-2.15.08-.2.36-1.02-.08-2.12 0 0-.67-.22-2.2.82-.64-.18-1.32-.27-2-.27-.68 0-1.36.09-2 .27-1.53-1.03-2.2-.82-2.2-.82-.44 1.1-.16 1.92-.08 2.12-.51.56-.82 1.28-.82 2.15 0 3.06 1.86 3.75 3.64 3.95-.23.2-.44.55-.51 1.07-.46.21-1.61.55-2.33-.66-.15-.24-.6-.83-1.23-.82-.67.01-.27.38.01.53.34.19.73.9.82 1.13.16.45.68 1.31 2.69.94 0 .67.01 1.3.01 1.49 0 .21-.15.45-.55.38A7.995 7.995 0 0 1 0 8c0-4.42 3.58-8 8-8Z"></path>
</svg>
</div></div>
    </div>
    <div class="Overlay-actionWrap">
      <button data-close-dialog-id="dialog-ca42482f-29a1-4339-a116-dacc11dfacf8" aria-label="Close" type="button" data-view-component="true" class="close-button Overlay-closeButton"><svg aria-hidden="true" height="16" viewBox="0 0 16 16" version="1.1" width="16" data-view-component="true" class="octicon octicon-x">
    <path d="M3.72 3.72a.75.75 0 0 1 1.06 0L8 6.94l3.22-3.22a.749.749 0 0 1 1.275.326.749.749 0 0 1-.215.734L9.06 8l3.22 3.22a.749.749 0 0 1-.326 1.275.749.749 0 0 1-.734-.215L8 9.06l-3.22 3.22a.751.751 0 0 1-1.042-.018.751.751 0 0 1-.018-1.042L6.94 8 3.72 4.78a.75.75 0 0 1 0-1.06Z"></path>
</svg></button>
    </div>
  </div>
</div>
      <div data-view-component="true" class="Overlay-body d-flex flex-column height-full px-2">      <nav data-view-component="true" class="ActionList flex-auto">
  <nav-list>
      <div data-view-component="true">
  <ul aria-label="Site navigation" data-target="nav-list.list" id="group-56b32a0a-80bc-4a77-9ddb-ca265913d196" role="list" data-view-component="true" class="ActionListWrap">
      
<li item_id="general" data-item-id="" data-targets="nav-list.items" data-view-component="true" class="ActionListItem">
    
    <a data-hotkey="g d" hydro-click="{&quot;event_type&quot;:&quot;global_header.user_menu_dropdown.click&quot;,&quot;payload&quot;:{&quot;request_url&quot;:&quot;https://github.com/vg309/AIPROJECTUMSL/blob/main/Untitled14%20(1).ipynb&quot;,&quot;target&quot;:&quot;HOME&quot;,&quot;originating_url&quot;:&quot;https://github.com/vg309/AIPROJECTUMSL/blob/main/Untitled14%20(1).ipynb&quot;,&quot;user_id&quot;:131923627}}" hydro-click-hmac="b6ccabbe3d4d9956a87368c7f57f7c8d1c316371d82b839d85346c408267583e" id="item-0673c179-ed33-41ef-b465-a6cc0925e429" href="/dashboard" data-view-component="true" class="ActionListContent ActionListContent--visual16">
        <span class="ActionListItem-visual ActionListItem-visual--leading">
          <svg aria-hidden="true" height="16" viewBox="0 0 16 16" version="1.1" width="16" data-view-component="true" class="octicon octicon-home ActionListItem-visual ActionListItem-visual--leading">
    <path d="M6.906.664a1.749 1.749 0 0 1 2.187 0l5.25 4.2c.415.332.657.835.657 1.367v7.019A1.75 1.75 0 0 1 13.25 15h-3.5a.75.75 0 0 1-.75-.75V9H7v5.25a.75.75 0 0 1-.75.75h-3.5A1.75 1.75 0 0 1 1 13.25V6.23c0-.531.242-1.034.657-1.366l5.25-4.2Zm1.25 1.171a.25.25 0 0 0-.312 0l-5.25 4.2a.25.25 0 0 0-.094.196v7.019c0 .138.112.25.25.25H5.5V8.25a.75.75 0 0 1 .75-.75h3.5a.75.75 0 0 1 .75.75v5.25h2.75a.25.25 0 0 0 .25-.25V6.23a.25.25 0 0 0-.094-.195Z"></path>
</svg>
        </span>
      
        <span data-view-component="true" class="ActionListItem-label">
          Home
</span></a>
  
  
</li>

      
<li item_id="personal_info" data-item-id="" data-targets="nav-list.items" data-view-component="true" class="ActionListItem">
    
    <a data-hotkey="g i" hydro-click="{&quot;event_type&quot;:&quot;global_header.user_menu_dropdown.click&quot;,&quot;payload&quot;:{&quot;request_url&quot;:&quot;https://github.com/vg309/AIPROJECTUMSL/blob/main/Untitled14%20(1).ipynb&quot;,&quot;target&quot;:&quot;ISSUES&quot;,&quot;originating_url&quot;:&quot;https://github.com/vg309/AIPROJECTUMSL/blob/main/Untitled14%20(1).ipynb&quot;,&quot;user_id&quot;:131923627}}" hydro-click-hmac="71aaccf22a83f92ab613d4a77c2543513792dba5cad5877ff7256c5fa7914ca3" id="item-a14c2c04-5d66-4aa9-9adc-63b7b00964a3" href="/issues" data-view-component="true" class="ActionListContent ActionListContent--visual16">
        <span class="ActionListItem-visual ActionListItem-visual--leading">
          <svg aria-hidden="true" height="16" viewBox="0 0 16 16" version="1.1" width="16" data-view-component="true" class="octicon octicon-issue-opened ActionListItem-visual ActionListItem-visual--leading">
    <path d="M8 9.5a1.5 1.5 0 1 0 0-3 1.5 1.5 0 0 0 0 3Z"></path><path d="M8 0a8 8 0 1 1 0 16A8 8 0 0 1 8 0ZM1.5 8a6.5 6.5 0 1 0 13 0 6.5 6.5 0 0 0-13 0Z"></path>
</svg>
        </span>
      
        <span data-view-component="true" class="ActionListItem-label">
          Issues
</span></a>
  
  
</li>

      
<li item_id="password" data-item-id="" data-targets="nav-list.items" data-view-component="true" class="ActionListItem">
    
    <a data-hotkey="g p" hydro-click="{&quot;event_type&quot;:&quot;global_header.user_menu_dropdown.click&quot;,&quot;payload&quot;:{&quot;request_url&quot;:&quot;https://github.com/vg309/AIPROJECTUMSL/blob/main/Untitled14%20(1).ipynb&quot;,&quot;target&quot;:&quot;PULL_REQUESTS&quot;,&quot;originating_url&quot;:&quot;https://github.com/vg309/AIPROJECTUMSL/blob/main/Untitled14%20(1).ipynb&quot;,&quot;user_id&quot;:131923627}}" hydro-click-hmac="39fc61cd5d65fc03f41cb972e84d1e1faf0afbfa34de0fe2d453c1f95f83ae6d" id="item-3a9f4350-d0e0-48f3-9eb5-f64012a0789c" href="/pulls" data-view-component="true" class="ActionListContent ActionListContent--visual16">
        <span class="ActionListItem-visual ActionListItem-visual--leading">
          <svg aria-hidden="true" height="16" viewBox="0 0 16 16" version="1.1" width="16" data-view-component="true" class="octicon octicon-git-pull-request ActionListItem-visual ActionListItem-visual--leading">
    <path d="M1.5 3.25a2.25 2.25 0 1 1 3 2.122v5.256a2.251 2.251 0 1 1-1.5 0V5.372A2.25 2.25 0 0 1 1.5 3.25Zm5.677-.177L9.573.677A.25.25 0 0 1 10 .854V2.5h1A2.5 2.5 0 0 1 13.5 5v5.628a2.251 2.251 0 1 1-1.5 0V5a1 1 0 0 0-1-1h-1v1.646a.25.25 0 0 1-.427.177L7.177 3.427a.25.25 0 0 1 0-.354ZM3.75 2.5a.75.75 0 1 0 0 1.5.75.75 0 0 0 0-1.5Zm0 9.5a.75.75 0 1 0 0 1.5.75.75 0 0 0 0-1.5Zm8.25.75a.75.75 0 1 0 1.5 0 .75.75 0 0 0-1.5 0Z"></path>
</svg>
        </span>
      
        <span data-view-component="true" class="ActionListItem-label">
          Pull requests
</span></a>
  
  
</li>

      
<li item_id="billing" data-item-id="" data-targets="nav-list.items" data-view-component="true" class="ActionListItem">
    
    <a hydro-click="{&quot;event_type&quot;:&quot;global_header.user_menu_dropdown.click&quot;,&quot;payload&quot;:{&quot;request_url&quot;:&quot;https://github.com/vg309/AIPROJECTUMSL/blob/main/Untitled14%20(1).ipynb&quot;,&quot;target&quot;:&quot;DISCUSSIONS&quot;,&quot;originating_url&quot;:&quot;https://github.com/vg309/AIPROJECTUMSL/blob/main/Untitled14%20(1).ipynb&quot;,&quot;user_id&quot;:131923627}}" hydro-click-hmac="6174866cd57b1b2ba7ef74467051eff919739cad1eb706391189e6bb4a1709e4" id="item-55f1c755-3c71-47ac-9a26-3956d0074ad8" href="/discussions" data-view-component="true" class="ActionListContent ActionListContent--visual16">
        <span class="ActionListItem-visual ActionListItem-visual--leading">
          <svg aria-hidden="true" height="16" viewBox="0 0 16 16" version="1.1" width="16" data-view-component="true" class="octicon octicon-comment-discussion ActionListItem-visual ActionListItem-visual--leading">
    <path d="M1.75 1h8.5c.966 0 1.75.784 1.75 1.75v5.5A1.75 1.75 0 0 1 10.25 10H7.061l-2.574 2.573A1.458 1.458 0 0 1 2 11.543V10h-.25A1.75 1.75 0 0 1 0 8.25v-5.5C0 1.784.784 1 1.75 1ZM1.5 2.75v5.5c0 .138.112.25.25.25h1a.75.75 0 0 1 .75.75v2.19l2.72-2.72a.749.749 0 0 1 .53-.22h3.5a.25.25 0 0 0 .25-.25v-5.5a.25.25 0 0 0-.25-.25h-8.5a.25.25 0 0 0-.25.25Zm13 2a.25.25 0 0 0-.25-.25h-.5a.75.75 0 0 1 0-1.5h.5c.966 0 1.75.784 1.75 1.75v5.5A1.75 1.75 0 0 1 14.25 12H14v1.543a1.458 1.458 0 0 1-2.487 1.03L9.22 12.28a.749.749 0 0 1 .326-1.275.749.749 0 0 1 .734.215l2.22 2.22v-2.19a.75.75 0 0 1 .75-.75h1a.25.25 0 0 0 .25-.25Z"></path>
</svg>
        </span>
      
        <span data-view-component="true" class="ActionListItem-label">
          Discussions
</span></a>
  
  
</li>

</ul></div>
  </nav-list>
</nav>

      <div data-view-component="true" class="my-3 d-flex flex-justify-center height-full">
        <svg style="box-sizing: content-box; color: var(--color-icon-primary);" width="16" height="16" viewBox="0 0 16 16" fill="none" data-view-component="true" class="anim-rotate">
  <circle cx="8" cy="8" r="7" stroke="currentColor" stroke-opacity="0.25" stroke-width="2" vector-effect="non-scaling-stroke" />
  <path d="M15 8a7.002 7.002 0 00-7-7" stroke="currentColor" stroke-width="2" stroke-linecap="round" vector-effect="non-scaling-stroke" />
</svg>
</div>
</div>
      <div data-view-component="true" class="Overlay-footer Overlay-footer--alignEnd d-block pt-0">      <li role="presentation" aria-hidden="true" data-view-component="true" class="ActionList-sectionDivider mt-0 mb-1"></li>

        <nav data-view-component="true" class="ActionList px-0 flex-1">
  <nav-list>
      <div data-view-component="true">
  <ul aria-label="Additional navigation" data-target="nav-list.list" id="group-9715acc1-7014-472e-8ad2-8d76345ea5b5" role="list" data-view-component="true" class="ActionListWrap">
      
<li item_id="general" data-item-id="" data-targets="nav-list.items" data-view-component="true" class="ActionListItem">
    
    <a hydro-click="{&quot;event_type&quot;:&quot;global_header.user_menu_dropdown.click&quot;,&quot;payload&quot;:{&quot;request_url&quot;:&quot;https://github.com/vg309/AIPROJECTUMSL/blob/main/Untitled14%20(1).ipynb&quot;,&quot;target&quot;:&quot;EXPLORE&quot;,&quot;originating_url&quot;:&quot;https://github.com/vg309/AIPROJECTUMSL/blob/main/Untitled14%20(1).ipynb&quot;,&quot;user_id&quot;:131923627}}" hydro-click-hmac="db5652b5466716b622bccdfccd3e5e2f9c1d5c257bd68f543129c5ecb9a63d2e" id="item-ec0ff11b-627d-4d13-b57d-b625a78808db" href="/explore" data-view-component="true" class="ActionListContent ActionListContent--visual16">
        <span class="ActionListItem-visual ActionListItem-visual--leading">
          <svg aria-hidden="true" height="16" viewBox="0 0 16 16" version="1.1" width="16" data-view-component="true" class="octicon octicon-telescope ActionListItem-visual ActionListItem-visual--leading">
    <path d="M14.184 1.143v-.001l1.422 2.464a1.75 1.75 0 0 1-.757 2.451L3.104 11.713a1.75 1.75 0 0 1-2.275-.702l-.447-.775a1.75 1.75 0 0 1 .53-2.32L11.682.573a1.748 1.748 0 0 1 2.502.57Zm-4.709 9.32h-.001l2.644 3.863a.75.75 0 1 1-1.238.848l-1.881-2.75v2.826a.75.75 0 0 1-1.5 0v-2.826l-1.881 2.75a.75.75 0 1 1-1.238-.848l2.049-2.992a.746.746 0 0 1 .293-.253l1.809-.87a.749.749 0 0 1 .944.252ZM9.436 3.92h-.001l-4.97 3.39.942 1.63 5.42-2.61Zm3.091-2.108h.001l-1.85 1.26 1.505 2.605 2.016-.97a.247.247 0 0 0 .13-.151.247.247 0 0 0-.022-.199l-1.422-2.464a.253.253 0 0 0-.161-.119.254.254 0 0 0-.197.038ZM1.756 9.157a.25.25 0 0 0-.075.33l.447.775a.25.25 0 0 0 .325.1l1.598-.769-.83-1.436-1.465 1Z"></path>
</svg>
        </span>
      
        <span data-view-component="true" class="ActionListItem-label">
          Explore
</span></a>
  
  
</li>

      
<li item_id="general" data-item-id="" data-targets="nav-list.items" data-view-component="true" class="ActionListItem">
    
    <a hydro-click="{&quot;event_type&quot;:&quot;global_header.user_menu_dropdown.click&quot;,&quot;payload&quot;:{&quot;request_url&quot;:&quot;https://github.com/vg309/AIPROJECTUMSL/blob/main/Untitled14%20(1).ipynb&quot;,&quot;target&quot;:&quot;MARKETPLACE&quot;,&quot;originating_url&quot;:&quot;https://github.com/vg309/AIPROJECTUMSL/blob/main/Untitled14%20(1).ipynb&quot;,&quot;user_id&quot;:131923627}}" hydro-click-hmac="b0a6af9274759a145627a32b98e5eed56ac1d9b49c755decad8a08f03f8bd325" id="item-2352972b-4521-4a4a-b116-7e06ef9da329" href="/marketplace" data-view-component="true" class="ActionListContent ActionListContent--visual16">
        <span class="ActionListItem-visual ActionListItem-visual--leading">
          <svg aria-hidden="true" height="16" viewBox="0 0 16 16" version="1.1" width="16" data-view-component="true" class="octicon octicon-gift ActionListItem-visual ActionListItem-visual--leading">
    <path d="M2 2.75A2.75 2.75 0 0 1 4.75 0c.983 0 1.873.42 2.57 1.232.268.318.497.668.68 1.042.183-.375.411-.725.68-1.044C9.376.42 10.266 0 11.25 0a2.75 2.75 0 0 1 2.45 4h.55c.966 0 1.75.784 1.75 1.75v2c0 .698-.409 1.301-1 1.582v4.918A1.75 1.75 0 0 1 13.25 16H2.75A1.75 1.75 0 0 1 1 14.25V9.332C.409 9.05 0 8.448 0 7.75v-2C0 4.784.784 4 1.75 4h.55c-.192-.375-.3-.8-.3-1.25ZM7.25 9.5H2.5v4.75c0 .138.112.25.25.25h4.5Zm1.5 0v5h4.5a.25.25 0 0 0 .25-.25V9.5Zm0-4V8h5.5a.25.25 0 0 0 .25-.25v-2a.25.25 0 0 0-.25-.25Zm-7 0a.25.25 0 0 0-.25.25v2c0 .138.112.25.25.25h5.5V5.5h-5.5Zm3-4a1.25 1.25 0 0 0 0 2.5h2.309c-.233-.818-.542-1.401-.878-1.793-.43-.502-.915-.707-1.431-.707ZM8.941 4h2.309a1.25 1.25 0 0 0 0-2.5c-.516 0-1 .205-1.43.707-.337.392-.646.975-.879 1.793Z"></path>
</svg>
        </span>
      
        <span data-view-component="true" class="ActionListItem-label">
          Marketplace
</span></a>
  
  
</li>

      
<li item_id="feedback" data-item-id="" data-targets="nav-list.items" data-view-component="true" class="ActionListItem">
    
    <a id="item-4ced0e2d-dff5-4910-a2bb-ed96a27bf8ce" href="https://gh.io/navigation-update" data-view-component="true" class="ActionListContent ActionListContent--visual16">
        <span class="ActionListItem-visual ActionListItem-visual--leading">
          <svg aria-hidden="true" height="16" viewBox="0 0 16 16" version="1.1" width="16" data-view-component="true" class="octicon octicon-comment-discussion ActionListItem-visual ActionListItem-visual--leading">
    <path d="M1.75 1h8.5c.966 0 1.75.784 1.75 1.75v5.5A1.75 1.75 0 0 1 10.25 10H7.061l-2.574 2.573A1.458 1.458 0 0 1 2 11.543V10h-.25A1.75 1.75 0 0 1 0 8.25v-5.5C0 1.784.784 1 1.75 1ZM1.5 2.75v5.5c0 .138.112.25.25.25h1a.75.75 0 0 1 .75.75v2.19l2.72-2.72a.749.749 0 0 1 .53-.22h3.5a.25.25 0 0 0 .25-.25v-5.5a.25.25 0 0 0-.25-.25h-8.5a.25.25 0 0 0-.25.25Zm13 2a.25.25 0 0 0-.25-.25h-.5a.75.75 0 0 1 0-1.5h.5c.966 0 1.75.784 1.75 1.75v5.5A1.75 1.75 0 0 1 14.25 12H14v1.543a1.458 1.458 0 0 1-2.487 1.03L9.22 12.28a.749.749 0 0 1 .326-1.275.749.749 0 0 1 .734.215l2.22 2.22v-2.19a.75.75 0 0 1 .75-.75h1a.25.25 0 0 0 .25-.25Z"></path>
</svg>
        </span>
      
        <span data-view-component="true" class="ActionListItem-label">
          Give feedback
</span>        <span class="ActionListItem-visual ActionListItem-visual--trailing">
          <span title="Beta" data-view-component="true" class="Counter color-bg-default color-border-success-emphasis color-fg-success">Beta</span>
        </span>
</a>
  
  
</li>

</ul></div>
  </nav-list>
</nav>

      <div data-view-component="true" class="px-2">      <p class="color-fg-subtle text-small text-light">&copy; 2023 GitHub, Inc.</p>

      <div data-view-component="true" class="d-flex text-small text-light">
          <a target="_blank" href="/about" data-view-component="true" class="no-underline mr-2">About</a>
          <a target="_blank" href="https://github.blog" data-view-component="true" class="no-underline mr-2">Blog</a>
          <a target="_blank" href="https://docs.github.com/site-policy/github-terms/github-terms-of-service" data-view-component="true" class="no-underline mr-2">Terms</a>
          <a target="_blank" href="https://docs.github.com/site-policy/privacy-policies/github-privacy-statement" data-view-component="true" class="no-underline mr-2">Privacy</a>
          <a target="_blank" href="/security" data-view-component="true" class="no-underline mr-2">Security</a>
        <a target="_blank" href="https://www.githubstatus.com/" data-view-component="true" class="no-underline mr-3">Status</a>
</div></div>
</div>
</modal-dialog></div>

  </include-fragment>
</deferred-side-panel>

          <div class="AppHeader-context" >
  <div class="AppHeader-context-compact">
        <button aria-expanded="false" aria-haspopup="dialog" aria-label="Page context: vg309 / AIPROJECTUMSL" id="dialog-show-context-region-dialog" data-show-dialog-id="context-region-dialog" type="button" data-view-component="true" class="AppHeader-context-compact-trigger Button--secondary Button--medium Button box-shadow-none">    <span class="Button-content">
      <span class="Button-label"><span class="AppHeader-context-compact-lead">
                <span class="AppHeader-context-compact-parentItem">vg309</span>
                <span class="AppHeader-context-compact-separator">&nbsp;/</span>

            </span>

            <strong class="AppHeader-context-compact-mainItem d-flex flex-items-center" >
  <span class="">AIPROJECTUMSL</span>

</strong></span>
    </span>
</button>  

<div class="Overlay--hidden Overlay-backdrop--center" data-modal-dialog-overlay>
  <modal-dialog role="dialog" id="context-region-dialog" aria-modal="true" aria-disabled="true" aria-describedby="context-region-dialog-title context-region-dialog-description" data-view-component="true" class="Overlay Overlay-whenNarrow Overlay--size-medium Overlay--motion-scaleFade">
    <div data-view-component="true" class="Overlay-header">
  <div class="Overlay-headerContentWrap">
    <div class="Overlay-titleWrap">
      <h1 class="Overlay-title " id="context-region-dialog-title">
        Navigate back to
      </h1>
    </div>
    <div class="Overlay-actionWrap">
      <button data-close-dialog-id="context-region-dialog" aria-label="Close" type="button" data-view-component="true" class="close-button Overlay-closeButton"><svg aria-hidden="true" height="16" viewBox="0 0 16 16" version="1.1" width="16" data-view-component="true" class="octicon octicon-x">
    <path d="M3.72 3.72a.75.75 0 0 1 1.06 0L8 6.94l3.22-3.22a.749.749 0 0 1 1.275.326.749.749 0 0 1-.215.734L9.06 8l3.22 3.22a.749.749 0 0 1-.326 1.275.749.749 0 0 1-.734-.215L8 9.06l-3.22 3.22a.751.751 0 0 1-1.042-.018.751.751 0 0 1-.018-1.042L6.94 8 3.72 4.78a.75.75 0 0 1 0-1.06Z"></path>
</svg></button>
    </div>
  </div>
</div>
      <div data-view-component="true" class="Overlay-body">          <ul role="list" class="list-style-none" >
    <li>
      <a
        class="d-flex flex-items-center Link--primary py-1"
        href="/vg309"
        
        
        data-analytics-event="{&quot;category&quot;:&quot;SiteHeaderComponent&quot;,&quot;action&quot;:&quot;context_region_crumb&quot;,&quot;label&quot;:&quot;vg309&quot;,&quot;screen_size&quot;:&quot;compact&quot;}"
        
      >
        <span class="AppHeader-context-item-label ">
          vg309
        </span>

      </a>

    </li>
    <li>
      <a
        class="d-flex flex-items-center Link--primary py-1"
        href="/vg309/AIPROJECTUMSL"
        
        
        data-analytics-event="{&quot;category&quot;:&quot;SiteHeaderComponent&quot;,&quot;action&quot;:&quot;context_region_crumb&quot;,&quot;label&quot;:&quot;AIPROJECTUMSL&quot;,&quot;screen_size&quot;:&quot;compact&quot;}"
        
      >
        <span class="AppHeader-context-item-label ">
          AIPROJECTUMSL
        </span>

      </a>

    </li>
</ul>

</div>
      
</modal-dialog></div>
  </div>

  <div class="AppHeader-context-full">
    <nav role="navigation" aria-label="Page context">
      <ul role="list" class="list-style-none" >
    <li>
      <a
        class="AppHeader-context-item"
        href="/vg309"
        
        
        data-analytics-event="{&quot;category&quot;:&quot;SiteHeaderComponent&quot;,&quot;action&quot;:&quot;context_region_crumb&quot;,&quot;label&quot;:&quot;vg309&quot;,&quot;screen_size&quot;:&quot;full&quot;}"
        data-hovercard-type="user" data-hovercard-url="/users/vg309/hovercard" data-octo-click="hovercard-link-click" data-octo-dimensions="link_type:self"
      >
        <span class="AppHeader-context-item-label ">
          vg309
        </span>

      </a>

        <span class="AppHeader-context-item-separator">/</span>
    </li>
    <li>
      <a
        class="AppHeader-context-item"
        href="/vg309/AIPROJECTUMSL"
        
        
        data-analytics-event="{&quot;category&quot;:&quot;SiteHeaderComponent&quot;,&quot;action&quot;:&quot;context_region_crumb&quot;,&quot;label&quot;:&quot;AIPROJECTUMSL&quot;,&quot;screen_size&quot;:&quot;full&quot;}"
        
      >
        <span class="AppHeader-context-item-label ">
          AIPROJECTUMSL
        </span>

      </a>

    </li>
</ul>

    </nav>
  </div>
</div>

      </div>
      <div class="AppHeader-globalBar-end">
          <div class="AppHeader-search" >
              



<template id="search-icon">
  <svg aria-hidden="true" height="16" viewBox="0 0 16 16" version="1.1" width="16" data-view-component="true" class="octicon octicon-search">
    <path d="M10.68 11.74a6 6 0 0 1-7.922-8.982 6 6 0 0 1 8.982 7.922l3.04 3.04a.749.749 0 0 1-.326 1.275.749.749 0 0 1-.734-.215ZM11.5 7a4.499 4.499 0 1 0-8.997 0A4.499 4.499 0 0 0 11.5 7Z"></path>
</svg>
</template>

<template id="code-icon">
  <svg aria-hidden="true" height="16" viewBox="0 0 16 16" version="1.1" width="16" data-view-component="true" class="octicon octicon-code">
    <path d="m11.28 3.22 4.25 4.25a.75.75 0 0 1 0 1.06l-4.25 4.25a.749.749 0 0 1-1.275-.326.749.749 0 0 1 .215-.734L13.94 8l-3.72-3.72a.749.749 0 0 1 .326-1.275.749.749 0 0 1 .734.215Zm-6.56 0a.751.751 0 0 1 1.042.018.751.751 0 0 1 .018 1.042L2.06 8l3.72 3.72a.749.749 0 0 1-.326 1.275.749.749 0 0 1-.734-.215L.47 8.53a.75.75 0 0 1 0-1.06Z"></path>
</svg>
</template>

<template id="file-code-icon">
  <svg aria-hidden="true" height="16" viewBox="0 0 16 16" version="1.1" width="16" data-view-component="true" class="octicon octicon-file-code">
    <path d="M4 1.75C4 .784 4.784 0 5.75 0h5.586c.464 0 .909.184 1.237.513l2.914 2.914c.329.328.513.773.513 1.237v8.586A1.75 1.75 0 0 1 14.25 15h-9a.75.75 0 0 1 0-1.5h9a.25.25 0 0 0 .25-.25V6h-2.75A1.75 1.75 0 0 1 10 4.25V1.5H5.75a.25.25 0 0 0-.25.25v2.5a.75.75 0 0 1-1.5 0Zm1.72 4.97a.75.75 0 0 1 1.06 0l2 2a.75.75 0 0 1 0 1.06l-2 2a.749.749 0 0 1-1.275-.326.749.749 0 0 1 .215-.734l1.47-1.47-1.47-1.47a.75.75 0 0 1 0-1.06ZM3.28 7.78 1.81 9.25l1.47 1.47a.751.751 0 0 1-.018 1.042.751.751 0 0 1-1.042.018l-2-2a.75.75 0 0 1 0-1.06l2-2a.751.751 0 0 1 1.042.018.751.751 0 0 1 .018 1.042Zm8.22-6.218V4.25c0 .138.112.25.25.25h2.688l-.011-.013-2.914-2.914-.013-.011Z"></path>
</svg>
</template>

<template id="history-icon">
  <svg aria-hidden="true" height="16" viewBox="0 0 16 16" version="1.1" width="16" data-view-component="true" class="octicon octicon-history">
    <path d="m.427 1.927 1.215 1.215a8.002 8.002 0 1 1-1.6 5.685.75.75 0 1 1 1.493-.154 6.5 6.5 0 1 0 1.18-4.458l1.358 1.358A.25.25 0 0 1 3.896 6H.25A.25.25 0 0 1 0 5.75V2.104a.25.25 0 0 1 .427-.177ZM7.75 4a.75.75 0 0 1 .75.75v2.992l2.028.812a.75.75 0 0 1-.557 1.392l-2.5-1A.751.751 0 0 1 7 8.25v-3.5A.75.75 0 0 1 7.75 4Z"></path>
</svg>
</template>

<template id="repo-icon">
  <svg aria-hidden="true" height="16" viewBox="0 0 16 16" version="1.1" width="16" data-view-component="true" class="octicon octicon-repo">
    <path d="M2 2.5A2.5 2.5 0 0 1 4.5 0h8.75a.75.75 0 0 1 .75.75v12.5a.75.75 0 0 1-.75.75h-2.5a.75.75 0 0 1 0-1.5h1.75v-2h-8a1 1 0 0 0-.714 1.7.75.75 0 1 1-1.072 1.05A2.495 2.495 0 0 1 2 11.5Zm10.5-1h-8a1 1 0 0 0-1 1v6.708A2.486 2.486 0 0 1 4.5 9h8ZM5 12.25a.25.25 0 0 1 .25-.25h3.5a.25.25 0 0 1 .25.25v3.25a.25.25 0 0 1-.4.2l-1.45-1.087a.249.249 0 0 0-.3 0L5.4 15.7a.25.25 0 0 1-.4-.2Z"></path>
</svg>
</template>

<template id="bookmark-icon">
  <svg aria-hidden="true" height="16" viewBox="0 0 16 16" version="1.1" width="16" data-view-component="true" class="octicon octicon-bookmark">
    <path d="M3 2.75C3 1.784 3.784 1 4.75 1h6.5c.966 0 1.75.784 1.75 1.75v11.5a.75.75 0 0 1-1.227.579L8 11.722l-3.773 3.107A.751.751 0 0 1 3 14.25Zm1.75-.25a.25.25 0 0 0-.25.25v9.91l3.023-2.489a.75.75 0 0 1 .954 0l3.023 2.49V2.75a.25.25 0 0 0-.25-.25Z"></path>
</svg>
</template>

<template id="plus-circle-icon">
  <svg aria-hidden="true" height="16" viewBox="0 0 16 16" version="1.1" width="16" data-view-component="true" class="octicon octicon-plus-circle">
    <path d="M8 0a8 8 0 1 1 0 16A8 8 0 0 1 8 0ZM1.5 8a6.5 6.5 0 1 0 13 0 6.5 6.5 0 0 0-13 0Zm7.25-3.25v2.5h2.5a.75.75 0 0 1 0 1.5h-2.5v2.5a.75.75 0 0 1-1.5 0v-2.5h-2.5a.75.75 0 0 1 0-1.5h2.5v-2.5a.75.75 0 0 1 1.5 0Z"></path>
</svg>
</template>

<template id="circle-icon">
  <svg aria-hidden="true" height="16" viewBox="0 0 16 16" version="1.1" width="16" data-view-component="true" class="octicon octicon-dot-fill">
    <path d="M8 4a4 4 0 1 1 0 8 4 4 0 0 1 0-8Z"></path>
</svg>
</template>

<template id="trash-icon">
  <svg aria-hidden="true" height="16" viewBox="0 0 16 16" version="1.1" width="16" data-view-component="true" class="octicon octicon-trash">
    <path d="M11 1.75V3h2.25a.75.75 0 0 1 0 1.5H2.75a.75.75 0 0 1 0-1.5H5V1.75C5 .784 5.784 0 6.75 0h2.5C10.216 0 11 .784 11 1.75ZM4.496 6.675l.66 6.6a.25.25 0 0 0 .249.225h5.19a.25.25 0 0 0 .249-.225l.66-6.6a.75.75 0 0 1 1.492.149l-.66 6.6A1.748 1.748 0 0 1 10.595 15h-5.19a1.75 1.75 0 0 1-1.741-1.575l-.66-6.6a.75.75 0 1 1 1.492-.15ZM6.5 1.75V3h3V1.75a.25.25 0 0 0-.25-.25h-2.5a.25.25 0 0 0-.25.25Z"></path>
</svg>
</template>

<template id="team-icon">
  <svg aria-hidden="true" height="16" viewBox="0 0 16 16" version="1.1" width="16" data-view-component="true" class="octicon octicon-people">
    <path d="M2 5.5a3.5 3.5 0 1 1 5.898 2.549 5.508 5.508 0 0 1 3.034 4.084.75.75 0 1 1-1.482.235 4 4 0 0 0-7.9 0 .75.75 0 0 1-1.482-.236A5.507 5.507 0 0 1 3.102 8.05 3.493 3.493 0 0 1 2 5.5ZM11 4a3.001 3.001 0 0 1 2.22 5.018 5.01 5.01 0 0 1 2.56 3.012.749.749 0 0 1-.885.954.752.752 0 0 1-.549-.514 3.507 3.507 0 0 0-2.522-2.372.75.75 0 0 1-.574-.73v-.352a.75.75 0 0 1 .416-.672A1.5 1.5 0 0 0 11 5.5.75.75 0 0 1 11 4Zm-5.5-.5a2 2 0 1 0-.001 3.999A2 2 0 0 0 5.5 3.5Z"></path>
</svg>
</template>

<template id="project-icon">
  <svg aria-hidden="true" height="16" viewBox="0 0 16 16" version="1.1" width="16" data-view-component="true" class="octicon octicon-project">
    <path d="M1.75 0h12.5C15.216 0 16 .784 16 1.75v12.5A1.75 1.75 0 0 1 14.25 16H1.75A1.75 1.75 0 0 1 0 14.25V1.75C0 .784.784 0 1.75 0ZM1.5 1.75v12.5c0 .138.112.25.25.25h12.5a.25.25 0 0 0 .25-.25V1.75a.25.25 0 0 0-.25-.25H1.75a.25.25 0 0 0-.25.25ZM11.75 3a.75.75 0 0 1 .75.75v7.5a.75.75 0 0 1-1.5 0v-7.5a.75.75 0 0 1 .75-.75Zm-8.25.75a.75.75 0 0 1 1.5 0v5.5a.75.75 0 0 1-1.5 0ZM8 3a.75.75 0 0 1 .75.75v3.5a.75.75 0 0 1-1.5 0v-3.5A.75.75 0 0 1 8 3Z"></path>
</svg>
</template>

<template id="pencil-icon">
  <svg aria-hidden="true" height="16" viewBox="0 0 16 16" version="1.1" width="16" data-view-component="true" class="octicon octicon-pencil">
    <path d="M11.013 1.427a1.75 1.75 0 0 1 2.474 0l1.086 1.086a1.75 1.75 0 0 1 0 2.474l-8.61 8.61c-.21.21-.47.364-.756.445l-3.251.93a.75.75 0 0 1-.927-.928l.929-3.25c.081-.286.235-.547.445-.758l8.61-8.61Zm.176 4.823L9.75 4.81l-6.286 6.287a.253.253 0 0 0-.064.108l-.558 1.953 1.953-.558a.253.253 0 0 0 .108-.064Zm1.238-3.763a.25.25 0 0 0-.354 0L10.811 3.75l1.439 1.44 1.263-1.263a.25.25 0 0 0 0-.354Z"></path>
</svg>
</template>

<qbsearch-input class="search-input" data-scope="repo:vg309/AIPROJECTUMSL" data-custom-scopes-path="/search/custom_scopes" data-delete-custom-scopes-csrf="Us4zn1319nc74QdODHmj3SOyQIAG2YjnBRcA3xHDeI39zHMoItYMzjzVzTzts2VfEC_Z9zm5tVE8ksns276cuw" data-max-custom-scopes="10" data-header-redesign-enabled="true" data-initial-value="" data-blackbird-suggestions-path="/search/suggestions" data-jump-to-suggestions-path="/_graphql/GetSuggestedNavigationDestinations" data-current-repository="vg309/AIPROJECTUMSL" data-current-org="" data-current-owner="vg309">
  <div
    class="search-input-container search-with-dialog position-relative d-flex flex-row flex-items-center height-auto color-bg-transparent border-0 color-fg-subtle mx-0"
    data-action="click:qbsearch-input#searchInputContainerClicked"
  >
      
            <button type="button" data-action="click:qbsearch-input#handleExpand" class="AppHeader-button AppHeader-search-whenNarrow" aria-label="Search or jump to…" aria-expanded="false" aria-haspopup="dialog">
            <svg aria-hidden="true" height="16" viewBox="0 0 16 16" version="1.1" width="16" data-view-component="true" class="octicon octicon-search">
    <path d="M10.68 11.74a6 6 0 0 1-7.922-8.982 6 6 0 0 1 8.982 7.922l3.04 3.04a.749.749 0 0 1-.326 1.275.749.749 0 0 1-.734-.215ZM11.5 7a4.499 4.499 0 1 0-8.997 0A4.499 4.499 0 0 0 11.5 7Z"></path>
</svg>
          </button>


<div class="AppHeader-search-whenRegular">
  <div class="AppHeader-search-wrap AppHeader-search-wrap--hasTrailing">
    <div class="AppHeader-search-control">
      <label
        for="AppHeader-searchInput"
        aria-label="Search or jump to…"
        class="AppHeader-search-visual--leading"
      >
        <svg aria-hidden="true" height="16" viewBox="0 0 16 16" version="1.1" width="16" data-view-component="true" class="octicon octicon-search">
    <path d="M10.68 11.74a6 6 0 0 1-7.922-8.982 6 6 0 0 1 8.982 7.922l3.04 3.04a.749.749 0 0 1-.326 1.275.749.749 0 0 1-.734-.215ZM11.5 7a4.499 4.499 0 1 0-8.997 0A4.499 4.499 0 0 0 11.5 7Z"></path>
</svg>
      </label>

                <button
            type="button"
            data-target="qbsearch-input.inputButton"
            data-action="click:qbsearch-input#handleExpand"
            class="AppHeader-searchButton form-control input-contrast text-left color-fg-subtle no-wrap"
            data-hotkey="s,/"
          >
            <div class="overflow-hidden">
              <span data-target="qbsearch-input.inputButtonText">
                  Type <kbd class="AppHeader-search-kbd">/</kbd> to search
              </span>
            </div>
          </button>

    </div>


      <button type="button" id="AppHeader-commandPalette-button" class="AppHeader-search-action--trailing js-activate-command-palette" data-analytics-event="{&quot;category&quot;:&quot;SiteHeaderComponent&quot;,&quot;action&quot;:&quot;command_palette&quot;,&quot;label&quot;:&quot;open command palette&quot;}">
        <svg aria-hidden="true" height="16" viewBox="0 0 16 16" version="1.1" width="16" data-view-component="true" class="octicon octicon-command-palette">
    <path d="m6.354 8.04-4.773 4.773a.75.75 0 1 0 1.061 1.06L7.945 8.57a.75.75 0 0 0 0-1.06L2.642 2.206a.75.75 0 0 0-1.06 1.061L6.353 8.04ZM8.75 11.5a.75.75 0 0 0 0 1.5h5.5a.75.75 0 0 0 0-1.5h-5.5Z"></path>
</svg>
      </button>

      <tool-tip id="tooltip-00aadaae-a72e-4e33-ac49-4072cb7a75d9" for="AppHeader-commandPalette-button" data-direction="s" data-type="label" data-view-component="true" class="sr-only position-absolute">Command palette</tool-tip>
  </div>
</div>

    <input type="hidden" name="type" class="js-site-search-type-field">

    
<div class="Overlay--hidden " data-modal-dialog-overlay>
  <modal-dialog data-action="close:qbsearch-input#handleClose cancel:qbsearch-input#handleClose" data-target="qbsearch-input.searchSuggestionsDialog" role="dialog" id="search-suggestions-dialog" aria-modal="true" aria-labelledby="search-suggestions-dialog-header" data-view-component="true" class="Overlay Overlay--width-medium Overlay--height-auto">
      <h1 id="search-suggestions-dialog-header" class="sr-only">Search code, repositories, users, issues, pull requests...</h1>
    <div class="Overlay-body Overlay-body--paddingNone">
      
          <div data-view-component="true">        <div class="search-suggestions position-absolute width-full color-shadow-large border color-fg-default color-bg-default overflow-hidden d-flex flex-column query-builder-container"
          style="border-radius: 12px;"
          data-target="qbsearch-input.queryBuilderContainer"
          hidden
        >
            <!-- '"` --><!-- </textarea></xmp> --></option></form><form id="query-builder-test-form" action="" accept-charset="UTF-8" method="get">
  <query-builder data-target="qbsearch-input.queryBuilder" id="query-builder-query-builder-test" data-filter-key=":" data-view-component="true" class="QueryBuilder search-query-builder">
    <div class="FormControl FormControl--fullWidth">
      <label id="query-builder-test-label" for="query-builder-test" class="FormControl-label sr-only">
        Search
      </label>
      <div class="QueryBuilder-StyledInput width-fit" data-target="query-builder.styledInput">
          <span id="query-builder-test-leadingvisual-wrap" class="FormControl-input-leadingVisualWrap QueryBuilder-leadingVisualWrap">
            <svg aria-hidden="true" height="16" viewBox="0 0 16 16" version="1.1" width="16" data-view-component="true" class="octicon octicon-search FormControl-input-leadingVisual">
    <path d="M10.68 11.74a6 6 0 0 1-7.922-8.982 6 6 0 0 1 8.982 7.922l3.04 3.04a.749.749 0 0 1-.326 1.275.749.749 0 0 1-.734-.215ZM11.5 7a4.499 4.499 0 1 0-8.997 0A4.499 4.499 0 0 0 11.5 7Z"></path>
</svg>
          </span>
        <div data-target="query-builder.styledInputContainer" class="QueryBuilder-StyledInputContainer">
          <div
            aria-hidden="true"
            class="QueryBuilder-StyledInputContent"
            data-target="query-builder.styledInputContent"
          ></div>
          <div class="QueryBuilder-InputWrapper">
            <div aria-hidden="true" class="QueryBuilder-Sizer" data-target="query-builder.sizer"></div>
            <input id="query-builder-test" name="query-builder-test" value="" autocomplete="off" type="text" role="combobox" spellcheck="false" aria-expanded="false" data-target="query-builder.input" data-action="
          input:query-builder#inputChange
          blur:query-builder#inputBlur
          keydown:query-builder#inputKeydown
          focus:query-builder#inputFocus
        " data-view-component="true" class="FormControl-input QueryBuilder-Input FormControl-medium" />
          </div>
        </div>
          
  <button role="button" id="query-builder-test-clear" aria-labelledby="query-builder-test-clear query-builder-test-label" data-target="query-builder.clearButton" data-action="
                click:query-builder#clear
                focus:query-builder#clearButtonFocus
                blur:query-builder#clearButtonBlur
              " variant="small" hidden="hidden" type="button" data-view-component="true" class="Button Button--iconOnly Button--invisible Button--medium mr-1 px-2 py-0 d-flex flex-items-center rounded-1 color-fg-muted">    <svg aria-hidden="true" height="16" viewBox="0 0 16 16" version="1.1" width="16" data-view-component="true" class="octicon octicon-x-circle-fill Button-visual">
    <path d="M2.343 13.657A8 8 0 1 1 13.658 2.343 8 8 0 0 1 2.343 13.657ZM6.03 4.97a.751.751 0 0 0-1.042.018.751.751 0 0 0-.018 1.042L6.94 8 4.97 9.97a.749.749 0 0 0 .326 1.275.749.749 0 0 0 .734-.215L8 9.06l1.97 1.97a.749.749 0 0 0 1.275-.326.749.749 0 0 0-.215-.734L9.06 8l1.97-1.97a.749.749 0 0 0-.326-1.275.749.749 0 0 0-.734.215L8 6.94Z"></path>
</svg>
</button>  

      </div>
      <template id="search-icon">
  <svg aria-hidden="true" height="16" viewBox="0 0 16 16" version="1.1" width="16" data-view-component="true" class="octicon octicon-search">
    <path d="M10.68 11.74a6 6 0 0 1-7.922-8.982 6 6 0 0 1 8.982 7.922l3.04 3.04a.749.749 0 0 1-.326 1.275.749.749 0 0 1-.734-.215ZM11.5 7a4.499 4.499 0 1 0-8.997 0A4.499 4.499 0 0 0 11.5 7Z"></path>
</svg>
</template>

<template id="code-icon">
  <svg aria-hidden="true" height="16" viewBox="0 0 16 16" version="1.1" width="16" data-view-component="true" class="octicon octicon-code">
    <path d="m11.28 3.22 4.25 4.25a.75.75 0 0 1 0 1.06l-4.25 4.25a.749.749 0 0 1-1.275-.326.749.749 0 0 1 .215-.734L13.94 8l-3.72-3.72a.749.749 0 0 1 .326-1.275.749.749 0 0 1 .734.215Zm-6.56 0a.751.751 0 0 1 1.042.018.751.751 0 0 1 .018 1.042L2.06 8l3.72 3.72a.749.749 0 0 1-.326 1.275.749.749 0 0 1-.734-.215L.47 8.53a.75.75 0 0 1 0-1.06Z"></path>
</svg>
</template>

<template id="file-code-icon">
  <svg aria-hidden="true" height="16" viewBox="0 0 16 16" version="1.1" width="16" data-view-component="true" class="octicon octicon-file-code">
    <path d="M4 1.75C4 .784 4.784 0 5.75 0h5.586c.464 0 .909.184 1.237.513l2.914 2.914c.329.328.513.773.513 1.237v8.586A1.75 1.75 0 0 1 14.25 15h-9a.75.75 0 0 1 0-1.5h9a.25.25 0 0 0 .25-.25V6h-2.75A1.75 1.75 0 0 1 10 4.25V1.5H5.75a.25.25 0 0 0-.25.25v2.5a.75.75 0 0 1-1.5 0Zm1.72 4.97a.75.75 0 0 1 1.06 0l2 2a.75.75 0 0 1 0 1.06l-2 2a.749.749 0 0 1-1.275-.326.749.749 0 0 1 .215-.734l1.47-1.47-1.47-1.47a.75.75 0 0 1 0-1.06ZM3.28 7.78 1.81 9.25l1.47 1.47a.751.751 0 0 1-.018 1.042.751.751 0 0 1-1.042.018l-2-2a.75.75 0 0 1 0-1.06l2-2a.751.751 0 0 1 1.042.018.751.751 0 0 1 .018 1.042Zm8.22-6.218V4.25c0 .138.112.25.25.25h2.688l-.011-.013-2.914-2.914-.013-.011Z"></path>
</svg>
</template>

<template id="history-icon">
  <svg aria-hidden="true" height="16" viewBox="0 0 16 16" version="1.1" width="16" data-view-component="true" class="octicon octicon-history">
    <path d="m.427 1.927 1.215 1.215a8.002 8.002 0 1 1-1.6 5.685.75.75 0 1 1 1.493-.154 6.5 6.5 0 1 0 1.18-4.458l1.358 1.358A.25.25 0 0 1 3.896 6H.25A.25.25 0 0 1 0 5.75V2.104a.25.25 0 0 1 .427-.177ZM7.75 4a.75.75 0 0 1 .75.75v2.992l2.028.812a.75.75 0 0 1-.557 1.392l-2.5-1A.751.751 0 0 1 7 8.25v-3.5A.75.75 0 0 1 7.75 4Z"></path>
</svg>
</template>

<template id="repo-icon">
  <svg aria-hidden="true" height="16" viewBox="0 0 16 16" version="1.1" width="16" data-view-component="true" class="octicon octicon-repo">
    <path d="M2 2.5A2.5 2.5 0 0 1 4.5 0h8.75a.75.75 0 0 1 .75.75v12.5a.75.75 0 0 1-.75.75h-2.5a.75.75 0 0 1 0-1.5h1.75v-2h-8a1 1 0 0 0-.714 1.7.75.75 0 1 1-1.072 1.05A2.495 2.495 0 0 1 2 11.5Zm10.5-1h-8a1 1 0 0 0-1 1v6.708A2.486 2.486 0 0 1 4.5 9h8ZM5 12.25a.25.25 0 0 1 .25-.25h3.5a.25.25 0 0 1 .25.25v3.25a.25.25 0 0 1-.4.2l-1.45-1.087a.249.249 0 0 0-.3 0L5.4 15.7a.25.25 0 0 1-.4-.2Z"></path>
</svg>
</template>

<template id="bookmark-icon">
  <svg aria-hidden="true" height="16" viewBox="0 0 16 16" version="1.1" width="16" data-view-component="true" class="octicon octicon-bookmark">
    <path d="M3 2.75C3 1.784 3.784 1 4.75 1h6.5c.966 0 1.75.784 1.75 1.75v11.5a.75.75 0 0 1-1.227.579L8 11.722l-3.773 3.107A.751.751 0 0 1 3 14.25Zm1.75-.25a.25.25 0 0 0-.25.25v9.91l3.023-2.489a.75.75 0 0 1 .954 0l3.023 2.49V2.75a.25.25 0 0 0-.25-.25Z"></path>
</svg>
</template>

<template id="plus-circle-icon">
  <svg aria-hidden="true" height="16" viewBox="0 0 16 16" version="1.1" width="16" data-view-component="true" class="octicon octicon-plus-circle">
    <path d="M8 0a8 8 0 1 1 0 16A8 8 0 0 1 8 0ZM1.5 8a6.5 6.5 0 1 0 13 0 6.5 6.5 0 0 0-13 0Zm7.25-3.25v2.5h2.5a.75.75 0 0 1 0 1.5h-2.5v2.5a.75.75 0 0 1-1.5 0v-2.5h-2.5a.75.75 0 0 1 0-1.5h2.5v-2.5a.75.75 0 0 1 1.5 0Z"></path>
</svg>
</template>

<template id="circle-icon">
  <svg aria-hidden="true" height="16" viewBox="0 0 16 16" version="1.1" width="16" data-view-component="true" class="octicon octicon-dot-fill">
    <path d="M8 4a4 4 0 1 1 0 8 4 4 0 0 1 0-8Z"></path>
</svg>
</template>

<template id="trash-icon">
  <svg aria-hidden="true" height="16" viewBox="0 0 16 16" version="1.1" width="16" data-view-component="true" class="octicon octicon-trash">
    <path d="M11 1.75V3h2.25a.75.75 0 0 1 0 1.5H2.75a.75.75 0 0 1 0-1.5H5V1.75C5 .784 5.784 0 6.75 0h2.5C10.216 0 11 .784 11 1.75ZM4.496 6.675l.66 6.6a.25.25 0 0 0 .249.225h5.19a.25.25 0 0 0 .249-.225l.66-6.6a.75.75 0 0 1 1.492.149l-.66 6.6A1.748 1.748 0 0 1 10.595 15h-5.19a1.75 1.75 0 0 1-1.741-1.575l-.66-6.6a.75.75 0 1 1 1.492-.15ZM6.5 1.75V3h3V1.75a.25.25 0 0 0-.25-.25h-2.5a.25.25 0 0 0-.25.25Z"></path>
</svg>
</template>

<template id="team-icon">
  <svg aria-hidden="true" height="16" viewBox="0 0 16 16" version="1.1" width="16" data-view-component="true" class="octicon octicon-people">
    <path d="M2 5.5a3.5 3.5 0 1 1 5.898 2.549 5.508 5.508 0 0 1 3.034 4.084.75.75 0 1 1-1.482.235 4 4 0 0 0-7.9 0 .75.75 0 0 1-1.482-.236A5.507 5.507 0 0 1 3.102 8.05 3.493 3.493 0 0 1 2 5.5ZM11 4a3.001 3.001 0 0 1 2.22 5.018 5.01 5.01 0 0 1 2.56 3.012.749.749 0 0 1-.885.954.752.752 0 0 1-.549-.514 3.507 3.507 0 0 0-2.522-2.372.75.75 0 0 1-.574-.73v-.352a.75.75 0 0 1 .416-.672A1.5 1.5 0 0 0 11 5.5.75.75 0 0 1 11 4Zm-5.5-.5a2 2 0 1 0-.001 3.999A2 2 0 0 0 5.5 3.5Z"></path>
</svg>
</template>

<template id="project-icon">
  <svg aria-hidden="true" height="16" viewBox="0 0 16 16" version="1.1" width="16" data-view-component="true" class="octicon octicon-project">
    <path d="M1.75 0h12.5C15.216 0 16 .784 16 1.75v12.5A1.75 1.75 0 0 1 14.25 16H1.75A1.75 1.75 0 0 1 0 14.25V1.75C0 .784.784 0 1.75 0ZM1.5 1.75v12.5c0 .138.112.25.25.25h12.5a.25.25 0 0 0 .25-.25V1.75a.25.25 0 0 0-.25-.25H1.75a.25.25 0 0 0-.25.25ZM11.75 3a.75.75 0 0 1 .75.75v7.5a.75.75 0 0 1-1.5 0v-7.5a.75.75 0 0 1 .75-.75Zm-8.25.75a.75.75 0 0 1 1.5 0v5.5a.75.75 0 0 1-1.5 0ZM8 3a.75.75 0 0 1 .75.75v3.5a.75.75 0 0 1-1.5 0v-3.5A.75.75 0 0 1 8 3Z"></path>
</svg>
</template>

<template id="pencil-icon">
  <svg aria-hidden="true" height="16" viewBox="0 0 16 16" version="1.1" width="16" data-view-component="true" class="octicon octicon-pencil">
    <path d="M11.013 1.427a1.75 1.75 0 0 1 2.474 0l1.086 1.086a1.75 1.75 0 0 1 0 2.474l-8.61 8.61c-.21.21-.47.364-.756.445l-3.251.93a.75.75 0 0 1-.927-.928l.929-3.25c.081-.286.235-.547.445-.758l8.61-8.61Zm.176 4.823L9.75 4.81l-6.286 6.287a.253.253 0 0 0-.064.108l-.558 1.953 1.953-.558a.253.253 0 0 0 .108-.064Zm1.238-3.763a.25.25 0 0 0-.354 0L10.811 3.75l1.439 1.44 1.263-1.263a.25.25 0 0 0 0-.354Z"></path>
</svg>
</template>

        <div class="position-relative">
                <ul
                  role="listbox"
                  class="ActionListWrap QueryBuilder-ListWrap"
                  aria-label="Suggestions"
                  data-action="
                    combobox-commit:query-builder#comboboxCommit
                    mousedown:query-builder#resultsMousedown
                  "
                  data-target="query-builder.resultsList"
                  data-persist-list=false
                  id="query-builder-test-results"
                ></ul>
        </div>
    </div>
    <div data-target="query-builder.screenReaderFeedback" aria-live="polite" aria-atomic="true" class="sr-only"></div>
</query-builder></form>
          <div class="d-flex flex-row color-fg-muted px-3 text-small color-bg-default search-feedback-prompt">
            <a target="_blank" href="https://docs.github.com/en/search-github/github-code-search/understanding-github-code-search-syntax" data-view-component="true" class="color-fg-accent text-normal ml-2">
              Search syntax tips
</a>            <div class="d-flex flex-1"></div>
            <span data-view-component="true" class="Label Label--success">Beta</span>
              <button data-action="click:qbsearch-input#showFeedbackDialog" type="button" data-view-component="true" class="Button--link Button--medium Button color-fg-accent text-normal ml-2">    <span class="Button-content">
      <span class="Button-label">Give feedback</span>
    </span>
</button>  
          </div>
        </div>
</div>

    </div>
</modal-dialog></div>
  </div>
  <div data-action="click:qbsearch-input#retract" class="dark-backdrop position-fixed width-full" hidden data-target="qbsearch-input.darkBackdrop"></div>
  <div class="color-fg-default">
    
<div class="Overlay--hidden Overlay-backdrop--center" data-modal-dialog-overlay>
  <modal-dialog data-target="qbsearch-input.feedbackDialog" data-action="close:qbsearch-input#handleDialogClose cancel:qbsearch-input#handleDialogClose" role="dialog" id="feedback-dialog" aria-modal="true" aria-disabled="true" aria-describedby="feedback-dialog-title feedback-dialog-description" data-view-component="true" class="Overlay Overlay-whenNarrow Overlay--size-medium Overlay--motion-scaleFade">
    <div data-view-component="true" class="Overlay-header">
  <div class="Overlay-headerContentWrap">
    <div class="Overlay-titleWrap">
      <h1 class="Overlay-title " id="feedback-dialog-title">
        Provide feedback
      </h1>
    </div>
    <div class="Overlay-actionWrap">
      <button data-close-dialog-id="feedback-dialog" aria-label="Close" type="button" data-view-component="true" class="close-button Overlay-closeButton"><svg aria-hidden="true" height="16" viewBox="0 0 16 16" version="1.1" width="16" data-view-component="true" class="octicon octicon-x">
    <path d="M3.72 3.72a.75.75 0 0 1 1.06 0L8 6.94l3.22-3.22a.749.749 0 0 1 1.275.326.749.749 0 0 1-.215.734L9.06 8l3.22 3.22a.749.749 0 0 1-.326 1.275.749.749 0 0 1-.734-.215L8 9.06l-3.22 3.22a.751.751 0 0 1-1.042-.018.751.751 0 0 1-.018-1.042L6.94 8 3.72 4.78a.75.75 0 0 1 0-1.06Z"></path>
</svg></button>
    </div>
  </div>
</div>
      <div data-view-component="true" class="Overlay-body">        <!-- '"` --><!-- </textarea></xmp> --></option></form><form id="code-search-feedback-form" data-turbo="false" action="/search/feedback" accept-charset="UTF-8" method="post"><input type="hidden" name="authenticity_token" value="kvI-5Ynf_RduLz9j3myJobQjzlPEBPEhIAUtAsr-Cw0M0z-yKJ47T83XmEByb07CJZIdbUky7TfkxXXZF9olMg" />
          <p>We read every piece of feedback, and take your input very seriously.</p>
          <textarea name="feedback" class="form-control width-full mb-2" style="height: 120px" id="feedback"></textarea>
          <input name="include_email" id="include_email" aria-label="Include my email address so I can be contacted" class="form-control mr-2" type="checkbox">
          <label for="include_email" style="font-weight: normal">Include my email address so I can be contacted</label>
</form></div>
      <div data-view-component="true" class="Overlay-footer Overlay-footer--alignEnd">          <button data-close-dialog-id="feedback-dialog" type="button" data-view-component="true" class="btn">    Cancel
</button>
          <button form="code-search-feedback-form" data-action="click:qbsearch-input#submitFeedback" type="submit" data-view-component="true" class="btn-primary btn">    Submit feedback
</button>
</div>
</modal-dialog></div>

      <custom-scopes data-target="qbsearch-input.customScopesManager">
      
<div class="Overlay--hidden Overlay-backdrop--center" data-modal-dialog-overlay>
  <modal-dialog data-target="custom-scopes.customScopesModalDialog" data-action="close:qbsearch-input#handleDialogClose cancel:qbsearch-input#handleDialogClose" role="dialog" id="custom-scopes-dialog" aria-modal="true" aria-disabled="true" aria-describedby="custom-scopes-dialog-title custom-scopes-dialog-description" data-view-component="true" class="Overlay Overlay-whenNarrow Overlay--size-medium Overlay--motion-scaleFade">
    <div data-view-component="true" class="Overlay-header Overlay-header--divided">
  <div class="Overlay-headerContentWrap">
    <div class="Overlay-titleWrap">
      <h1 class="Overlay-title " id="custom-scopes-dialog-title">
        Saved searches
      </h1>
        <h2 id="custom-scopes-dialog-description" class="Overlay-description">Use saved searches to filter your results more quickly</h2>
    </div>
    <div class="Overlay-actionWrap">
      <button data-close-dialog-id="custom-scopes-dialog" aria-label="Close" type="button" data-view-component="true" class="close-button Overlay-closeButton"><svg aria-hidden="true" height="16" viewBox="0 0 16 16" version="1.1" width="16" data-view-component="true" class="octicon octicon-x">
    <path d="M3.72 3.72a.75.75 0 0 1 1.06 0L8 6.94l3.22-3.22a.749.749 0 0 1 1.275.326.749.749 0 0 1-.215.734L9.06 8l3.22 3.22a.749.749 0 0 1-.326 1.275.749.749 0 0 1-.734-.215L8 9.06l-3.22 3.22a.751.751 0 0 1-1.042-.018.751.751 0 0 1-.018-1.042L6.94 8 3.72 4.78a.75.75 0 0 1 0-1.06Z"></path>
</svg></button>
    </div>
  </div>
</div>
      <div data-view-component="true" class="Overlay-body">          <div data-target="custom-scopes.customScopesModalDialogFlash"></div>

          <div hidden class="create-custom-scope-form" data-target="custom-scopes.createCustomScopeForm">
          <!-- '"` --><!-- </textarea></xmp> --></option></form><form id="custom-scopes-dialog-form" data-turbo="false" action="/search/custom_scopes" accept-charset="UTF-8" method="post"><input type="hidden" name="authenticity_token" value="y95NY6mh3ki2f6LODBlNrAEWmp-quQPqyHo59bbc_sevQZ0WvVCa62n8fTTUF9l_zIUUlKkLmFCct5fw7oUIlw" />
            <div data-target="custom-scopes.customScopesModalDialogFlash"></div>

            <input type="hidden" id="custom_scope_id" name="custom_scope_id" data-target="custom-scopes.customScopesIdField">

            <div class="form-group">
              <label for="custom_scope_name">Name</label>
              <auto-check src="/search/custom_scopes/check_name" required>
                <input
                  type="text"
                  name="custom_scope_name"
                  id="custom_scope_name"
                  data-target="custom-scopes.customScopesNameField"
                  class="form-control"
                  autocomplete="off"
                  placeholder="github-ruby"
                  required
                  maxlength="50">
                <input type="hidden" value="pFTh1x-cyJlQDWnea9gJ-qTuuOqWR6o-IUQc-82iJVCV8adgAe7AFxBXzhXy6pVjLre5nNucU2jiWyWpz-V1Bg" data-csrf="true" />
              </auto-check>
            </div>

            <div class="form-group">
              <label for="custom_scope_query">Query</label>
              <input
                type="text"
                name="custom_scope_query"
                id="custom_scope_query"
                data-target="custom-scopes.customScopesQueryField"
                class="form-control"
                autocomplete="off"
                placeholder="(repo:mona/a OR repo:mona/b) AND lang:python"
                required
                maxlength="500">
            </div>

            <p class="text-small color-fg-muted">
              To see all available qualifiers, see our <a href="https://docs.github.com/en/search-github/github-code-search/understanding-github-code-search-syntax">documentation</a>.
            </p>
</form>          </div>

          <div data-target="custom-scopes.manageCustomScopesForm">
            <div data-target="custom-scopes.list"></div>
          </div>

</div>
      <div data-view-component="true" class="Overlay-footer Overlay-footer--alignEnd Overlay-footer--divided">            <button data-action="click:custom-scopes#customScopesCancel" type="button" data-view-component="true" class="btn">    Cancel
</button>
            <button form="custom-scopes-dialog-form" data-action="click:custom-scopes#customScopesSubmit" data-target="custom-scopes.customScopesSubmitButton" type="submit" data-view-component="true" class="btn-primary btn">    Create saved search
</button>
</div>
</modal-dialog></div>
      </custom-scopes>
  </div>
</qbsearch-input><input type="hidden" value="XPunLwqMxnP9M_iy7jLQEYwW-okErzU1ARQuGQ8v7QCnva1wtzk4lkFnoDk4TcHKOfN6TlmO4VJG9X15Cn32CQ" data-csrf="true" class="js-data-jump-to-suggestions-path-csrf" />

          </div>

        <div class="AppHeader-actions">
          <details data-view-component="true" class="details-overlay details-reset position-relative">
    <summary data-analytics-event="{&quot;category&quot;:&quot;SiteHeaderComponent&quot;,&quot;action&quot;:&quot;add_dropdown&quot;,&quot;label&quot;:&quot;open menu&quot;}" role="button" data-view-component="true" class="AppHeader-button btn p-0 mr-0">    <svg aria-label="Create new..." aria-hidden="false" role="img" height="16" viewBox="0 0 16 16" version="1.1" width="16" data-view-component="true" class="octicon octicon-plus">
    <path d="M7.75 2a.75.75 0 0 1 .75.75V7h4.25a.75.75 0 0 1 0 1.5H8.5v4.25a.75.75 0 0 1-1.5 0V8.5H2.75a.75.75 0 0 1 0-1.5H7V2.75A.75.75 0 0 1 7.75 2Z"></path>
</svg>
</summary>
  <details-menu data-view-component="true" class="dropdown-menu dropdown-menu-sw border-0 mr-n1">    <a role="menuitem" class="dropdown-item" href="/new" data-analytics-event="{&quot;category&quot;:&quot;SiteHeaderComponent&quot;,&quot;action&quot;:&quot;add_dropdown&quot;,&quot;label&quot;:&quot;new repository&quot;}">
      New repository
    </a>

      <a role="menuitem" class="dropdown-item" href="/new/import" data-analytics-event="{&quot;category&quot;:&quot;SiteHeaderComponent&quot;,&quot;action&quot;:&quot;add_dropdown&quot;,&quot;label&quot;:&quot;import repository&quot;}">
        Import repository
      </a>

      <a role="menuitem" class="dropdown-item" href="/codespaces/new" data-analytics-event="{&quot;category&quot;:&quot;SiteHeaderComponent&quot;,&quot;action&quot;:&quot;add_dropdown&quot;,&quot;label&quot;:&quot;new codespace&quot;}">
        New codespace
      </a>

    <a role="menuitem" class="dropdown-item" href="https://gist.github.com/" data-analytics-event="{&quot;category&quot;:&quot;SiteHeaderComponent&quot;,&quot;action&quot;:&quot;add_dropdown&quot;,&quot;label&quot;:&quot;new gist&quot;}">
      New gist
    </a>

      <a role="menuitem" class="dropdown-item" href="/organizations/new" data-analytics-event="{&quot;category&quot;:&quot;SiteHeaderComponent&quot;,&quot;action&quot;:&quot;add_dropdown&quot;,&quot;label&quot;:&quot;new organization&quot;}">
        New organization
      </a>


</details-menu>
</details>
          

<notification-indicator data-channel="eyJjIjoibm90aWZpY2F0aW9uLWNoYW5nZWQ6MTMxOTIzNjI3IiwidCI6MTY4Mjk1NDExN30=--1f46b6fac0b848da11facff4cecf2f336ffa8d8a3520fcae9403ffdb0199a39d" data-indicator-mode="none" data-tooltip-global="You have unread notifications" data-tooltip-unavailable="Notifications are unavailable at the moment." data-tooltip-none="You have no unread notifications" data-header-redesign-enabled="true" data-fetch-indicator-src="/notifications/indicator" data-fetch-indicator-enabled="true" data-view-component="true" class="js-socket-channel">
  <a id="AppHeader-notifications-button" href="/notifications"
    class="AppHeader-button"

    style="width:32px;height:32px;"

    data-hotkey="g n"
    data-target="notification-indicator.link"
    aria-label="Notifications"

      data-analytics-event="{&quot;category&quot;:&quot;SiteHeaderComponent&quot;,&quot;action&quot;:&quot;notifications&quot;,&quot;label&quot;:null}"
  >

    <span
      data-target="notification-indicator.badge"
      class="mail-status unread d-none" hidden>
    </span>

      <svg aria-hidden="true" height="16" viewBox="0 0 16 16" version="1.1" width="16" data-view-component="true" class="octicon octicon-inbox color-fg-muted mr-0">
    <path d="M2.8 2.06A1.75 1.75 0 0 1 4.41 1h7.18c.7 0 1.333.417 1.61 1.06l2.74 6.395c.04.093.06.194.06.295v4.5A1.75 1.75 0 0 1 14.25 15H1.75A1.75 1.75 0 0 1 0 13.25v-4.5c0-.101.02-.202.06-.295Zm1.61.44a.25.25 0 0 0-.23.152L1.887 8H4.75a.75.75 0 0 1 .6.3L6.625 10h2.75l1.275-1.7a.75.75 0 0 1 .6-.3h2.863L11.82 2.652a.25.25 0 0 0-.23-.152Zm10.09 7h-2.875l-1.275 1.7a.75.75 0 0 1-.6.3h-3.5a.75.75 0 0 1-.6-.3L4.375 9.5H1.5v3.75c0 .138.112.25.25.25h12.5a.25.25 0 0 0 .25-.25Z"></path>
</svg>
  </a>

    <tool-tip data-target="notification-indicator.tooltip" id="tooltip-5c45e415-bce2-4fbd-bd4c-fb5c5982576c" for="AppHeader-notifications-button" data-direction="s" data-type="description" data-view-component="true" class="sr-only position-absolute">Notifications</tool-tip>
</notification-indicator>
        </div>
        <div class="AppHeader-user">
          <deferred-side-panel data-url="/_side-panels/user?memex_enabled=true&amp;repository=AIPROJECTUMSL&amp;user=vg309&amp;user_can_create_organizations=true&amp;user_id=131923627">
  <include-fragment data-target="deferred-side-panel.fragment">
      <user-drawer-side-panel>
      <button aria-label="Open side panel" data-action="click:deferred-side-panel#loadPanel click:deferred-side-panel#panelOpened" data-show-dialog-id="dialog-c3ebeae8-4c5c-4ff1-8834-b7534083e450" id="dialog-show-dialog-c3ebeae8-4c5c-4ff1-8834-b7534083e450" type="button" data-view-component="true" class="AppHeader-logo Button--invisible Button--medium Button Button--invisible-noVisuals color-bg-transparent p-0">    <span class="Button-content">
      <span class="Button-label"><img src="https://avatars.githubusercontent.com/u/131923627?v=4" alt="" size="32" height="32" width="32" data-view-component="true" class="avatar circle" /></span>
    </span>
</button>  

<div class="Overlay--hidden Overlay-backdrop--side Overlay-backdrop--placement-right" data-modal-dialog-overlay>
  <modal-dialog data-target="deferred-side-panel.panel" role="dialog" id="dialog-c3ebeae8-4c5c-4ff1-8834-b7534083e450" aria-modal="true" aria-disabled="true" aria-describedby="dialog-c3ebeae8-4c5c-4ff1-8834-b7534083e450-title dialog-c3ebeae8-4c5c-4ff1-8834-b7534083e450-description" data-view-component="true" class="Overlay Overlay-whenNarrow Overlay--size-small-portrait Overlay--motion-scaleFade SidePanel">
    <div styles="flex-direction: row;" data-view-component="true" class="Overlay-header">
  <div class="Overlay-headerContentWrap">
    <div class="Overlay-titleWrap">
      <h1 class="Overlay-title sr-only" id="dialog-c3ebeae8-4c5c-4ff1-8834-b7534083e450-title">
        User Navigation
      </h1>
            <div data-view-component="true" class="d-flex">
      <div data-view-component="true" class="AppHeader-logo position-relative">
        <img src="https://avatars.githubusercontent.com/u/131923627?v=4" alt="" size="32" height="32" width="32" data-view-component="true" class="avatar circle" />
</div>        <div data-view-component="true" class="d-flex width-full">        <div data-view-component="true" class="lh-condensed d-flex flex-column flex-justify-center ml-2 f5 mr-auto">
          <span data-view-component="true" class="Truncate d-block text-bold">
    <span data-view-component="true" class="Truncate-text">
            vg309
</span>
</span>          </div>
</div>
</div>
    </div>
    <div class="Overlay-actionWrap">
      <button data-close-dialog-id="dialog-c3ebeae8-4c5c-4ff1-8834-b7534083e450" aria-label="Close" type="button" data-view-component="true" class="close-button Overlay-closeButton"><svg aria-hidden="true" height="16" viewBox="0 0 16 16" version="1.1" width="16" data-view-component="true" class="octicon octicon-x">
    <path d="M3.72 3.72a.75.75 0 0 1 1.06 0L8 6.94l3.22-3.22a.749.749 0 0 1 1.275.326.749.749 0 0 1-.215.734L9.06 8l3.22 3.22a.749.749 0 0 1-.326 1.275.749.749 0 0 1-.734-.215L8 9.06l-3.22 3.22a.751.751 0 0 1-1.042-.018.751.751 0 0 1-.018-1.042L6.94 8 3.72 4.78a.75.75 0 0 1 0-1.06Z"></path>
</svg></button>
    </div>
  </div>
</div>
      <div data-view-component="true" class="Overlay-body d-flex flex-column height-full px-2">
      <div data-view-component="true" class="my-3 d-flex flex-justify-center height-full">
        <svg style="box-sizing: content-box; color: var(--color-icon-primary);" width="16" height="16" viewBox="0 0 16 16" fill="none" data-view-component="true" class="anim-rotate">
  <circle cx="8" cy="8" r="7" stroke="currentColor" stroke-opacity="0.25" stroke-width="2" vector-effect="non-scaling-stroke" />
  <path d="M15 8a7.002 7.002 0 00-7-7" stroke="currentColor" stroke-width="2" stroke-linecap="round" vector-effect="non-scaling-stroke" />
</svg>
</div>
</div>
      
</modal-dialog></div>
  </user-drawer-side-panel>

  </include-fragment>
</deferred-side-panel>
        </div>
      </div>
    </div>


      <div class="AppHeader-localBar" >
        <nav data-pjax="#js-repo-pjax-container" aria-label="Repository" data-view-component="true" class="js-repo-nav js-sidenav-container-pjax js-responsive-underlinenav overflow-hidden UnderlineNav">

  <ul data-view-component="true" class="UnderlineNav-body list-style-none">
      <li data-view-component="true" class="d-inline-flex">
  <a id="code-tab" href="/vg309/AIPROJECTUMSL" data-tab-item="i0code-tab" data-selected-links="repo_source repo_downloads repo_commits repo_releases repo_tags repo_branches repo_packages repo_deployments /vg309/AIPROJECTUMSL" data-pjax="#repo-content-pjax-container" data-turbo-frame="repo-content-turbo-frame" data-hotkey="g c" data-analytics-event="{&quot;category&quot;:&quot;Underline navbar&quot;,&quot;action&quot;:&quot;Click tab&quot;,&quot;label&quot;:&quot;Code&quot;,&quot;target&quot;:&quot;UNDERLINE_NAV.TAB&quot;}" data-view-component="true" class="UnderlineNav-item no-wrap js-responsive-underlinenav-item js-selected-navigation-item">
    
              <svg aria-hidden="true" height="16" viewBox="0 0 16 16" version="1.1" width="16" data-view-component="true" class="octicon octicon-code UnderlineNav-octicon d-none d-sm-inline">
    <path d="m11.28 3.22 4.25 4.25a.75.75 0 0 1 0 1.06l-4.25 4.25a.749.749 0 0 1-1.275-.326.749.749 0 0 1 .215-.734L13.94 8l-3.72-3.72a.749.749 0 0 1 .326-1.275.749.749 0 0 1 .734.215Zm-6.56 0a.751.751 0 0 1 1.042.018.751.751 0 0 1 .018 1.042L2.06 8l3.72 3.72a.749.749 0 0 1-.326 1.275.749.749 0 0 1-.734-.215L.47 8.53a.75.75 0 0 1 0-1.06Z"></path>
</svg>
        <span data-content="Code">Code</span>
          <span id="code-repo-tab-count" data-pjax-replace="" data-turbo-replace="" title="Not available" data-view-component="true" class="Counter"></span>


    
</a></li>
      <li data-view-component="true" class="d-inline-flex">
  <a id="issues-tab" href="/vg309/AIPROJECTUMSL/issues" data-tab-item="i1issues-tab" data-selected-links="repo_issues repo_labels repo_milestones /vg309/AIPROJECTUMSL/issues" data-pjax="#repo-content-pjax-container" data-turbo-frame="repo-content-turbo-frame" data-hotkey="g i" data-analytics-event="{&quot;category&quot;:&quot;Underline navbar&quot;,&quot;action&quot;:&quot;Click tab&quot;,&quot;label&quot;:&quot;Issues&quot;,&quot;target&quot;:&quot;UNDERLINE_NAV.TAB&quot;}" data-view-component="true" class="UnderlineNav-item no-wrap js-responsive-underlinenav-item js-selected-navigation-item">
    
              <svg aria-hidden="true" height="16" viewBox="0 0 16 16" version="1.1" width="16" data-view-component="true" class="octicon octicon-issue-opened UnderlineNav-octicon d-none d-sm-inline">
    <path d="M8 9.5a1.5 1.5 0 1 0 0-3 1.5 1.5 0 0 0 0 3Z"></path><path d="M8 0a8 8 0 1 1 0 16A8 8 0 0 1 8 0ZM1.5 8a6.5 6.5 0 1 0 13 0 6.5 6.5 0 0 0-13 0Z"></path>
</svg>
        <span data-content="Issues">Issues</span>
          <span id="issues-repo-tab-count" data-pjax-replace="" data-turbo-replace="" title="0" hidden="hidden" data-view-component="true" class="Counter">0</span>


    
</a></li>
      <li data-view-component="true" class="d-inline-flex">
  <a id="pull-requests-tab" href="/vg309/AIPROJECTUMSL/pulls" data-tab-item="i2pull-requests-tab" data-selected-links="repo_pulls checks /vg309/AIPROJECTUMSL/pulls" data-pjax="#repo-content-pjax-container" data-turbo-frame="repo-content-turbo-frame" data-hotkey="g p" data-analytics-event="{&quot;category&quot;:&quot;Underline navbar&quot;,&quot;action&quot;:&quot;Click tab&quot;,&quot;label&quot;:&quot;Pull requests&quot;,&quot;target&quot;:&quot;UNDERLINE_NAV.TAB&quot;}" data-view-component="true" class="UnderlineNav-item no-wrap js-responsive-underlinenav-item js-selected-navigation-item">
    
              <svg aria-hidden="true" height="16" viewBox="0 0 16 16" version="1.1" width="16" data-view-component="true" class="octicon octicon-git-pull-request UnderlineNav-octicon d-none d-sm-inline">
    <path d="M1.5 3.25a2.25 2.25 0 1 1 3 2.122v5.256a2.251 2.251 0 1 1-1.5 0V5.372A2.25 2.25 0 0 1 1.5 3.25Zm5.677-.177L9.573.677A.25.25 0 0 1 10 .854V2.5h1A2.5 2.5 0 0 1 13.5 5v5.628a2.251 2.251 0 1 1-1.5 0V5a1 1 0 0 0-1-1h-1v1.646a.25.25 0 0 1-.427.177L7.177 3.427a.25.25 0 0 1 0-.354ZM3.75 2.5a.75.75 0 1 0 0 1.5.75.75 0 0 0 0-1.5Zm0 9.5a.75.75 0 1 0 0 1.5.75.75 0 0 0 0-1.5Zm8.25.75a.75.75 0 1 0 1.5 0 .75.75 0 0 0-1.5 0Z"></path>
</svg>
        <span data-content="Pull requests">Pull requests</span>
          <span id="pull-requests-repo-tab-count" data-pjax-replace="" data-turbo-replace="" title="0" hidden="hidden" data-view-component="true" class="Counter">0</span>


    
</a></li>
      <li data-view-component="true" class="d-inline-flex">
  <a id="actions-tab" href="/vg309/AIPROJECTUMSL/actions" data-tab-item="i3actions-tab" data-selected-links="repo_actions /vg309/AIPROJECTUMSL/actions" data-pjax="#repo-content-pjax-container" data-turbo-frame="repo-content-turbo-frame" data-hotkey="g a" data-analytics-event="{&quot;category&quot;:&quot;Underline navbar&quot;,&quot;action&quot;:&quot;Click tab&quot;,&quot;label&quot;:&quot;Actions&quot;,&quot;target&quot;:&quot;UNDERLINE_NAV.TAB&quot;}" data-view-component="true" class="UnderlineNav-item no-wrap js-responsive-underlinenav-item js-selected-navigation-item">
    
              <svg aria-hidden="true" height="16" viewBox="0 0 16 16" version="1.1" width="16" data-view-component="true" class="octicon octicon-play UnderlineNav-octicon d-none d-sm-inline">
    <path d="M8 0a8 8 0 1 1 0 16A8 8 0 0 1 8 0ZM1.5 8a6.5 6.5 0 1 0 13 0 6.5 6.5 0 0 0-13 0Zm4.879-2.773 4.264 2.559a.25.25 0 0 1 0 .428l-4.264 2.559A.25.25 0 0 1 6 10.559V5.442a.25.25 0 0 1 .379-.215Z"></path>
</svg>
        <span data-content="Actions">Actions</span>
          <span id="actions-repo-tab-count" data-pjax-replace="" data-turbo-replace="" title="Not available" data-view-component="true" class="Counter"></span>


    
</a></li>
      <li data-view-component="true" class="d-inline-flex">
  <a id="projects-tab" href="/vg309/AIPROJECTUMSL/projects" data-tab-item="i4projects-tab" data-selected-links="repo_projects new_repo_project repo_project /vg309/AIPROJECTUMSL/projects" data-pjax="#repo-content-pjax-container" data-turbo-frame="repo-content-turbo-frame" data-hotkey="g b" data-analytics-event="{&quot;category&quot;:&quot;Underline navbar&quot;,&quot;action&quot;:&quot;Click tab&quot;,&quot;label&quot;:&quot;Projects&quot;,&quot;target&quot;:&quot;UNDERLINE_NAV.TAB&quot;}" data-view-component="true" class="UnderlineNav-item no-wrap js-responsive-underlinenav-item js-selected-navigation-item">
    
              <svg aria-hidden="true" height="16" viewBox="0 0 16 16" version="1.1" width="16" data-view-component="true" class="octicon octicon-table UnderlineNav-octicon d-none d-sm-inline">
    <path d="M0 1.75C0 .784.784 0 1.75 0h12.5C15.216 0 16 .784 16 1.75v12.5A1.75 1.75 0 0 1 14.25 16H1.75A1.75 1.75 0 0 1 0 14.25ZM6.5 6.5v8h7.75a.25.25 0 0 0 .25-.25V6.5Zm8-1.5V1.75a.25.25 0 0 0-.25-.25H6.5V5Zm-13 1.5v7.75c0 .138.112.25.25.25H5v-8ZM5 5V1.5H1.75a.25.25 0 0 0-.25.25V5Z"></path>
</svg>
        <span data-content="Projects">Projects</span>
          <span id="projects-repo-tab-count" data-pjax-replace="" data-turbo-replace="" title="0" hidden="hidden" data-view-component="true" class="Counter">0</span>


    
</a></li>
      <li data-view-component="true" class="d-inline-flex">
  <a id="wiki-tab" href="/vg309/AIPROJECTUMSL/wiki" data-tab-item="i5wiki-tab" data-selected-links="repo_wiki /vg309/AIPROJECTUMSL/wiki" data-pjax="#repo-content-pjax-container" data-turbo-frame="repo-content-turbo-frame" data-hotkey="g w" data-analytics-event="{&quot;category&quot;:&quot;Underline navbar&quot;,&quot;action&quot;:&quot;Click tab&quot;,&quot;label&quot;:&quot;Wiki&quot;,&quot;target&quot;:&quot;UNDERLINE_NAV.TAB&quot;}" data-view-component="true" class="UnderlineNav-item no-wrap js-responsive-underlinenav-item js-selected-navigation-item">
    
              <svg aria-hidden="true" height="16" viewBox="0 0 16 16" version="1.1" width="16" data-view-component="true" class="octicon octicon-book UnderlineNav-octicon d-none d-sm-inline">
    <path d="M0 1.75A.75.75 0 0 1 .75 1h4.253c1.227 0 2.317.59 3 1.501A3.743 3.743 0 0 1 11.006 1h4.245a.75.75 0 0 1 .75.75v10.5a.75.75 0 0 1-.75.75h-4.507a2.25 2.25 0 0 0-1.591.659l-.622.621a.75.75 0 0 1-1.06 0l-.622-.621A2.25 2.25 0 0 0 5.258 13H.75a.75.75 0 0 1-.75-.75Zm7.251 10.324.004-5.073-.002-2.253A2.25 2.25 0 0 0 5.003 2.5H1.5v9h3.757a3.75 3.75 0 0 1 1.994.574ZM8.755 4.75l-.004 7.322a3.752 3.752 0 0 1 1.992-.572H14.5v-9h-3.495a2.25 2.25 0 0 0-2.25 2.25Z"></path>
</svg>
        <span data-content="Wiki">Wiki</span>
          <span id="wiki-repo-tab-count" data-pjax-replace="" data-turbo-replace="" title="Not available" data-view-component="true" class="Counter"></span>


    
</a></li>
      <li data-view-component="true" class="d-inline-flex">
  <a id="security-tab" href="/vg309/AIPROJECTUMSL/security" data-tab-item="i6security-tab" data-selected-links="security overview alerts policy token_scanning code_scanning /vg309/AIPROJECTUMSL/security" data-pjax="#repo-content-pjax-container" data-turbo-frame="repo-content-turbo-frame" data-hotkey="g s" data-analytics-event="{&quot;category&quot;:&quot;Underline navbar&quot;,&quot;action&quot;:&quot;Click tab&quot;,&quot;label&quot;:&quot;Security&quot;,&quot;target&quot;:&quot;UNDERLINE_NAV.TAB&quot;}" data-view-component="true" class="UnderlineNav-item no-wrap js-responsive-underlinenav-item js-selected-navigation-item">
    
              <svg aria-hidden="true" height="16" viewBox="0 0 16 16" version="1.1" width="16" data-view-component="true" class="octicon octicon-shield UnderlineNav-octicon d-none d-sm-inline">
    <path d="M7.467.133a1.748 1.748 0 0 1 1.066 0l5.25 1.68A1.75 1.75 0 0 1 15 3.48V7c0 1.566-.32 3.182-1.303 4.682-.983 1.498-2.585 2.813-5.032 3.855a1.697 1.697 0 0 1-1.33 0c-2.447-1.042-4.049-2.357-5.032-3.855C1.32 10.182 1 8.566 1 7V3.48a1.75 1.75 0 0 1 1.217-1.667Zm.61 1.429a.25.25 0 0 0-.153 0l-5.25 1.68a.25.25 0 0 0-.174.238V7c0 1.358.275 2.666 1.057 3.86.784 1.194 2.121 2.34 4.366 3.297a.196.196 0 0 0 .154 0c2.245-.956 3.582-2.104 4.366-3.298C13.225 9.666 13.5 8.36 13.5 7V3.48a.251.251 0 0 0-.174-.237l-5.25-1.68ZM8.75 4.75v3a.75.75 0 0 1-1.5 0v-3a.75.75 0 0 1 1.5 0ZM9 10.5a1 1 0 1 1-2 0 1 1 0 0 1 2 0Z"></path>
</svg>
        <span data-content="Security">Security</span>
          <include-fragment src="/vg309/AIPROJECTUMSL/security/overall-count" accept="text/fragment+html"></include-fragment>

    
</a></li>
      <li data-view-component="true" class="d-inline-flex">
  <a id="insights-tab" href="/vg309/AIPROJECTUMSL/pulse" data-tab-item="i7insights-tab" data-selected-links="repo_graphs repo_contributors dependency_graph dependabot_updates pulse people community /vg309/AIPROJECTUMSL/pulse" data-pjax="#repo-content-pjax-container" data-turbo-frame="repo-content-turbo-frame" data-analytics-event="{&quot;category&quot;:&quot;Underline navbar&quot;,&quot;action&quot;:&quot;Click tab&quot;,&quot;label&quot;:&quot;Insights&quot;,&quot;target&quot;:&quot;UNDERLINE_NAV.TAB&quot;}" data-view-component="true" class="UnderlineNav-item no-wrap js-responsive-underlinenav-item js-selected-navigation-item">
    
              <svg aria-hidden="true" height="16" viewBox="0 0 16 16" version="1.1" width="16" data-view-component="true" class="octicon octicon-graph UnderlineNav-octicon d-none d-sm-inline">
    <path d="M1.5 1.75V13.5h13.75a.75.75 0 0 1 0 1.5H.75a.75.75 0 0 1-.75-.75V1.75a.75.75 0 0 1 1.5 0Zm14.28 2.53-5.25 5.25a.75.75 0 0 1-1.06 0L7 7.06 4.28 9.78a.751.751 0 0 1-1.042-.018.751.751 0 0 1-.018-1.042l3.25-3.25a.75.75 0 0 1 1.06 0L10 7.94l4.72-4.72a.751.751 0 0 1 1.042.018.751.751 0 0 1 .018 1.042Z"></path>
</svg>
        <span data-content="Insights">Insights</span>
          <span id="insights-repo-tab-count" data-pjax-replace="" data-turbo-replace="" title="Not available" data-view-component="true" class="Counter"></span>


    
</a></li>
      <li data-view-component="true" class="d-inline-flex">
  <a id="settings-tab" href="/vg309/AIPROJECTUMSL/settings" data-tab-item="i8settings-tab" data-selected-links="code_review_limits codespaces_repository_settings collaborators custom_tabs hooks integration_installations interaction_limits issue_template_editor key_links_settings notifications repo_actions_settings repo_announcements repo_branch_settings repo_keys_settings repo_pages_settings repo_rule_insights repo_rulesets repo_protected_tags_settings repo_settings reported_content repo_custom_properties repository_actions_settings_add_new_runner repository_actions_settings_general repository_actions_settings_runners repository_environments role_details secrets secrets_settings_actions secrets_settings_codespaces secrets_settings_dependabot security_analysis /vg309/AIPROJECTUMSL/settings" data-pjax="#repo-content-pjax-container" data-turbo-frame="repo-content-turbo-frame" data-analytics-event="{&quot;category&quot;:&quot;Underline navbar&quot;,&quot;action&quot;:&quot;Click tab&quot;,&quot;label&quot;:&quot;Settings&quot;,&quot;target&quot;:&quot;UNDERLINE_NAV.TAB&quot;}" data-view-component="true" class="UnderlineNav-item no-wrap js-responsive-underlinenav-item js-selected-navigation-item">
    
              <svg aria-hidden="true" height="16" viewBox="0 0 16 16" version="1.1" width="16" data-view-component="true" class="octicon octicon-gear UnderlineNav-octicon d-none d-sm-inline">
    <path d="M8 0a8.2 8.2 0 0 1 .701.031C9.444.095 9.99.645 10.16 1.29l.288 1.107c.018.066.079.158.212.224.231.114.454.243.668.386.123.082.233.09.299.071l1.103-.303c.644-.176 1.392.021 1.82.63.27.385.506.792.704 1.218.315.675.111 1.422-.364 1.891l-.814.806c-.049.048-.098.147-.088.294.016.257.016.515 0 .772-.01.147.038.246.088.294l.814.806c.475.469.679 1.216.364 1.891a7.977 7.977 0 0 1-.704 1.217c-.428.61-1.176.807-1.82.63l-1.102-.302c-.067-.019-.177-.011-.3.071a5.909 5.909 0 0 1-.668.386c-.133.066-.194.158-.211.224l-.29 1.106c-.168.646-.715 1.196-1.458 1.26a8.006 8.006 0 0 1-1.402 0c-.743-.064-1.289-.614-1.458-1.26l-.289-1.106c-.018-.066-.079-.158-.212-.224a5.738 5.738 0 0 1-.668-.386c-.123-.082-.233-.09-.299-.071l-1.103.303c-.644.176-1.392-.021-1.82-.63a8.12 8.12 0 0 1-.704-1.218c-.315-.675-.111-1.422.363-1.891l.815-.806c.05-.048.098-.147.088-.294a6.214 6.214 0 0 1 0-.772c.01-.147-.038-.246-.088-.294l-.815-.806C.635 6.045.431 5.298.746 4.623a7.92 7.92 0 0 1 .704-1.217c.428-.61 1.176-.807 1.82-.63l1.102.302c.067.019.177.011.3-.071.214-.143.437-.272.668-.386.133-.066.194-.158.211-.224l.29-1.106C6.009.645 6.556.095 7.299.03 7.53.01 7.764 0 8 0Zm-.571 1.525c-.036.003-.108.036-.137.146l-.289 1.105c-.147.561-.549.967-.998 1.189-.173.086-.34.183-.5.29-.417.278-.97.423-1.529.27l-1.103-.303c-.109-.03-.175.016-.195.045-.22.312-.412.644-.573.99-.014.031-.021.11.059.19l.815.806c.411.406.562.957.53 1.456a4.709 4.709 0 0 0 0 .582c.032.499-.119 1.05-.53 1.456l-.815.806c-.081.08-.073.159-.059.19.162.346.353.677.573.989.02.03.085.076.195.046l1.102-.303c.56-.153 1.113-.008 1.53.27.161.107.328.204.501.29.447.222.85.629.997 1.189l.289 1.105c.029.109.101.143.137.146a6.6 6.6 0 0 0 1.142 0c.036-.003.108-.036.137-.146l.289-1.105c.147-.561.549-.967.998-1.189.173-.086.34-.183.5-.29.417-.278.97-.423 1.529-.27l1.103.303c.109.029.175-.016.195-.045.22-.313.411-.644.573-.99.014-.031.021-.11-.059-.19l-.815-.806c-.411-.406-.562-.957-.53-1.456a4.709 4.709 0 0 0 0-.582c-.032-.499.119-1.05.53-1.456l.815-.806c.081-.08.073-.159.059-.19a6.464 6.464 0 0 0-.573-.989c-.02-.03-.085-.076-.195-.046l-1.102.303c-.56.153-1.113.008-1.53-.27a4.44 4.44 0 0 0-.501-.29c-.447-.222-.85-.629-.997-1.189l-.289-1.105c-.029-.11-.101-.143-.137-.146a6.6 6.6 0 0 0-1.142 0ZM11 8a3 3 0 1 1-6 0 3 3 0 0 1 6 0ZM9.5 8a1.5 1.5 0 1 0-3.001.001A1.5 1.5 0 0 0 9.5 8Z"></path>
</svg>
        <span data-content="Settings">Settings</span>
          <span id="settings-repo-tab-count" data-pjax-replace="" data-turbo-replace="" title="Not available" data-view-component="true" class="Counter"></span>


    
</a></li>
</ul>
    <div style="visibility:hidden;" data-view-component="true" class="UnderlineNav-actions js-responsive-underlinenav-overflow position-absolute pr-3 pr-md-4 pr-lg-5 right-0">      <details data-view-component="true" class="details-overlay details-reset position-relative">
  <summary role="button" data-view-component="true">          <div class="UnderlineNav-item mr-0 border-0">
            <svg aria-hidden="true" height="16" viewBox="0 0 16 16" version="1.1" width="16" data-view-component="true" class="octicon octicon-kebab-horizontal">
    <path d="M8 9a1.5 1.5 0 1 0 0-3 1.5 1.5 0 0 0 0 3ZM1.5 9a1.5 1.5 0 1 0 0-3 1.5 1.5 0 0 0 0 3Zm13 0a1.5 1.5 0 1 0 0-3 1.5 1.5 0 0 0 0 3Z"></path>
</svg>
            <span class="sr-only">More</span>
          </div>
</summary>
  <details-menu role="menu" data-view-component="true" class="dropdown-menu dropdown-menu-sw">          <ul>
              <li data-menu-item="i0code-tab" hidden>
                <a role="menuitem" class="js-selected-navigation-item dropdown-item" data-selected-links="repo_source repo_downloads repo_commits repo_releases repo_tags repo_branches repo_packages repo_deployments /vg309/AIPROJECTUMSL" href="/vg309/AIPROJECTUMSL">
                  Code
</a>              </li>
              <li data-menu-item="i1issues-tab" hidden>
                <a role="menuitem" class="js-selected-navigation-item dropdown-item" data-selected-links="repo_issues repo_labels repo_milestones /vg309/AIPROJECTUMSL/issues" href="/vg309/AIPROJECTUMSL/issues">
                  Issues
</a>              </li>
              <li data-menu-item="i2pull-requests-tab" hidden>
                <a role="menuitem" class="js-selected-navigation-item dropdown-item" data-selected-links="repo_pulls checks /vg309/AIPROJECTUMSL/pulls" href="/vg309/AIPROJECTUMSL/pulls">
                  Pull requests
</a>              </li>
              <li data-menu-item="i3actions-tab" hidden>
                <a role="menuitem" class="js-selected-navigation-item dropdown-item" data-selected-links="repo_actions /vg309/AIPROJECTUMSL/actions" href="/vg309/AIPROJECTUMSL/actions">
                  Actions
</a>              </li>
              <li data-menu-item="i4projects-tab" hidden>
                <a role="menuitem" class="js-selected-navigation-item dropdown-item" data-selected-links="repo_projects new_repo_project repo_project /vg309/AIPROJECTUMSL/projects" href="/vg309/AIPROJECTUMSL/projects">
                  Projects
</a>              </li>
              <li data-menu-item="i5wiki-tab" hidden>
                <a role="menuitem" class="js-selected-navigation-item dropdown-item" data-selected-links="repo_wiki /vg309/AIPROJECTUMSL/wiki" href="/vg309/AIPROJECTUMSL/wiki">
                  Wiki
</a>              </li>
              <li data-menu-item="i6security-tab" hidden>
                <a role="menuitem" class="js-selected-navigation-item dropdown-item" data-selected-links="security overview alerts policy token_scanning code_scanning /vg309/AIPROJECTUMSL/security" href="/vg309/AIPROJECTUMSL/security">
                  Security
</a>              </li>
              <li data-menu-item="i7insights-tab" hidden>
                <a role="menuitem" class="js-selected-navigation-item dropdown-item" data-selected-links="repo_graphs repo_contributors dependency_graph dependabot_updates pulse people community /vg309/AIPROJECTUMSL/pulse" href="/vg309/AIPROJECTUMSL/pulse">
                  Insights
</a>              </li>
              <li data-menu-item="i8settings-tab" hidden>
                <a role="menuitem" class="js-selected-navigation-item dropdown-item" data-selected-links="code_review_limits codespaces_repository_settings collaborators custom_tabs hooks integration_installations interaction_limits issue_template_editor key_links_settings notifications repo_actions_settings repo_announcements repo_branch_settings repo_keys_settings repo_pages_settings repo_rule_insights repo_rulesets repo_protected_tags_settings repo_settings reported_content repo_custom_properties repository_actions_settings_add_new_runner repository_actions_settings_general repository_actions_settings_runners repository_environments role_details secrets secrets_settings_actions secrets_settings_codespaces secrets_settings_dependabot security_analysis /vg309/AIPROJECTUMSL/settings" href="/vg309/AIPROJECTUMSL/settings">
                  Settings
</a>              </li>
          </ul>
</details-menu>
</details></div>
</nav>
      </div>
</header>


          
    </div>

  <div id="start-of-content" class="show-on-focus"></div>







    <div id="js-flash-container" data-turbo-replace>





  <template class="js-flash-template">
    
<div class="flash flash-full   {{ className }}">
  <div class="px-2" >
    <button autofocus class="flash-close js-flash-close" type="button" aria-label="Dismiss this message">
      <svg aria-hidden="true" height="16" viewBox="0 0 16 16" version="1.1" width="16" data-view-component="true" class="octicon octicon-x">
    <path d="M3.72 3.72a.75.75 0 0 1 1.06 0L8 6.94l3.22-3.22a.749.749 0 0 1 1.275.326.749.749 0 0 1-.215.734L9.06 8l3.22 3.22a.749.749 0 0 1-.326 1.275.749.749 0 0 1-.734-.215L8 9.06l-3.22 3.22a.751.751 0 0 1-1.042-.018.751.751 0 0 1-.018-1.042L6.94 8 3.72 4.78a.75.75 0 0 1 0-1.06Z"></path>
</svg>
    </button>
    <div aria-atomic="true" role="alert" class="js-flash-alert">
      
      <div>{{ message }}</div>

    </div>
  </div>
</div>
  </template>
</div>


    
    <notification-shelf-watcher data-base-url="https://github.com/notifications/beta/shelf" data-channel="eyJjIjoibm90aWZpY2F0aW9uLWNoYW5nZWQ6MTMxOTIzNjI3IiwidCI6MTY4Mjk1NDExN30=--1f46b6fac0b848da11facff4cecf2f336ffa8d8a3520fcae9403ffdb0199a39d" data-view-component="true" class="js-socket-channel"></notification-shelf-watcher>
  <div hidden data-initial data-target="notification-shelf-watcher.placeholder"></div>






      <details
  class="details-reset details-overlay details-overlay-dark js-command-palette-dialog"
  id="command-palette-pjax-container"
  data-turbo-replace
>
  <summary aria-label="command palette trigger" tabindex="-1"></summary>
  <details-dialog class="command-palette-details-dialog d-flex flex-column flex-justify-center height-fit" aria-label="command palette">
    <command-palette
      class="command-palette color-bg-default rounded-3 border color-shadow-small"
      return-to=/vg309/AIPROJECTUMSL/blob/main/Untitled14%20(1).ipynb
      user-id="131923627"
      activation-hotkey="Mod+k,Mod+Alt+k"
      command-mode-hotkey="Mod+Shift+k"
      data-action="
        command-palette-input-ready:command-palette#inputReady
        command-palette-page-stack-updated:command-palette#updateInputScope
        itemsUpdated:command-palette#itemsUpdated
        keydown:command-palette#onKeydown
        loadingStateChanged:command-palette#loadingStateChanged
        selectedItemChanged:command-palette#selectedItemChanged
        pageFetchError:command-palette#pageFetchError
      ">

        <command-palette-mode
          data-char="#"
            data-scope-types="[&quot;&quot;]"
            data-placeholder="Search issues and pull requests"
        ></command-palette-mode>
        <command-palette-mode
          data-char="#"
            data-scope-types="[&quot;owner&quot;,&quot;repository&quot;]"
            data-placeholder="Search issues, pull requests, discussions, and projects"
        ></command-palette-mode>
        <command-palette-mode
          data-char="!"
            data-scope-types="[&quot;owner&quot;,&quot;repository&quot;]"
            data-placeholder="Search projects"
        ></command-palette-mode>
        <command-palette-mode
          data-char="@"
            data-scope-types="[&quot;&quot;]"
            data-placeholder="Search or jump to a user, organization, or repository"
        ></command-palette-mode>
        <command-palette-mode
          data-char="@"
            data-scope-types="[&quot;owner&quot;]"
            data-placeholder="Search or jump to a repository"
        ></command-palette-mode>
        <command-palette-mode
          data-char="/"
            data-scope-types="[&quot;repository&quot;]"
            data-placeholder="Search files"
        ></command-palette-mode>
        <command-palette-mode
          data-char="?"
        ></command-palette-mode>
        <command-palette-mode
          data-char="&gt;"
            data-placeholder="Run a command"
        ></command-palette-mode>
        <command-palette-mode
          data-char=""
            data-scope-types="[&quot;&quot;]"
            data-placeholder="Search or jump to..."
        ></command-palette-mode>
        <command-palette-mode
          data-char=""
            data-scope-types="[&quot;owner&quot;]"
            data-placeholder="Search or jump to..."
        ></command-palette-mode>
      <command-palette-mode
        class="js-command-palette-default-mode"
        data-char=""
        data-placeholder="Search or jump to..."
      ></command-palette-mode>

      <command-palette-input placeholder="Search or jump to..."

        data-action="
          command-palette-input:command-palette#onInput
          command-palette-select:command-palette#onSelect
          command-palette-descope:command-palette#onDescope
          command-palette-cleared:command-palette#onInputClear
        "
      >
        <div class="js-search-icon d-flex flex-items-center mr-2" style="height: 26px">
          <svg aria-hidden="true" height="16" viewBox="0 0 16 16" version="1.1" width="16" data-view-component="true" class="octicon octicon-search color-fg-muted">
    <path d="M10.68 11.74a6 6 0 0 1-7.922-8.982 6 6 0 0 1 8.982 7.922l3.04 3.04a.749.749 0 0 1-.326 1.275.749.749 0 0 1-.734-.215ZM11.5 7a4.499 4.499 0 1 0-8.997 0A4.499 4.499 0 0 0 11.5 7Z"></path>
</svg>
        </div>
        <div class="js-spinner d-flex flex-items-center mr-2 color-fg-muted" hidden>
          <svg aria-label="Loading" class="anim-rotate" viewBox="0 0 16 16" fill="none" width="16" height="16">
            <circle
              cx="8"
              cy="8"
              r="7"
              stroke="currentColor"
              stroke-opacity="0.25"
              stroke-width="2"
              vector-effect="non-scaling-stroke"
            ></circle>
            <path
              d="M15 8a7.002 7.002 0 00-7-7"
              stroke="currentColor"
              stroke-width="2"
              stroke-linecap="round"
              vector-effect="non-scaling-stroke"
            ></path>
          </svg>
        </div>
        <command-palette-scope >
          <div data-target="command-palette-scope.placeholder" hidden class="color-fg-subtle">/&nbsp;&nbsp;<span class="text-semibold color-fg-default">...</span>&nbsp;&nbsp;/&nbsp;&nbsp;</div>
              <command-palette-token
                data-text="vg309"
                data-id="U_kgDOB9z-qw"
                data-type="owner"
                data-value="vg309"
                data-targets="command-palette-scope.tokens"
                class="color-fg-default text-semibold"
                style="white-space:nowrap;line-height:20px;"
                >vg309<span class="color-fg-subtle text-normal">&nbsp;&nbsp;/&nbsp;&nbsp;</span></command-palette-token>
              <command-palette-token
                data-text="AIPROJECTUMSL"
                data-id="R_kgDOJb01ww"
                data-type="repository"
                data-value="AIPROJECTUMSL"
                data-targets="command-palette-scope.tokens"
                class="color-fg-default text-semibold"
                style="white-space:nowrap;line-height:20px;"
                >AIPROJECTUMSL<span class="color-fg-subtle text-normal">&nbsp;&nbsp;/&nbsp;&nbsp;</span></command-palette-token>
        </command-palette-scope>
        <div class="command-palette-input-group flex-1 form-control border-0 box-shadow-none" style="z-index: 0">
          <div class="command-palette-typeahead position-absolute d-flex flex-items-center Truncate">
            <span class="typeahead-segment input-mirror" data-target="command-palette-input.mirror"></span>
            <span class="Truncate-text" data-target="command-palette-input.typeaheadText"></span>
            <span class="typeahead-segment" data-target="command-palette-input.typeaheadPlaceholder"></span>
          </div>
          <input
            class="js-overlay-input typeahead-input d-none"
            disabled
            tabindex="-1"
            aria-label="Hidden input for typeahead"
          >
          <input
            type="text"
            autocomplete="off"
            autocorrect="off"
            autocapitalize="off"
            spellcheck="false"
            class="js-input typeahead-input form-control border-0 box-shadow-none input-block width-full no-focus-indicator"
            aria-label="Command palette input"
            aria-haspopup="listbox"
            aria-expanded="false"
            aria-autocomplete="list"
            aria-controls="command-palette-page-stack"
            role="combobox"
            data-action="
              input:command-palette-input#onInput
              keydown:command-palette-input#onKeydown
            "
          >
        </div>
          <div data-view-component="true" class="position-relative d-inline-block">
    <button aria-keyshortcuts="Control+Backspace" data-action="click:command-palette-input#onClear keypress:command-palette-input#onClear" data-target="command-palette-input.clearButton" id="command-palette-clear-button" hidden="hidden" type="button" data-view-component="true" class="btn-octicon command-palette-input-clear-button">      <svg aria-hidden="true" height="16" viewBox="0 0 16 16" version="1.1" width="16" data-view-component="true" class="octicon octicon-x-circle-fill">
    <path d="M2.343 13.657A8 8 0 1 1 13.658 2.343 8 8 0 0 1 2.343 13.657ZM6.03 4.97a.751.751 0 0 0-1.042.018.751.751 0 0 0-.018 1.042L6.94 8 4.97 9.97a.749.749 0 0 0 .326 1.275.749.749 0 0 0 .734-.215L8 9.06l1.97 1.97a.749.749 0 0 0 1.275-.326.749.749 0 0 0-.215-.734L9.06 8l1.97-1.97a.749.749 0 0 0-.326-1.275.749.749 0 0 0-.734.215L8 6.94Z"></path>
</svg>
</button>    <tool-tip id="tooltip-f03fd66e-2a57-4e94-ac3e-8d259e71deb7" for="command-palette-clear-button" data-direction="w" data-type="label" data-view-component="true" class="sr-only position-absolute">Clear Command Palette</tool-tip>
</div>
      </command-palette-input>

      <command-palette-page-stack
        data-default-scope-id="R_kgDOJb01ww"
        data-default-scope-type="Repository"
        data-action="command-palette-page-octicons-cached:command-palette-page-stack#cacheOcticons"
      >
          <command-palette-tip
            class="color-fg-muted f6 px-3 py-1 my-2"
              data-scope-types="[&quot;&quot;,&quot;owner&quot;,&quot;repository&quot;]"
            data-mode=""
            data-value="">
            <div class="d-flex flex-items-start flex-justify-between">
              <div>
                <span class="text-bold">Tip:</span>
                  Type <kbd class="hx_kbd">#</kbd> to search pull requests
              </div>
              <div class="ml-2 flex-shrink-0">
                Type <kbd class="hx_kbd">?</kbd> for help and tips
              </div>
            </div>
          </command-palette-tip>
          <command-palette-tip
            class="color-fg-muted f6 px-3 py-1 my-2"
              data-scope-types="[&quot;&quot;,&quot;owner&quot;,&quot;repository&quot;]"
            data-mode=""
            data-value="">
            <div class="d-flex flex-items-start flex-justify-between">
              <div>
                <span class="text-bold">Tip:</span>
                  Type <kbd class="hx_kbd">#</kbd> to search issues
              </div>
              <div class="ml-2 flex-shrink-0">
                Type <kbd class="hx_kbd">?</kbd> for help and tips
              </div>
            </div>
          </command-palette-tip>
          <command-palette-tip
            class="color-fg-muted f6 px-3 py-1 my-2"
              data-scope-types="[&quot;owner&quot;,&quot;repository&quot;]"
            data-mode=""
            data-value="">
            <div class="d-flex flex-items-start flex-justify-between">
              <div>
                <span class="text-bold">Tip:</span>
                  Type <kbd class="hx_kbd">#</kbd> to search discussions
              </div>
              <div class="ml-2 flex-shrink-0">
                Type <kbd class="hx_kbd">?</kbd> for help and tips
              </div>
            </div>
          </command-palette-tip>
          <command-palette-tip
            class="color-fg-muted f6 px-3 py-1 my-2"
              data-scope-types="[&quot;owner&quot;,&quot;repository&quot;]"
            data-mode=""
            data-value="">
            <div class="d-flex flex-items-start flex-justify-between">
              <div>
                <span class="text-bold">Tip:</span>
                  Type <kbd class="hx_kbd">!</kbd> to search projects
              </div>
              <div class="ml-2 flex-shrink-0">
                Type <kbd class="hx_kbd">?</kbd> for help and tips
              </div>
            </div>
          </command-palette-tip>
          <command-palette-tip
            class="color-fg-muted f6 px-3 py-1 my-2"
              data-scope-types="[&quot;owner&quot;]"
            data-mode=""
            data-value="">
            <div class="d-flex flex-items-start flex-justify-between">
              <div>
                <span class="text-bold">Tip:</span>
                  Type <kbd class="hx_kbd">@</kbd> to search teams
              </div>
              <div class="ml-2 flex-shrink-0">
                Type <kbd class="hx_kbd">?</kbd> for help and tips
              </div>
            </div>
          </command-palette-tip>
          <command-palette-tip
            class="color-fg-muted f6 px-3 py-1 my-2"
              data-scope-types="[&quot;&quot;]"
            data-mode=""
            data-value="">
            <div class="d-flex flex-items-start flex-justify-between">
              <div>
                <span class="text-bold">Tip:</span>
                  Type <kbd class="hx_kbd">@</kbd> to search people and organizations
              </div>
              <div class="ml-2 flex-shrink-0">
                Type <kbd class="hx_kbd">?</kbd> for help and tips
              </div>
            </div>
          </command-palette-tip>
          <command-palette-tip
            class="color-fg-muted f6 px-3 py-1 my-2"
              data-scope-types="[&quot;&quot;,&quot;owner&quot;,&quot;repository&quot;]"
            data-mode=""
            data-value="">
            <div class="d-flex flex-items-start flex-justify-between">
              <div>
                <span class="text-bold">Tip:</span>
                  Type <kbd class="hx_kbd">&gt;</kbd> to activate command mode
              </div>
              <div class="ml-2 flex-shrink-0">
                Type <kbd class="hx_kbd">?</kbd> for help and tips
              </div>
            </div>
          </command-palette-tip>
          <command-palette-tip
            class="color-fg-muted f6 px-3 py-1 my-2"
              data-scope-types="[&quot;&quot;,&quot;owner&quot;,&quot;repository&quot;]"
            data-mode=""
            data-value="">
            <div class="d-flex flex-items-start flex-justify-between">
              <div>
                <span class="text-bold">Tip:</span>
                  Go to your accessibility settings to change your keyboard shortcuts
              </div>
              <div class="ml-2 flex-shrink-0">
                Type <kbd class="hx_kbd">?</kbd> for help and tips
              </div>
            </div>
          </command-palette-tip>
          <command-palette-tip
            class="color-fg-muted f6 px-3 py-1 my-2"
              data-scope-types="[&quot;&quot;,&quot;owner&quot;,&quot;repository&quot;]"
            data-mode="#"
            data-value="">
            <div class="d-flex flex-items-start flex-justify-between">
              <div>
                <span class="text-bold">Tip:</span>
                  Type author:@me to search your content
              </div>
              <div class="ml-2 flex-shrink-0">
                Type <kbd class="hx_kbd">?</kbd> for help and tips
              </div>
            </div>
          </command-palette-tip>
          <command-palette-tip
            class="color-fg-muted f6 px-3 py-1 my-2"
              data-scope-types="[&quot;&quot;,&quot;owner&quot;,&quot;repository&quot;]"
            data-mode="#"
            data-value="">
            <div class="d-flex flex-items-start flex-justify-between">
              <div>
                <span class="text-bold">Tip:</span>
                  Type is:pr to filter to pull requests
              </div>
              <div class="ml-2 flex-shrink-0">
                Type <kbd class="hx_kbd">?</kbd> for help and tips
              </div>
            </div>
          </command-palette-tip>
          <command-palette-tip
            class="color-fg-muted f6 px-3 py-1 my-2"
              data-scope-types="[&quot;&quot;,&quot;owner&quot;,&quot;repository&quot;]"
            data-mode="#"
            data-value="">
            <div class="d-flex flex-items-start flex-justify-between">
              <div>
                <span class="text-bold">Tip:</span>
                  Type is:issue to filter to issues
              </div>
              <div class="ml-2 flex-shrink-0">
                Type <kbd class="hx_kbd">?</kbd> for help and tips
              </div>
            </div>
          </command-palette-tip>
          <command-palette-tip
            class="color-fg-muted f6 px-3 py-1 my-2"
              data-scope-types="[&quot;owner&quot;,&quot;repository&quot;]"
            data-mode="#"
            data-value="">
            <div class="d-flex flex-items-start flex-justify-between">
              <div>
                <span class="text-bold">Tip:</span>
                  Type is:project to filter to projects
              </div>
              <div class="ml-2 flex-shrink-0">
                Type <kbd class="hx_kbd">?</kbd> for help and tips
              </div>
            </div>
          </command-palette-tip>
          <command-palette-tip
            class="color-fg-muted f6 px-3 py-1 my-2"
              data-scope-types="[&quot;&quot;,&quot;owner&quot;,&quot;repository&quot;]"
            data-mode="#"
            data-value="">
            <div class="d-flex flex-items-start flex-justify-between">
              <div>
                <span class="text-bold">Tip:</span>
                  Type is:open to filter to open content
              </div>
              <div class="ml-2 flex-shrink-0">
                Type <kbd class="hx_kbd">?</kbd> for help and tips
              </div>
            </div>
          </command-palette-tip>
        <command-palette-tip class="mx-3 my-2 flash flash-error d-flex flex-items-center" data-scope-types="*" data-on-error>
          <div>
            <svg aria-hidden="true" height="16" viewBox="0 0 16 16" version="1.1" width="16" data-view-component="true" class="octicon octicon-alert">
    <path d="M6.457 1.047c.659-1.234 2.427-1.234 3.086 0l6.082 11.378A1.75 1.75 0 0 1 14.082 15H1.918a1.75 1.75 0 0 1-1.543-2.575Zm1.763.707a.25.25 0 0 0-.44 0L1.698 13.132a.25.25 0 0 0 .22.368h12.164a.25.25 0 0 0 .22-.368Zm.53 3.996v2.5a.75.75 0 0 1-1.5 0v-2.5a.75.75 0 0 1 1.5 0ZM9 11a1 1 0 1 1-2 0 1 1 0 0 1 2 0Z"></path>
</svg>
          </div>
          <div class="px-2">
            We’ve encountered an error and some results aren't available at this time. Type a new search or try again later.
          </div>
        </command-palette-tip>
        <command-palette-tip class="h4 color-fg-default pl-3 pb-2 pt-3" data-on-empty data-scope-types="*" data-match-mode="[^?]|^$">
          No results matched your search
        </command-palette-tip>

        <div hidden>

            <div data-targets="command-palette-page-stack.localOcticons" data-octicon-id="arrow-right-color-fg-muted">
              <svg height="16" class="octicon octicon-arrow-right color-fg-muted" viewBox="0 0 16 16" version="1.1" width="16" aria-hidden="true"><path d="M8.22 2.97a.75.75 0 0 1 1.06 0l4.25 4.25a.75.75 0 0 1 0 1.06l-4.25 4.25a.751.751 0 0 1-1.042-.018.751.751 0 0 1-.018-1.042l2.97-2.97H3.75a.75.75 0 0 1 0-1.5h7.44L8.22 4.03a.75.75 0 0 1 0-1.06Z"></path></svg>
            </div>
            <div data-targets="command-palette-page-stack.localOcticons" data-octicon-id="arrow-right-color-fg-default">
              <svg height="16" class="octicon octicon-arrow-right color-fg-default" viewBox="0 0 16 16" version="1.1" width="16" aria-hidden="true"><path d="M8.22 2.97a.75.75 0 0 1 1.06 0l4.25 4.25a.75.75 0 0 1 0 1.06l-4.25 4.25a.751.751 0 0 1-1.042-.018.751.751 0 0 1-.018-1.042l2.97-2.97H3.75a.75.75 0 0 1 0-1.5h7.44L8.22 4.03a.75.75 0 0 1 0-1.06Z"></path></svg>
            </div>
            <div data-targets="command-palette-page-stack.localOcticons" data-octicon-id="codespaces-color-fg-muted">
              <svg height="16" class="octicon octicon-codespaces color-fg-muted" viewBox="0 0 16 16" version="1.1" width="16" aria-hidden="true"><path d="M0 11.25c0-.966.784-1.75 1.75-1.75h12.5c.966 0 1.75.784 1.75 1.75v3A1.75 1.75 0 0 1 14.25 16H1.75A1.75 1.75 0 0 1 0 14.25Zm2-9.5C2 .784 2.784 0 3.75 0h8.5C13.216 0 14 .784 14 1.75v5a1.75 1.75 0 0 1-1.75 1.75h-8.5A1.75 1.75 0 0 1 2 6.75Zm1.75-.25a.25.25 0 0 0-.25.25v5c0 .138.112.25.25.25h8.5a.25.25 0 0 0 .25-.25v-5a.25.25 0 0 0-.25-.25Zm-2 9.5a.25.25 0 0 0-.25.25v3c0 .138.112.25.25.25h12.5a.25.25 0 0 0 .25-.25v-3a.25.25 0 0 0-.25-.25Z"></path><path d="M7 12.75a.75.75 0 0 1 .75-.75h4.5a.75.75 0 0 1 0 1.5h-4.5a.75.75 0 0 1-.75-.75Zm-4 0a.75.75 0 0 1 .75-.75h.5a.75.75 0 0 1 0 1.5h-.5a.75.75 0 0 1-.75-.75Z"></path></svg>
            </div>
            <div data-targets="command-palette-page-stack.localOcticons" data-octicon-id="copy-color-fg-muted">
              <svg height="16" class="octicon octicon-copy color-fg-muted" viewBox="0 0 16 16" version="1.1" width="16" aria-hidden="true"><path d="M0 6.75C0 5.784.784 5 1.75 5h1.5a.75.75 0 0 1 0 1.5h-1.5a.25.25 0 0 0-.25.25v7.5c0 .138.112.25.25.25h7.5a.25.25 0 0 0 .25-.25v-1.5a.75.75 0 0 1 1.5 0v1.5A1.75 1.75 0 0 1 9.25 16h-7.5A1.75 1.75 0 0 1 0 14.25Z"></path><path d="M5 1.75C5 .784 5.784 0 6.75 0h7.5C15.216 0 16 .784 16 1.75v7.5A1.75 1.75 0 0 1 14.25 11h-7.5A1.75 1.75 0 0 1 5 9.25Zm1.75-.25a.25.25 0 0 0-.25.25v7.5c0 .138.112.25.25.25h7.5a.25.25 0 0 0 .25-.25v-7.5a.25.25 0 0 0-.25-.25Z"></path></svg>
            </div>
            <div data-targets="command-palette-page-stack.localOcticons" data-octicon-id="dash-color-fg-muted">
              <svg height="16" class="octicon octicon-dash color-fg-muted" viewBox="0 0 16 16" version="1.1" width="16" aria-hidden="true"><path d="M2 7.75A.75.75 0 0 1 2.75 7h10a.75.75 0 0 1 0 1.5h-10A.75.75 0 0 1 2 7.75Z"></path></svg>
            </div>
            <div data-targets="command-palette-page-stack.localOcticons" data-octicon-id="file-color-fg-muted">
              <svg height="16" class="octicon octicon-file color-fg-muted" viewBox="0 0 16 16" version="1.1" width="16" aria-hidden="true"><path d="M2 1.75C2 .784 2.784 0 3.75 0h6.586c.464 0 .909.184 1.237.513l2.914 2.914c.329.328.513.773.513 1.237v9.586A1.75 1.75 0 0 1 13.25 16h-9.5A1.75 1.75 0 0 1 2 14.25Zm1.75-.25a.25.25 0 0 0-.25.25v12.5c0 .138.112.25.25.25h9.5a.25.25 0 0 0 .25-.25V6h-2.75A1.75 1.75 0 0 1 9 4.25V1.5Zm6.75.062V4.25c0 .138.112.25.25.25h2.688l-.011-.013-2.914-2.914-.013-.011Z"></path></svg>
            </div>
            <div data-targets="command-palette-page-stack.localOcticons" data-octicon-id="gear-color-fg-muted">
              <svg height="16" class="octicon octicon-gear color-fg-muted" viewBox="0 0 16 16" version="1.1" width="16" aria-hidden="true"><path d="M8 0a8.2 8.2 0 0 1 .701.031C9.444.095 9.99.645 10.16 1.29l.288 1.107c.018.066.079.158.212.224.231.114.454.243.668.386.123.082.233.09.299.071l1.103-.303c.644-.176 1.392.021 1.82.63.27.385.506.792.704 1.218.315.675.111 1.422-.364 1.891l-.814.806c-.049.048-.098.147-.088.294.016.257.016.515 0 .772-.01.147.038.246.088.294l.814.806c.475.469.679 1.216.364 1.891a7.977 7.977 0 0 1-.704 1.217c-.428.61-1.176.807-1.82.63l-1.102-.302c-.067-.019-.177-.011-.3.071a5.909 5.909 0 0 1-.668.386c-.133.066-.194.158-.211.224l-.29 1.106c-.168.646-.715 1.196-1.458 1.26a8.006 8.006 0 0 1-1.402 0c-.743-.064-1.289-.614-1.458-1.26l-.289-1.106c-.018-.066-.079-.158-.212-.224a5.738 5.738 0 0 1-.668-.386c-.123-.082-.233-.09-.299-.071l-1.103.303c-.644.176-1.392-.021-1.82-.63a8.12 8.12 0 0 1-.704-1.218c-.315-.675-.111-1.422.363-1.891l.815-.806c.05-.048.098-.147.088-.294a6.214 6.214 0 0 1 0-.772c.01-.147-.038-.246-.088-.294l-.815-.806C.635 6.045.431 5.298.746 4.623a7.92 7.92 0 0 1 .704-1.217c.428-.61 1.176-.807 1.82-.63l1.102.302c.067.019.177.011.3-.071.214-.143.437-.272.668-.386.133-.066.194-.158.211-.224l.29-1.106C6.009.645 6.556.095 7.299.03 7.53.01 7.764 0 8 0Zm-.571 1.525c-.036.003-.108.036-.137.146l-.289 1.105c-.147.561-.549.967-.998 1.189-.173.086-.34.183-.5.29-.417.278-.97.423-1.529.27l-1.103-.303c-.109-.03-.175.016-.195.045-.22.312-.412.644-.573.99-.014.031-.021.11.059.19l.815.806c.411.406.562.957.53 1.456a4.709 4.709 0 0 0 0 .582c.032.499-.119 1.05-.53 1.456l-.815.806c-.081.08-.073.159-.059.19.162.346.353.677.573.989.02.03.085.076.195.046l1.102-.303c.56-.153 1.113-.008 1.53.27.161.107.328.204.501.29.447.222.85.629.997 1.189l.289 1.105c.029.109.101.143.137.146a6.6 6.6 0 0 0 1.142 0c.036-.003.108-.036.137-.146l.289-1.105c.147-.561.549-.967.998-1.189.173-.086.34-.183.5-.29.417-.278.97-.423 1.529-.27l1.103.303c.109.029.175-.016.195-.045.22-.313.411-.644.573-.99.014-.031.021-.11-.059-.19l-.815-.806c-.411-.406-.562-.957-.53-1.456a4.709 4.709 0 0 0 0-.582c-.032-.499.119-1.05.53-1.456l.815-.806c.081-.08.073-.159.059-.19a6.464 6.464 0 0 0-.573-.989c-.02-.03-.085-.076-.195-.046l-1.102.303c-.56.153-1.113.008-1.53-.27a4.44 4.44 0 0 0-.501-.29c-.447-.222-.85-.629-.997-1.189l-.289-1.105c-.029-.11-.101-.143-.137-.146a6.6 6.6 0 0 0-1.142 0ZM11 8a3 3 0 1 1-6 0 3 3 0 0 1 6 0ZM9.5 8a1.5 1.5 0 1 0-3.001.001A1.5 1.5 0 0 0 9.5 8Z"></path></svg>
            </div>
            <div data-targets="command-palette-page-stack.localOcticons" data-octicon-id="lock-color-fg-muted">
              <svg height="16" class="octicon octicon-lock color-fg-muted" viewBox="0 0 16 16" version="1.1" width="16" aria-hidden="true"><path d="M4 4a4 4 0 0 1 8 0v2h.25c.966 0 1.75.784 1.75 1.75v5.5A1.75 1.75 0 0 1 12.25 15h-8.5A1.75 1.75 0 0 1 2 13.25v-5.5C2 6.784 2.784 6 3.75 6H4Zm8.25 3.5h-8.5a.25.25 0 0 0-.25.25v5.5c0 .138.112.25.25.25h8.5a.25.25 0 0 0 .25-.25v-5.5a.25.25 0 0 0-.25-.25ZM10.5 6V4a2.5 2.5 0 1 0-5 0v2Z"></path></svg>
            </div>
            <div data-targets="command-palette-page-stack.localOcticons" data-octicon-id="moon-color-fg-muted">
              <svg height="16" class="octicon octicon-moon color-fg-muted" viewBox="0 0 16 16" version="1.1" width="16" aria-hidden="true"><path d="M9.598 1.591a.749.749 0 0 1 .785-.175 7.001 7.001 0 1 1-8.967 8.967.75.75 0 0 1 .961-.96 5.5 5.5 0 0 0 7.046-7.046.75.75 0 0 1 .175-.786Zm1.616 1.945a7 7 0 0 1-7.678 7.678 5.499 5.499 0 1 0 7.678-7.678Z"></path></svg>
            </div>
            <div data-targets="command-palette-page-stack.localOcticons" data-octicon-id="person-color-fg-muted">
              <svg height="16" class="octicon octicon-person color-fg-muted" viewBox="0 0 16 16" version="1.1" width="16" aria-hidden="true"><path d="M10.561 8.073a6.005 6.005 0 0 1 3.432 5.142.75.75 0 1 1-1.498.07 4.5 4.5 0 0 0-8.99 0 .75.75 0 0 1-1.498-.07 6.004 6.004 0 0 1 3.431-5.142 3.999 3.999 0 1 1 5.123 0ZM10.5 5a2.5 2.5 0 1 0-5 0 2.5 2.5 0 0 0 5 0Z"></path></svg>
            </div>
            <div data-targets="command-palette-page-stack.localOcticons" data-octicon-id="pencil-color-fg-muted">
              <svg height="16" class="octicon octicon-pencil color-fg-muted" viewBox="0 0 16 16" version="1.1" width="16" aria-hidden="true"><path d="M11.013 1.427a1.75 1.75 0 0 1 2.474 0l1.086 1.086a1.75 1.75 0 0 1 0 2.474l-8.61 8.61c-.21.21-.47.364-.756.445l-3.251.93a.75.75 0 0 1-.927-.928l.929-3.25c.081-.286.235-.547.445-.758l8.61-8.61Zm.176 4.823L9.75 4.81l-6.286 6.287a.253.253 0 0 0-.064.108l-.558 1.953 1.953-.558a.253.253 0 0 0 .108-.064Zm1.238-3.763a.25.25 0 0 0-.354 0L10.811 3.75l1.439 1.44 1.263-1.263a.25.25 0 0 0 0-.354Z"></path></svg>
            </div>
            <div data-targets="command-palette-page-stack.localOcticons" data-octicon-id="issue-opened-open">
              <svg height="16" class="octicon octicon-issue-opened open" viewBox="0 0 16 16" version="1.1" width="16" aria-hidden="true"><path d="M8 9.5a1.5 1.5 0 1 0 0-3 1.5 1.5 0 0 0 0 3Z"></path><path d="M8 0a8 8 0 1 1 0 16A8 8 0 0 1 8 0ZM1.5 8a6.5 6.5 0 1 0 13 0 6.5 6.5 0 0 0-13 0Z"></path></svg>
            </div>
            <div data-targets="command-palette-page-stack.localOcticons" data-octicon-id="git-pull-request-draft-color-fg-muted">
              <svg height="16" class="octicon octicon-git-pull-request-draft color-fg-muted" viewBox="0 0 16 16" version="1.1" width="16" aria-hidden="true"><path d="M3.25 1A2.25 2.25 0 0 1 4 5.372v5.256a2.251 2.251 0 1 1-1.5 0V5.372A2.251 2.251 0 0 1 3.25 1Zm9.5 14a2.25 2.25 0 1 1 0-4.5 2.25 2.25 0 0 1 0 4.5ZM2.5 3.25a.75.75 0 1 0 1.5 0 .75.75 0 0 0-1.5 0ZM3.25 12a.75.75 0 1 0 0 1.5.75.75 0 0 0 0-1.5Zm9.5 0a.75.75 0 1 0 0 1.5.75.75 0 0 0 0-1.5ZM14 7.5a1.25 1.25 0 1 1-2.5 0 1.25 1.25 0 0 1 2.5 0Zm0-4.25a1.25 1.25 0 1 1-2.5 0 1.25 1.25 0 0 1 2.5 0Z"></path></svg>
            </div>
            <div data-targets="command-palette-page-stack.localOcticons" data-octicon-id="search-color-fg-muted">
              <svg height="16" class="octicon octicon-search color-fg-muted" viewBox="0 0 16 16" version="1.1" width="16" aria-hidden="true"><path d="M10.68 11.74a6 6 0 0 1-7.922-8.982 6 6 0 0 1 8.982 7.922l3.04 3.04a.749.749 0 0 1-.326 1.275.749.749 0 0 1-.734-.215ZM11.5 7a4.499 4.499 0 1 0-8.997 0A4.499 4.499 0 0 0 11.5 7Z"></path></svg>
            </div>
            <div data-targets="command-palette-page-stack.localOcticons" data-octicon-id="sun-color-fg-muted">
              <svg height="16" class="octicon octicon-sun color-fg-muted" viewBox="0 0 16 16" version="1.1" width="16" aria-hidden="true"><path d="M8 12a4 4 0 1 1 0-8 4 4 0 0 1 0 8Zm0-1.5a2.5 2.5 0 1 0 0-5 2.5 2.5 0 0 0 0 5Zm5.657-8.157a.75.75 0 0 1 0 1.061l-1.061 1.06a.749.749 0 0 1-1.275-.326.749.749 0 0 1 .215-.734l1.06-1.06a.75.75 0 0 1 1.06 0Zm-9.193 9.193a.75.75 0 0 1 0 1.06l-1.06 1.061a.75.75 0 1 1-1.061-1.06l1.06-1.061a.75.75 0 0 1 1.061 0ZM8 0a.75.75 0 0 1 .75.75v1.5a.75.75 0 0 1-1.5 0V.75A.75.75 0 0 1 8 0ZM3 8a.75.75 0 0 1-.75.75H.75a.75.75 0 0 1 0-1.5h1.5A.75.75 0 0 1 3 8Zm13 0a.75.75 0 0 1-.75.75h-1.5a.75.75 0 0 1 0-1.5h1.5A.75.75 0 0 1 16 8Zm-8 5a.75.75 0 0 1 .75.75v1.5a.75.75 0 0 1-1.5 0v-1.5A.75.75 0 0 1 8 13Zm3.536-1.464a.75.75 0 0 1 1.06 0l1.061 1.06a.75.75 0 0 1-1.06 1.061l-1.061-1.06a.75.75 0 0 1 0-1.061ZM2.343 2.343a.75.75 0 0 1 1.061 0l1.06 1.061a.751.751 0 0 1-.018 1.042.751.751 0 0 1-1.042.018l-1.06-1.06a.75.75 0 0 1 0-1.06Z"></path></svg>
            </div>
            <div data-targets="command-palette-page-stack.localOcticons" data-octicon-id="sync-color-fg-muted">
              <svg height="16" class="octicon octicon-sync color-fg-muted" viewBox="0 0 16 16" version="1.1" width="16" aria-hidden="true"><path d="M1.705 8.005a.75.75 0 0 1 .834.656 5.5 5.5 0 0 0 9.592 2.97l-1.204-1.204a.25.25 0 0 1 .177-.427h3.646a.25.25 0 0 1 .25.25v3.646a.25.25 0 0 1-.427.177l-1.38-1.38A7.002 7.002 0 0 1 1.05 8.84a.75.75 0 0 1 .656-.834ZM8 2.5a5.487 5.487 0 0 0-4.131 1.869l1.204 1.204A.25.25 0 0 1 4.896 6H1.25A.25.25 0 0 1 1 5.75V2.104a.25.25 0 0 1 .427-.177l1.38 1.38A7.002 7.002 0 0 1 14.95 7.16a.75.75 0 0 1-1.49.178A5.5 5.5 0 0 0 8 2.5Z"></path></svg>
            </div>
            <div data-targets="command-palette-page-stack.localOcticons" data-octicon-id="trash-color-fg-muted">
              <svg height="16" class="octicon octicon-trash color-fg-muted" viewBox="0 0 16 16" version="1.1" width="16" aria-hidden="true"><path d="M11 1.75V3h2.25a.75.75 0 0 1 0 1.5H2.75a.75.75 0 0 1 0-1.5H5V1.75C5 .784 5.784 0 6.75 0h2.5C10.216 0 11 .784 11 1.75ZM4.496 6.675l.66 6.6a.25.25 0 0 0 .249.225h5.19a.25.25 0 0 0 .249-.225l.66-6.6a.75.75 0 0 1 1.492.149l-.66 6.6A1.748 1.748 0 0 1 10.595 15h-5.19a1.75 1.75 0 0 1-1.741-1.575l-.66-6.6a.75.75 0 1 1 1.492-.15ZM6.5 1.75V3h3V1.75a.25.25 0 0 0-.25-.25h-2.5a.25.25 0 0 0-.25.25Z"></path></svg>
            </div>
            <div data-targets="command-palette-page-stack.localOcticons" data-octicon-id="key-color-fg-muted">
              <svg height="16" class="octicon octicon-key color-fg-muted" viewBox="0 0 16 16" version="1.1" width="16" aria-hidden="true"><path d="M10.5 0a5.499 5.499 0 1 1-1.288 10.848l-.932.932a.749.749 0 0 1-.53.22H7v.75a.749.749 0 0 1-.22.53l-.5.5a.749.749 0 0 1-.53.22H5v.75a.749.749 0 0 1-.22.53l-.5.5a.749.749 0 0 1-.53.22h-2A1.75 1.75 0 0 1 0 14.25v-2c0-.199.079-.389.22-.53l4.932-4.932A5.5 5.5 0 0 1 10.5 0Zm-4 5.5c-.001.431.069.86.205 1.269a.75.75 0 0 1-.181.768L1.5 12.56v1.69c0 .138.112.25.25.25h1.69l.06-.06v-1.19a.75.75 0 0 1 .75-.75h1.19l.06-.06v-1.19a.75.75 0 0 1 .75-.75h1.19l1.023-1.025a.75.75 0 0 1 .768-.18A4 4 0 1 0 6.5 5.5ZM11 6a1 1 0 1 1 0-2 1 1 0 0 1 0 2Z"></path></svg>
            </div>
            <div data-targets="command-palette-page-stack.localOcticons" data-octicon-id="comment-discussion-color-fg-muted">
              <svg height="16" class="octicon octicon-comment-discussion color-fg-muted" viewBox="0 0 16 16" version="1.1" width="16" aria-hidden="true"><path d="M1.75 1h8.5c.966 0 1.75.784 1.75 1.75v5.5A1.75 1.75 0 0 1 10.25 10H7.061l-2.574 2.573A1.458 1.458 0 0 1 2 11.543V10h-.25A1.75 1.75 0 0 1 0 8.25v-5.5C0 1.784.784 1 1.75 1ZM1.5 2.75v5.5c0 .138.112.25.25.25h1a.75.75 0 0 1 .75.75v2.19l2.72-2.72a.749.749 0 0 1 .53-.22h3.5a.25.25 0 0 0 .25-.25v-5.5a.25.25 0 0 0-.25-.25h-8.5a.25.25 0 0 0-.25.25Zm13 2a.25.25 0 0 0-.25-.25h-.5a.75.75 0 0 1 0-1.5h.5c.966 0 1.75.784 1.75 1.75v5.5A1.75 1.75 0 0 1 14.25 12H14v1.543a1.458 1.458 0 0 1-2.487 1.03L9.22 12.28a.749.749 0 0 1 .326-1.275.749.749 0 0 1 .734.215l2.22 2.22v-2.19a.75.75 0 0 1 .75-.75h1a.25.25 0 0 0 .25-.25Z"></path></svg>
            </div>
            <div data-targets="command-palette-page-stack.localOcticons" data-octicon-id="bell-color-fg-muted">
              <svg height="16" class="octicon octicon-bell color-fg-muted" viewBox="0 0 16 16" version="1.1" width="16" aria-hidden="true"><path d="M8 16a2 2 0 0 0 1.985-1.75c.017-.137-.097-.25-.235-.25h-3.5c-.138 0-.252.113-.235.25A2 2 0 0 0 8 16ZM3 5a5 5 0 0 1 10 0v2.947c0 .05.015.098.042.139l1.703 2.555A1.519 1.519 0 0 1 13.482 13H2.518a1.516 1.516 0 0 1-1.263-2.36l1.703-2.554A.255.255 0 0 0 3 7.947Zm5-3.5A3.5 3.5 0 0 0 4.5 5v2.947c0 .346-.102.683-.294.97l-1.703 2.556a.017.017 0 0 0-.003.01l.001.006c0 .002.002.004.004.006l.006.004.007.001h10.964l.007-.001.006-.004.004-.006.001-.007a.017.017 0 0 0-.003-.01l-1.703-2.554a1.745 1.745 0 0 1-.294-.97V5A3.5 3.5 0 0 0 8 1.5Z"></path></svg>
            </div>
            <div data-targets="command-palette-page-stack.localOcticons" data-octicon-id="bell-slash-color-fg-muted">
              <svg height="16" class="octicon octicon-bell-slash color-fg-muted" viewBox="0 0 16 16" version="1.1" width="16" aria-hidden="true"><path d="m4.182 4.31.016.011 10.104 7.316.013.01 1.375.996a.75.75 0 1 1-.88 1.214L13.626 13H2.518a1.516 1.516 0 0 1-1.263-2.36l1.703-2.554A.255.255 0 0 0 3 7.947V5.305L.31 3.357a.75.75 0 1 1 .88-1.214Zm7.373 7.19L4.5 6.391v1.556c0 .346-.102.683-.294.97l-1.703 2.556a.017.017 0 0 0-.003.01c0 .005.002.009.005.012l.006.004.007.001ZM8 1.5c-.997 0-1.895.416-2.534 1.086A.75.75 0 1 1 4.38 1.55 5 5 0 0 1 13 5v2.373a.75.75 0 0 1-1.5 0V5A3.5 3.5 0 0 0 8 1.5ZM8 16a2 2 0 0 1-1.985-1.75c-.017-.137.097-.25.235-.25h3.5c.138 0 .252.113.235.25A2 2 0 0 1 8 16Z"></path></svg>
            </div>
            <div data-targets="command-palette-page-stack.localOcticons" data-octicon-id="paintbrush-color-fg-muted">
              <svg height="16" class="octicon octicon-paintbrush color-fg-muted" viewBox="0 0 16 16" version="1.1" width="16" aria-hidden="true"><path d="M11.134 1.535c.7-.509 1.416-.942 2.076-1.155.649-.21 1.463-.267 2.069.34.603.601.568 1.411.368 2.07-.202.668-.624 1.39-1.125 2.096-1.011 1.424-2.496 2.987-3.775 4.249-1.098 1.084-2.132 1.839-3.04 2.3a3.744 3.744 0 0 1-1.055 3.217c-.431.431-1.065.691-1.657.861-.614.177-1.294.287-1.914.357A21.151 21.151 0 0 1 .797 16H.743l.007-.75H.749L.742 16a.75.75 0 0 1-.743-.742l.743-.008-.742.007v-.054a21.25 21.25 0 0 1 .13-2.284c.067-.647.187-1.287.358-1.914.17-.591.43-1.226.86-1.657a3.746 3.746 0 0 1 3.227-1.054c.466-.893 1.225-1.907 2.314-2.982 1.271-1.255 2.833-2.75 4.245-3.777ZM1.62 13.089c-.051.464-.086.929-.104 1.395.466-.018.932-.053 1.396-.104a10.511 10.511 0 0 0 1.668-.309c.526-.151.856-.325 1.011-.48a2.25 2.25 0 1 0-3.182-3.182c-.155.155-.329.485-.48 1.01a10.515 10.515 0 0 0-.309 1.67Zm10.396-10.34c-1.224.89-2.605 2.189-3.822 3.384l1.718 1.718c1.21-1.205 2.51-2.597 3.387-3.833.47-.662.78-1.227.912-1.662.134-.444.032-.551.009-.575h-.001V1.78c-.014-.014-.113-.113-.548.027-.432.14-.995.462-1.655.942Zm-4.832 7.266-.001.001a9.859 9.859 0 0 0 1.63-1.142L7.155 7.216a9.7 9.7 0 0 0-1.161 1.607c.482.302.889.71 1.19 1.192Z"></path></svg>
            </div>

            <command-palette-item-group
              data-group-id="top"
              data-group-title="Top result"
              data-group-hint=""
              data-group-limits="{}"
              data-default-priority="0"
            >
            </command-palette-item-group>
            <command-palette-item-group
              data-group-id="commands"
              data-group-title="Commands"
              data-group-hint="Type &gt; to filter"
              data-group-limits="{&quot;static_items_page&quot;:50,&quot;issue&quot;:50,&quot;pull_request&quot;:50,&quot;discussion&quot;:50}"
              data-default-priority="1"
            >
            </command-palette-item-group>
            <command-palette-item-group
              data-group-id="global_commands"
              data-group-title="Global Commands"
              data-group-hint="Type &gt; to filter"
              data-group-limits="{&quot;issue&quot;:0,&quot;pull_request&quot;:0,&quot;discussion&quot;:0}"
              data-default-priority="2"
            >
            </command-palette-item-group>
            <command-palette-item-group
              data-group-id="this_page"
              data-group-title="This Page"
              data-group-hint=""
              data-group-limits="{}"
              data-default-priority="3"
            >
            </command-palette-item-group>
            <command-palette-item-group
              data-group-id="files"
              data-group-title="Files"
              data-group-hint=""
              data-group-limits="{}"
              data-default-priority="4"
            >
            </command-palette-item-group>
            <command-palette-item-group
              data-group-id="default"
              data-group-title="Default"
              data-group-hint=""
              data-group-limits="{&quot;static_items_page&quot;:50}"
              data-default-priority="5"
            >
            </command-palette-item-group>
            <command-palette-item-group
              data-group-id="pages"
              data-group-title="Pages"
              data-group-hint=""
              data-group-limits="{&quot;repository&quot;:10}"
              data-default-priority="6"
            >
            </command-palette-item-group>
            <command-palette-item-group
              data-group-id="access_policies"
              data-group-title="Access Policies"
              data-group-hint=""
              data-group-limits="{}"
              data-default-priority="7"
            >
            </command-palette-item-group>
            <command-palette-item-group
              data-group-id="organizations"
              data-group-title="Organizations"
              data-group-hint=""
              data-group-limits="{}"
              data-default-priority="8"
            >
            </command-palette-item-group>
            <command-palette-item-group
              data-group-id="repositories"
              data-group-title="Repositories"
              data-group-hint=""
              data-group-limits="{}"
              data-default-priority="9"
            >
            </command-palette-item-group>
            <command-palette-item-group
              data-group-id="references"
              data-group-title="Issues, pull requests, and discussions"
              data-group-hint="Type # to filter"
              data-group-limits="{}"
              data-default-priority="10"
            >
            </command-palette-item-group>
            <command-palette-item-group
              data-group-id="teams"
              data-group-title="Teams"
              data-group-hint=""
              data-group-limits="{}"
              data-default-priority="11"
            >
            </command-palette-item-group>
            <command-palette-item-group
              data-group-id="users"
              data-group-title="Users"
              data-group-hint=""
              data-group-limits="{}"
              data-default-priority="12"
            >
            </command-palette-item-group>
            <command-palette-item-group
              data-group-id="memex_projects"
              data-group-title="Projects"
              data-group-hint=""
              data-group-limits="{}"
              data-default-priority="13"
            >
            </command-palette-item-group>
            <command-palette-item-group
              data-group-id="projects"
              data-group-title="Projects (classic)"
              data-group-hint=""
              data-group-limits="{}"
              data-default-priority="14"
            >
            </command-palette-item-group>
            <command-palette-item-group
              data-group-id="footer"
              data-group-title="Footer"
              data-group-hint=""
              data-group-limits="{}"
              data-default-priority="15"
            >
            </command-palette-item-group>
            <command-palette-item-group
              data-group-id="modes_help"
              data-group-title="Modes"
              data-group-hint=""
              data-group-limits="{}"
              data-default-priority="16"
            >
            </command-palette-item-group>
            <command-palette-item-group
              data-group-id="filters_help"
              data-group-title="Use filters in issues, pull requests, discussions, and projects"
              data-group-hint=""
              data-group-limits="{}"
              data-default-priority="17"
            >
            </command-palette-item-group>

            <command-palette-page
              data-page-title="vg309"
              data-scope-id="U_kgDOB9z-qw"
              data-scope-type="owner"
              data-targets="command-palette-page-stack.defaultPages"
              hidden
            >
            </command-palette-page>
            <command-palette-page
              data-page-title="AIPROJECTUMSL"
              data-scope-id="R_kgDOJb01ww"
              data-scope-type="repository"
              data-targets="command-palette-page-stack.defaultPages"
              hidden
            >
            </command-palette-page>
        </div>

        <command-palette-page data-is-root>
        </command-palette-page>
          <command-palette-page
            data-page-title="vg309"
            data-scope-id="U_kgDOB9z-qw"
            data-scope-type="owner"
          >
          </command-palette-page>
          <command-palette-page
            data-page-title="AIPROJECTUMSL"
            data-scope-id="R_kgDOJb01ww"
            data-scope-type="repository"
          >
          </command-palette-page>
      </command-palette-page-stack>

      <server-defined-provider data-type="search-links" data-targets="command-palette.serverDefinedProviderElements"></server-defined-provider>
      <server-defined-provider data-type="help" data-targets="command-palette.serverDefinedProviderElements">
          <command-palette-help
            data-group="modes_help"
              data-prefix="#"
              data-scope-types="[&quot;&quot;]"
          >
            <span data-target="command-palette-help.titleElement">Search for <strong>issues</strong> and <strong>pull requests</strong></span>
              <span data-target="command-palette-help.hintElement">
                <kbd class="hx_kbd">#</kbd>
              </span>
          </command-palette-help>
          <command-palette-help
            data-group="modes_help"
              data-prefix="#"
              data-scope-types="[&quot;owner&quot;,&quot;repository&quot;]"
          >
            <span data-target="command-palette-help.titleElement">Search for <strong>issues, pull requests, discussions,</strong> and <strong>projects</strong></span>
              <span data-target="command-palette-help.hintElement">
                <kbd class="hx_kbd">#</kbd>
              </span>
          </command-palette-help>
          <command-palette-help
            data-group="modes_help"
              data-prefix="@"
              data-scope-types="[&quot;&quot;]"
          >
            <span data-target="command-palette-help.titleElement">Search for <strong>organizations, repositories,</strong> and <strong>users</strong></span>
              <span data-target="command-palette-help.hintElement">
                <kbd class="hx_kbd">@</kbd>
              </span>
          </command-palette-help>
          <command-palette-help
            data-group="modes_help"
              data-prefix="!"
              data-scope-types="[&quot;owner&quot;,&quot;repository&quot;]"
          >
            <span data-target="command-palette-help.titleElement">Search for <strong>projects</strong></span>
              <span data-target="command-palette-help.hintElement">
                <kbd class="hx_kbd">!</kbd>
              </span>
          </command-palette-help>
          <command-palette-help
            data-group="modes_help"
              data-prefix="/"
              data-scope-types="[&quot;repository&quot;]"
          >
            <span data-target="command-palette-help.titleElement">Search for <strong>files</strong></span>
              <span data-target="command-palette-help.hintElement">
                <kbd class="hx_kbd">/</kbd>
              </span>
          </command-palette-help>
          <command-palette-help
            data-group="modes_help"
              data-prefix="&gt;"
          >
            <span data-target="command-palette-help.titleElement">Activate <strong>command mode</strong></span>
              <span data-target="command-palette-help.hintElement">
                <kbd class="hx_kbd">&gt;</kbd>
              </span>
          </command-palette-help>
          <command-palette-help
            data-group="filters_help"
              data-prefix="# author:@me"
          >
            <span data-target="command-palette-help.titleElement">Search your issues, pull requests, and discussions</span>
              <span data-target="command-palette-help.hintElement">
                <kbd class="hx_kbd"># author:@me</kbd>
              </span>
          </command-palette-help>
          <command-palette-help
            data-group="filters_help"
              data-prefix="# author:@me"
          >
            <span data-target="command-palette-help.titleElement">Search your issues, pull requests, and discussions</span>
              <span data-target="command-palette-help.hintElement">
                <kbd class="hx_kbd"># author:@me</kbd>
              </span>
          </command-palette-help>
          <command-palette-help
            data-group="filters_help"
              data-prefix="# is:pr"
          >
            <span data-target="command-palette-help.titleElement">Filter to pull requests</span>
              <span data-target="command-palette-help.hintElement">
                <kbd class="hx_kbd"># is:pr</kbd>
              </span>
          </command-palette-help>
          <command-palette-help
            data-group="filters_help"
              data-prefix="# is:issue"
          >
            <span data-target="command-palette-help.titleElement">Filter to issues</span>
              <span data-target="command-palette-help.hintElement">
                <kbd class="hx_kbd"># is:issue</kbd>
              </span>
          </command-palette-help>
          <command-palette-help
            data-group="filters_help"
              data-prefix="# is:discussion"
              data-scope-types="[&quot;owner&quot;,&quot;repository&quot;]"
          >
            <span data-target="command-palette-help.titleElement">Filter to discussions</span>
              <span data-target="command-palette-help.hintElement">
                <kbd class="hx_kbd"># is:discussion</kbd>
              </span>
          </command-palette-help>
          <command-palette-help
            data-group="filters_help"
              data-prefix="# is:project"
              data-scope-types="[&quot;owner&quot;,&quot;repository&quot;]"
          >
            <span data-target="command-palette-help.titleElement">Filter to projects</span>
              <span data-target="command-palette-help.hintElement">
                <kbd class="hx_kbd"># is:project</kbd>
              </span>
          </command-palette-help>
          <command-palette-help
            data-group="filters_help"
              data-prefix="# is:open"
          >
            <span data-target="command-palette-help.titleElement">Filter to open issues, pull requests, and discussions</span>
              <span data-target="command-palette-help.hintElement">
                <kbd class="hx_kbd"># is:open</kbd>
              </span>
          </command-palette-help>
      </server-defined-provider>

        <server-defined-provider
          data-type="commands"
          data-fetch-debounce="0"
            data-src="/command_palette/commands"
          data-supported-modes="[]"
            data-supports-commands
          
          data-targets="command-palette.serverDefinedProviderElements"
          ></server-defined-provider>
        <server-defined-provider
          data-type="prefetched"
          data-fetch-debounce="0"
            data-src="/command_palette/jump_to_page_navigation"
          data-supported-modes="[&quot;&quot;]"
            data-supported-scope-types="[&quot;&quot;,&quot;owner&quot;,&quot;repository&quot;]"
          
          data-targets="command-palette.serverDefinedProviderElements"
          ></server-defined-provider>
        <server-defined-provider
          data-type="remote"
          data-fetch-debounce="200"
            data-src="/command_palette/issues"
          data-supported-modes="[&quot;#&quot;,&quot;#&quot;]"
            data-supported-scope-types="[&quot;owner&quot;,&quot;repository&quot;,&quot;&quot;]"
          
          data-targets="command-palette.serverDefinedProviderElements"
          ></server-defined-provider>
        <server-defined-provider
          data-type="remote"
          data-fetch-debounce="200"
            data-src="/command_palette/jump_to"
          data-supported-modes="[&quot;@&quot;,&quot;@&quot;]"
            data-supported-scope-types="[&quot;&quot;,&quot;owner&quot;]"
          
          data-targets="command-palette.serverDefinedProviderElements"
          ></server-defined-provider>
        <server-defined-provider
          data-type="remote"
          data-fetch-debounce="200"
            data-src="/command_palette/jump_to_members_only"
          data-supported-modes="[&quot;@&quot;,&quot;@&quot;,&quot;&quot;,&quot;&quot;]"
            data-supported-scope-types="[&quot;&quot;,&quot;owner&quot;]"
          
          data-targets="command-palette.serverDefinedProviderElements"
          ></server-defined-provider>
        <server-defined-provider
          data-type="prefetched"
          data-fetch-debounce="0"
            data-src="/command_palette/jump_to_members_only_prefetched"
          data-supported-modes="[&quot;@&quot;,&quot;@&quot;,&quot;&quot;,&quot;&quot;]"
            data-supported-scope-types="[&quot;&quot;,&quot;owner&quot;]"
          
          data-targets="command-palette.serverDefinedProviderElements"
          ></server-defined-provider>
        <server-defined-provider
          data-type="files"
          data-fetch-debounce="0"
            data-src="/command_palette/files"
          data-supported-modes="[&quot;/&quot;]"
            data-supported-scope-types="[&quot;repository&quot;]"
          
          data-targets="command-palette.serverDefinedProviderElements"
          ></server-defined-provider>
        <server-defined-provider
          data-type="remote"
          data-fetch-debounce="200"
            data-src="/command_palette/discussions"
          data-supported-modes="[&quot;#&quot;]"
            data-supported-scope-types="[&quot;owner&quot;,&quot;repository&quot;]"
          
          data-targets="command-palette.serverDefinedProviderElements"
          ></server-defined-provider>
        <server-defined-provider
          data-type="remote"
          data-fetch-debounce="200"
            data-src="/command_palette/projects"
          data-supported-modes="[&quot;#&quot;,&quot;!&quot;]"
            data-supported-scope-types="[&quot;owner&quot;,&quot;repository&quot;]"
          
          data-targets="command-palette.serverDefinedProviderElements"
          ></server-defined-provider>
        <server-defined-provider
          data-type="prefetched"
          data-fetch-debounce="0"
            data-src="/command_palette/recent_issues"
          data-supported-modes="[&quot;#&quot;,&quot;#&quot;]"
            data-supported-scope-types="[&quot;owner&quot;,&quot;repository&quot;,&quot;&quot;]"
          
          data-targets="command-palette.serverDefinedProviderElements"
          ></server-defined-provider>
        <server-defined-provider
          data-type="remote"
          data-fetch-debounce="200"
            data-src="/command_palette/teams"
          data-supported-modes="[&quot;@&quot;,&quot;&quot;]"
            data-supported-scope-types="[&quot;owner&quot;]"
          
          data-targets="command-palette.serverDefinedProviderElements"
          ></server-defined-provider>
        <server-defined-provider
          data-type="remote"
          data-fetch-debounce="200"
            data-src="/command_palette/name_with_owner_repository"
          data-supported-modes="[&quot;@&quot;,&quot;@&quot;,&quot;&quot;,&quot;&quot;]"
            data-supported-scope-types="[&quot;&quot;,&quot;owner&quot;]"
          
          data-targets="command-palette.serverDefinedProviderElements"
          ></server-defined-provider>
    </command-palette>
  </details-dialog>
</details>

<div class="position-fixed bottom-0 left-0 ml-5 mb-5 js-command-palette-toasts" style="z-index: 1000">
  <div hidden class="Toast Toast--loading">
    <span class="Toast-icon">
      <svg class="Toast--spinner" viewBox="0 0 32 32" width="18" height="18" aria-hidden="true">
        <path
          fill="#959da5"
          d="M16 0 A16 16 0 0 0 16 32 A16 16 0 0 0 16 0 M16 4 A12 12 0 0 1 16 28 A12 12 0 0 1 16 4"
        />
        <path fill="#ffffff" d="M16 0 A16 16 0 0 1 32 16 L28 16 A12 12 0 0 0 16 4z"></path>
      </svg>
    </span>
    <span class="Toast-content"></span>
  </div>

  <div hidden class="anim-fade-in fast Toast Toast--error">
    <span class="Toast-icon">
      <svg aria-hidden="true" height="16" viewBox="0 0 16 16" version="1.1" width="16" data-view-component="true" class="octicon octicon-stop">
    <path d="M4.47.22A.749.749 0 0 1 5 0h6c.199 0 .389.079.53.22l4.25 4.25c.141.14.22.331.22.53v6a.749.749 0 0 1-.22.53l-4.25 4.25A.749.749 0 0 1 11 16H5a.749.749 0 0 1-.53-.22L.22 11.53A.749.749 0 0 1 0 11V5c0-.199.079-.389.22-.53Zm.84 1.28L1.5 5.31v5.38l3.81 3.81h5.38l3.81-3.81V5.31L10.69 1.5ZM8 4a.75.75 0 0 1 .75.75v3.5a.75.75 0 0 1-1.5 0v-3.5A.75.75 0 0 1 8 4Zm0 8a1 1 0 1 1 0-2 1 1 0 0 1 0 2Z"></path>
</svg>
    </span>
    <span class="Toast-content"></span>
  </div>

  <div hidden class="anim-fade-in fast Toast Toast--warning">
    <span class="Toast-icon">
      <svg aria-hidden="true" height="16" viewBox="0 0 16 16" version="1.1" width="16" data-view-component="true" class="octicon octicon-alert">
    <path d="M6.457 1.047c.659-1.234 2.427-1.234 3.086 0l6.082 11.378A1.75 1.75 0 0 1 14.082 15H1.918a1.75 1.75 0 0 1-1.543-2.575Zm1.763.707a.25.25 0 0 0-.44 0L1.698 13.132a.25.25 0 0 0 .22.368h12.164a.25.25 0 0 0 .22-.368Zm.53 3.996v2.5a.75.75 0 0 1-1.5 0v-2.5a.75.75 0 0 1 1.5 0ZM9 11a1 1 0 1 1-2 0 1 1 0 0 1 2 0Z"></path>
</svg>
    </span>
    <span class="Toast-content"></span>
  </div>


  <div hidden class="anim-fade-in fast Toast Toast--success">
    <span class="Toast-icon">
      <svg aria-hidden="true" height="16" viewBox="0 0 16 16" version="1.1" width="16" data-view-component="true" class="octicon octicon-check">
    <path d="M13.78 4.22a.75.75 0 0 1 0 1.06l-7.25 7.25a.75.75 0 0 1-1.06 0L2.22 9.28a.751.751 0 0 1 .018-1.042.751.751 0 0 1 1.042-.018L6 10.94l6.72-6.72a.75.75 0 0 1 1.06 0Z"></path>
</svg>
    </span>
    <span class="Toast-content"></span>
  </div>

  <div hidden class="anim-fade-in fast Toast">
    <span class="Toast-icon">
      <svg aria-hidden="true" height="16" viewBox="0 0 16 16" version="1.1" width="16" data-view-component="true" class="octicon octicon-info">
    <path d="M0 8a8 8 0 1 1 16 0A8 8 0 0 1 0 8Zm8-6.5a6.5 6.5 0 1 0 0 13 6.5 6.5 0 0 0 0-13ZM6.5 7.75A.75.75 0 0 1 7.25 7h1a.75.75 0 0 1 .75.75v2.75h.25a.75.75 0 0 1 0 1.5h-2a.75.75 0 0 1 0-1.5h.25v-2h-.25a.75.75 0 0 1-.75-.75ZM8 6a1 1 0 1 1 0-2 1 1 0 0 1 0 2Z"></path>
</svg>
    </span>
    <span class="Toast-content"></span>
  </div>
</div>


  <div
    class="application-main "
    data-commit-hovercards-enabled
    data-discussion-hovercards-enabled
    data-issue-and-pr-hovercards-enabled
  >
        <div itemscope itemtype="http://schema.org/SoftwareSourceCode" class="">
    <main id="js-repo-pjax-container" >
      
      






    
  <div id="repository-container-header" data-turbo-replace hidden></div>




<turbo-frame id="repo-content-turbo-frame" target="_top" data-turbo-action="advance" class="">
    <div id="repo-content-pjax-container" class="repository-content " >
      <a href="https://github.dev/" class="d-none js-github-dev-shortcut" data-hotkey=".">Open in github.dev</a>
  <a href="https://github.dev/" class="d-none js-github-dev-new-tab-shortcut" data-hotkey="Shift+.,Shift+&gt;,&gt;" target="_blank">Open in a new github.dev tab</a>
    <a class="d-none" data-hotkey="," target="_blank" href="/codespaces/new/vg309/AIPROJECTUMSL/tree/main?resume=1">Open in codespace</a>



    
      
    





<react-app
  app-name="react-code-view"
  initial-path="/vg309/AIPROJECTUMSL/blob/main/Untitled14%20(1).ipynb"
  style="min-height: calc(100vh - 62px)"
  data-ssr="false"
  data-lazy="false"
>
  
  <script type="application/json" data-target="react-app.embeddedData">{"payload":{"allShortcutsEnabled":true,"fileTree":{"":{"items":[{"name":"AIPROJECT.ipynb - Colaboratory.pdf","path":"AIPROJECT.ipynb - Colaboratory.pdf","contentType":"file"},{"name":"AI_project.ipynb","path":"AI_project.ipynb","contentType":"file"},{"name":"CompleteResponses.csv","path":"CompleteResponses.csv","contentType":"file"},{"name":"Untitled14 (1).ipynb","path":"Untitled14 (1).ipynb","contentType":"file"},{"name":"ai_project.py","path":"ai_project.py","contentType":"file"}],"totalCount":5}},"fileTreeProcessingTime":1.410988,"foldersToFetch":[],"reducedMotionEnabled":"system","repo":{"id":633157059,"defaultBranch":"main","name":"AIPROJECTUMSL","ownerLogin":"vg309","currentUserCanPush":true,"isFork":false,"isEmpty":false,"createdAt":"2023-04-26T17:52:17.000-05:00","ownerAvatar":"https://avatars.githubusercontent.com/u/131923627?v=4","public":true,"private":false},"refInfo":{"name":"main","listCacheKey":"v0:1682924677.0","canEdit":true,"refType":"branch","currentOid":"2e5cea55fcb4957530de5022bad55eaf24f672dd"},"path":"Untitled14 (1).ipynb","currentUser":{"id":131923627,"login":"vg309","userEmail":"vinusha2357@gmail.com"},"blob":{"rawBlob":"{\n  \"nbformat\": 4,\n  \"nbformat_minor\": 0,\n  \"metadata\": {\n    \"colab\": {\n      \"provenance\": []\n    },\n    \"kernelspec\": {\n      \"name\": \"python3\",\n      \"display_name\": \"Python 3\"\n    },\n    \"language_info\": {\n      \"name\": \"python\"\n    }\n  },\n  \"cells\": [\n    {\n      \"cell_type\": \"code\",\n      \"execution_count\": 8,\n      \"metadata\": {\n        \"colab\": {\n          \"base_uri\": \"https://localhost:8080/\",\n          \"height\": 1000\n        },\n        \"id\": \"Cv8ExoaS0DMN\",\n        \"outputId\": \"38b82683-66b3-41d9-9e28-4aa9b89883fe\"\n      },\n      \"outputs\": [\n        {\n          \"output_type\": \"display_data\",\n          \"data\": {\n            \"text/plain\": [\n              \"\u003cFigure size 1500x1000 with 6 Axes\u003e\"\n            ],\n            \"image/png\": \"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\\n\"\n          },\n          \"metadata\": {}\n        },\n        {\n          \"output_type\": \"display_data\",\n          \"data\": {\n            \"text/plain\": [\n              \"\u003cFigure size 640x480 with 1 Axes\u003e\"\n            ],\n            \"image/png\": \"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\\n\"\n          },\n          \"metadata\": {}\n        }\n      ],\n      \"source\": [\n        \"import pandas as pd\\n\",\n        \"import numpy as np\\n\",\n        \"import matplotlib.pyplot as plt\\n\",\n        \"import tensorflow as tf\\n\",\n        \"from tensorflow.keras.models import Sequential\\n\",\n        \"from tensorflow.keras.layers import Dense\\n\",\n        \"from tensorflow.keras.callbacks import ModelCheckpoint\\n\",\n        \"\\n\",\n        \"\\n\",\n        \"# Load dataset\\n\",\n        \"data = pd.read_csv(\\\"CompleteResponses.csv\\\")\\n\",\n        \"\\n\",\n        \"# Distribution of each column\\n\",\n        \"input_features = data.columns[:-1]\\n\",\n        \"data[input_features].hist(bins=30, figsize=(15, 10))\\n\",\n        \"plt.suptitle(\\\"Histograms of Input Features\\\")\\n\",\n        \"plt.show()\\n\",\n        \"\\n\",\n        \"class_counts = data['brand'].value_counts()\\n\",\n        \"plt.pie(class_counts, labels=['0', '1'], autopct='%1.1f%%')\\n\",\n        \"plt.title(\\\"Class Distribution\\\")\\n\",\n        \"plt.show()\\n\",\n        \"\\n\",\n        \"# Normalization of data\\n\",\n        \"normalized_data = (data - data.min(axis=0)) / (data.max(axis=0) - data.min(axis=0))\\n\",\n        \"#\"\n      ]\n    },\n    {\n      \"cell_type\": \"code\",\n      \"source\": [\n        \"\\n\",\n        \"# Split the data into features (X) and target (y)\\n\",\n        \"X = normalized_data.drop(\\\"brand\\\", axis=1)\\n\",\n        \"y = normalized_data[\\\"brand\\\"]\\n\",\n        \"\\n\",\n        \"# Train the data using Keras\\n\",\n        \"model = Sequential()\\n\",\n        \"model.add(Dense(32, activation='relu', input_shape=(X.shape[1],)))\\n\",\n        \"model.add(Dense(64, activation='relu'))\\n\",\n        \"model.add(Dense(1, activation='sigmoid'))\\n\",\n        \"\\n\",\n        \"model.compile(optimizer='adam', loss='binary_crossentropy', metrics=['accuracy'])\\n\",\n        \"\\n\",\n        \"checkpoint = ModelCheckpoint(\\\"best_model.h5\\\", monitor='val_accuracy', verbose=1, save_best_only=True, mode='max')\\n\",\n        \"\\n\",\n        \"history = model.fit(X, y, epochs=50, validation_split=0.2, callbacks=[checkpoint])\\n\",\n        \"\\n\",\n        \"# Print the accuracy\\n\",\n        \"best_model = tf.keras.models.load_model(\\\"best_model.h5\\\")\\n\",\n        \"_, train_accuracy = best_model.evaluate(X, y, verbose=1)\\n\",\n        \"print(f\\\"Train accuracy: {train_accuracy:.4f}\\\")\\n\"\n      ],\n      \"metadata\": {\n        \"colab\": {\n          \"base_uri\": \"https://localhost:8080/\"\n        },\n        \"id\": \"KSt3ggRz0LqI\",\n        \"outputId\": \"619bbf28-b053-4fd0-9b63-0856d3ae6cab\"\n      },\n      \"execution_count\": 9,\n      \"outputs\": [\n        {\n          \"output_type\": \"stream\",\n          \"name\": \"stdout\",\n          \"text\": [\n            \"Epoch 1/50\\n\",\n            \"226/248 [==========================\u003e...] - ETA: 0s - loss: 0.6481 - accuracy: 0.6179\\n\",\n            \"Epoch 1: val_accuracy improved from -inf to 0.64949, saving model to best_model.h5\\n\",\n            \"248/248 [==============================] - 2s 4ms/step - loss: 0.6471 - accuracy: 0.6180 - val_loss: 0.6212 - val_accuracy: 0.6495\\n\",\n            \"Epoch 2/50\\n\",\n            \"244/248 [============================\u003e.] - ETA: 0s - loss: 0.5844 - accuracy: 0.6773\\n\",\n            \"Epoch 2: val_accuracy improved from 0.64949 to 0.72273, saving model to best_model.h5\\n\",\n            \"248/248 [==============================] - 1s 3ms/step - loss: 0.5833 - accuracy: 0.6778 - val_loss: 0.5285 - val_accuracy: 0.7227\\n\",\n            \"Epoch 3/50\\n\",\n            \"242/248 [============================\u003e.] - ETA: 0s - loss: 0.4992 - accuracy: 0.7528\\n\",\n            \"Epoch 3: val_accuracy improved from 0.72273 to 0.76162, saving model to best_model.h5\\n\",\n            \"248/248 [==============================] - 1s 3ms/step - loss: 0.4985 - accuracy: 0.7533 - val_loss: 0.4688 - val_accuracy: 0.7616\\n\",\n            \"Epoch 4/50\\n\",\n            \"234/248 [===========================\u003e..] - ETA: 0s - loss: 0.4400 - accuracy: 0.7845\\n\",\n            \"Epoch 4: val_accuracy improved from 0.76162 to 0.82525, saving model to best_model.h5\\n\",\n            \"248/248 [==============================] - 1s 3ms/step - loss: 0.4394 - accuracy: 0.7853 - val_loss: 0.3909 - val_accuracy: 0.8253\\n\",\n            \"Epoch 5/50\\n\",\n            \"241/248 [============================\u003e.] - ETA: 0s - loss: 0.3731 - accuracy: 0.8340\\n\",\n            \"Epoch 5: val_accuracy improved from 0.82525 to 0.85051, saving model to best_model.h5\\n\",\n            \"248/248 [==============================] - 1s 3ms/step - loss: 0.3717 - accuracy: 0.8351 - val_loss: 0.3396 - val_accuracy: 0.8505\\n\",\n            \"Epoch 6/50\\n\",\n            \"240/248 [============================\u003e.] - ETA: 0s - loss: 0.3175 - accuracy: 0.8686\\n\",\n            \"Epoch 6: val_accuracy improved from 0.85051 to 0.86263, saving model to best_model.h5\\n\",\n            \"248/248 [==============================] - 1s 4ms/step - loss: 0.3183 - accuracy: 0.8673 - val_loss: 0.3019 - val_accuracy: 0.8626\\n\",\n            \"Epoch 7/50\\n\",\n            \"248/248 [==============================] - ETA: 0s - loss: 0.2874 - accuracy: 0.8808\\n\",\n            \"Epoch 7: val_accuracy improved from 0.86263 to 0.88990, saving model to best_model.h5\\n\",\n            \"248/248 [==============================] - 1s 6ms/step - loss: 0.2874 - accuracy: 0.8808 - val_loss: 0.2751 - val_accuracy: 0.8899\\n\",\n            \"Epoch 8/50\\n\",\n            \"242/248 [============================\u003e.] - ETA: 0s - loss: 0.2707 - accuracy: 0.8884\\n\",\n            \"Epoch 8: val_accuracy improved from 0.88990 to 0.89293, saving model to best_model.h5\\n\",\n            \"248/248 [==============================] - 1s 5ms/step - loss: 0.2693 - accuracy: 0.8892 - val_loss: 0.2656 - val_accuracy: 0.8929\\n\",\n            \"Epoch 9/50\\n\",\n            \"233/248 [===========================\u003e..] - ETA: 0s - loss: 0.2592 - accuracy: 0.8918\\n\",\n            \"Epoch 9: val_accuracy improved from 0.89293 to 0.89545, saving model to best_model.h5\\n\",\n            \"248/248 [==============================] - 1s 3ms/step - loss: 0.2580 - accuracy: 0.8926 - val_loss: 0.2500 - val_accuracy: 0.8955\\n\",\n            \"Epoch 10/50\\n\",\n            \"237/248 [===========================\u003e..] - ETA: 0s - loss: 0.2509 - accuracy: 0.8917\\n\",\n            \"Epoch 10: val_accuracy did not improve from 0.89545\\n\",\n            \"248/248 [==============================] - 1s 3ms/step - loss: 0.2513 - accuracy: 0.8916 - val_loss: 0.2579 - val_accuracy: 0.8838\\n\",\n            \"Epoch 11/50\\n\",\n            \"244/248 [============================\u003e.] - ETA: 0s - loss: 0.2442 - accuracy: 0.8956\\n\",\n            \"Epoch 11: val_accuracy did not improve from 0.89545\\n\",\n            \"248/248 [==============================] - 1s 4ms/step - loss: 0.2443 - accuracy: 0.8957 - val_loss: 0.2478 - val_accuracy: 0.8929\\n\",\n            \"Epoch 12/50\\n\",\n            \"242/248 [============================\u003e.] - ETA: 0s - loss: 0.2410 - accuracy: 0.8953\\n\",\n            \"Epoch 12: val_accuracy did not improve from 0.89545\\n\",\n            \"248/248 [==============================] - 1s 4ms/step - loss: 0.2415 - accuracy: 0.8952 - val_loss: 0.2411 - val_accuracy: 0.8924\\n\",\n            \"Epoch 13/50\\n\",\n            \"240/248 [============================\u003e.] - ETA: 0s - loss: 0.2390 - accuracy: 0.8974\\n\",\n            \"Epoch 13: val_accuracy did not improve from 0.89545\\n\",\n            \"248/248 [==============================] - 1s 4ms/step - loss: 0.2402 - accuracy: 0.8968 - val_loss: 0.2414 - val_accuracy: 0.8939\\n\",\n            \"Epoch 14/50\\n\",\n            \"230/248 [==========================\u003e...] - ETA: 0s - loss: 0.2352 - accuracy: 0.8970\\n\",\n            \"Epoch 14: val_accuracy did not improve from 0.89545\\n\",\n            \"248/248 [==============================] - 1s 3ms/step - loss: 0.2344 - accuracy: 0.8963 - val_loss: 0.2448 - val_accuracy: 0.8929\\n\",\n            \"Epoch 15/50\\n\",\n            \"234/248 [===========================\u003e..] - ETA: 0s - loss: 0.2338 - accuracy: 0.8986\\n\",\n            \"Epoch 15: val_accuracy did not improve from 0.89545\\n\",\n            \"248/248 [==============================] - 1s 3ms/step - loss: 0.2350 - accuracy: 0.8982 - val_loss: 0.2481 - val_accuracy: 0.8899\\n\",\n            \"Epoch 16/50\\n\",\n            \"240/248 [============================\u003e.] - ETA: 0s - loss: 0.2329 - accuracy: 0.8957\\n\",\n            \"Epoch 16: val_accuracy did not improve from 0.89545\\n\",\n            \"248/248 [==============================] - 1s 4ms/step - loss: 0.2333 - accuracy: 0.8957 - val_loss: 0.2378 - val_accuracy: 0.8955\\n\",\n            \"Epoch 17/50\\n\",\n            \"243/248 [============================\u003e.] - ETA: 0s - loss: 0.2292 - accuracy: 0.8997\\n\",\n            \"Epoch 17: val_accuracy did not improve from 0.89545\\n\",\n            \"248/248 [==============================] - 1s 3ms/step - loss: 0.2301 - accuracy: 0.8990 - val_loss: 0.2383 - val_accuracy: 0.8914\\n\",\n            \"Epoch 18/50\\n\",\n            \"246/248 [============================\u003e.] - ETA: 0s - loss: 0.2298 - accuracy: 0.8989\\n\",\n            \"Epoch 18: val_accuracy did not improve from 0.89545\\n\",\n            \"248/248 [==============================] - 1s 3ms/step - loss: 0.2302 - accuracy: 0.8982 - val_loss: 0.2434 - val_accuracy: 0.8899\\n\",\n            \"Epoch 19/50\\n\",\n            \"230/248 [==========================\u003e...] - ETA: 0s - loss: 0.2269 - accuracy: 0.9007\\n\",\n            \"Epoch 19: val_accuracy improved from 0.89545 to 0.89747, saving model to best_model.h5\\n\",\n            \"248/248 [==============================] - 1s 3ms/step - loss: 0.2282 - accuracy: 0.8998 - val_loss: 0.2344 - val_accuracy: 0.8975\\n\",\n            \"Epoch 20/50\\n\",\n            \"239/248 [===========================\u003e..] - ETA: 0s - loss: 0.2278 - accuracy: 0.8995\\n\",\n            \"Epoch 20: val_accuracy did not improve from 0.89747\\n\",\n            \"248/248 [==============================] - 1s 4ms/step - loss: 0.2273 - accuracy: 0.9001 - val_loss: 0.2285 - val_accuracy: 0.8949\\n\",\n            \"Epoch 21/50\\n\",\n            \"246/248 [============================\u003e.] - ETA: 0s - loss: 0.2251 - accuracy: 0.9003\\n\",\n            \"Epoch 21: val_accuracy did not improve from 0.89747\\n\",\n            \"248/248 [==============================] - 1s 5ms/step - loss: 0.2248 - accuracy: 0.9005 - val_loss: 0.2392 - val_accuracy: 0.8975\\n\",\n            \"Epoch 22/50\\n\",\n            \"248/248 [==============================] - ETA: 0s - loss: 0.2226 - accuracy: 0.9005\\n\",\n            \"Epoch 22: val_accuracy improved from 0.89747 to 0.90455, saving model to best_model.h5\\n\",\n            \"248/248 [==============================] - 1s 6ms/step - loss: 0.2226 - accuracy: 0.9005 - val_loss: 0.2255 - val_accuracy: 0.9045\\n\",\n            \"Epoch 23/50\\n\",\n            \"247/248 [============================\u003e.] - ETA: 0s - loss: 0.2224 - accuracy: 0.9022\\n\",\n            \"Epoch 23: val_accuracy did not improve from 0.90455\\n\",\n            \"248/248 [==============================] - 1s 3ms/step - loss: 0.2223 - accuracy: 0.9022 - val_loss: 0.2310 - val_accuracy: 0.8970\\n\",\n            \"Epoch 24/50\\n\",\n            \"236/248 [===========================\u003e..] - ETA: 0s - loss: 0.2184 - accuracy: 0.9059\\n\",\n            \"Epoch 24: val_accuracy did not improve from 0.90455\\n\",\n            \"248/248 [==============================] - 1s 3ms/step - loss: 0.2188 - accuracy: 0.9057 - val_loss: 0.2261 - val_accuracy: 0.9035\\n\",\n            \"Epoch 25/50\\n\",\n            \"235/248 [===========================\u003e..] - ETA: 0s - loss: 0.2187 - accuracy: 0.9023\\n\",\n            \"Epoch 25: val_accuracy did not improve from 0.90455\\n\",\n            \"248/248 [==============================] - 1s 3ms/step - loss: 0.2176 - accuracy: 0.9029 - val_loss: 0.2265 - val_accuracy: 0.8980\\n\",\n            \"Epoch 26/50\\n\",\n            \"248/248 [==============================] - ETA: 0s - loss: 0.2162 - accuracy: 0.9038\\n\",\n            \"Epoch 26: val_accuracy did not improve from 0.90455\\n\",\n            \"248/248 [==============================] - 1s 3ms/step - loss: 0.2162 - accuracy: 0.9038 - val_loss: 0.2309 - val_accuracy: 0.8980\\n\",\n            \"Epoch 27/50\\n\",\n            \"247/248 [============================\u003e.] - ETA: 0s - loss: 0.2154 - accuracy: 0.9055\\n\",\n            \"Epoch 27: val_accuracy did not improve from 0.90455\\n\",\n            \"248/248 [==============================] - 1s 3ms/step - loss: 0.2153 - accuracy: 0.9055 - val_loss: 0.2260 - val_accuracy: 0.9005\\n\",\n            \"Epoch 28/50\\n\",\n            \"237/248 [===========================\u003e..] - ETA: 0s - loss: 0.2147 - accuracy: 0.9051\\n\",\n            \"Epoch 28: val_accuracy did not improve from 0.90455\\n\",\n            \"248/248 [==============================] - 1s 3ms/step - loss: 0.2143 - accuracy: 0.9053 - val_loss: 0.2238 - val_accuracy: 0.8995\\n\",\n            \"Epoch 29/50\\n\",\n            \"235/248 [===========================\u003e..] - ETA: 0s - loss: 0.2119 - accuracy: 0.9028\\n\",\n            \"Epoch 29: val_accuracy did not improve from 0.90455\\n\",\n            \"248/248 [==============================] - 1s 4ms/step - loss: 0.2137 - accuracy: 0.9026 - val_loss: 0.2321 - val_accuracy: 0.8955\\n\",\n            \"Epoch 30/50\\n\",\n            \"247/248 [============================\u003e.] - ETA: 0s - loss: 0.2118 - accuracy: 0.9062\\n\",\n            \"Epoch 30: val_accuracy did not improve from 0.90455\\n\",\n            \"248/248 [==============================] - 1s 3ms/step - loss: 0.2118 - accuracy: 0.9062 - val_loss: 0.2191 - val_accuracy: 0.9010\\n\",\n            \"Epoch 31/50\\n\",\n            \"246/248 [============================\u003e.] - ETA: 0s - loss: 0.2098 - accuracy: 0.9061\\n\",\n            \"Epoch 31: val_accuracy did not improve from 0.90455\\n\",\n            \"248/248 [==============================] - 1s 3ms/step - loss: 0.2089 - accuracy: 0.9065 - val_loss: 0.2192 - val_accuracy: 0.9030\\n\",\n            \"Epoch 32/50\\n\",\n            \"246/248 [============================\u003e.] - ETA: 0s - loss: 0.2121 - accuracy: 0.9040\\n\",\n            \"Epoch 32: val_accuracy did not improve from 0.90455\\n\",\n            \"248/248 [==============================] - 1s 3ms/step - loss: 0.2126 - accuracy: 0.9036 - val_loss: 0.2372 - val_accuracy: 0.9005\\n\",\n            \"Epoch 33/50\\n\",\n            \"235/248 [===========================\u003e..] - ETA: 0s - loss: 0.2068 - accuracy: 0.9065\\n\",\n            \"Epoch 33: val_accuracy improved from 0.90455 to 0.90707, saving model to best_model.h5\\n\",\n            \"248/248 [==============================] - 1s 3ms/step - loss: 0.2088 - accuracy: 0.9053 - val_loss: 0.2175 - val_accuracy: 0.9071\\n\",\n            \"Epoch 34/50\\n\",\n            \"245/248 [============================\u003e.] - ETA: 0s - loss: 0.2069 - accuracy: 0.9079\\n\",\n            \"Epoch 34: val_accuracy did not improve from 0.90707\\n\",\n            \"248/248 [==============================] - 1s 3ms/step - loss: 0.2068 - accuracy: 0.9081 - val_loss: 0.2186 - val_accuracy: 0.9010\\n\",\n            \"Epoch 35/50\\n\",\n            \"241/248 [============================\u003e.] - ETA: 0s - loss: 0.2052 - accuracy: 0.9088\\n\",\n            \"Epoch 35: val_accuracy did not improve from 0.90707\\n\",\n            \"248/248 [==============================] - 1s 3ms/step - loss: 0.2048 - accuracy: 0.9089 - val_loss: 0.2122 - val_accuracy: 0.9045\\n\",\n            \"Epoch 36/50\\n\",\n            \"242/248 [============================\u003e.] - ETA: 0s - loss: 0.2059 - accuracy: 0.9077\\n\",\n            \"Epoch 36: val_accuracy did not improve from 0.90707\\n\",\n            \"248/248 [==============================] - 1s 5ms/step - loss: 0.2056 - accuracy: 0.9076 - val_loss: 0.2150 - val_accuracy: 0.9056\\n\",\n            \"Epoch 37/50\\n\",\n            \"245/248 [============================\u003e.] - ETA: 0s - loss: 0.2013 - accuracy: 0.9131\\n\",\n            \"Epoch 37: val_accuracy did not improve from 0.90707\\n\",\n            \"248/248 [==============================] - 1s 5ms/step - loss: 0.2011 - accuracy: 0.9132 - val_loss: 0.2192 - val_accuracy: 0.8975\\n\",\n            \"Epoch 38/50\\n\",\n            \"233/248 [===========================\u003e..] - ETA: 0s - loss: 0.2045 - accuracy: 0.9091\\n\",\n            \"Epoch 38: val_accuracy did not improve from 0.90707\\n\",\n            \"248/248 [==============================] - 1s 4ms/step - loss: 0.2029 - accuracy: 0.9096 - val_loss: 0.2102 - val_accuracy: 0.9061\\n\",\n            \"Epoch 39/50\\n\",\n            \"235/248 [===========================\u003e..] - ETA: 0s - loss: 0.2018 - accuracy: 0.9117\\n\",\n            \"Epoch 39: val_accuracy improved from 0.90707 to 0.90859, saving model to best_model.h5\\n\",\n            \"248/248 [==============================] - 1s 4ms/step - loss: 0.2009 - accuracy: 0.9121 - val_loss: 0.2121 - val_accuracy: 0.9086\\n\",\n            \"Epoch 40/50\\n\",\n            \"233/248 [===========================\u003e..] - ETA: 0s - loss: 0.1991 - accuracy: 0.9124\\n\",\n            \"Epoch 40: val_accuracy did not improve from 0.90859\\n\",\n            \"248/248 [==============================] - 1s 3ms/step - loss: 0.1979 - accuracy: 0.9126 - val_loss: 0.2054 - val_accuracy: 0.9066\\n\",\n            \"Epoch 41/50\\n\",\n            \"227/248 [==========================\u003e...] - ETA: 0s - loss: 0.1956 - accuracy: 0.9141\\n\",\n            \"Epoch 41: val_accuracy did not improve from 0.90859\\n\",\n            \"248/248 [==============================] - 1s 3ms/step - loss: 0.1996 - accuracy: 0.9124 - val_loss: 0.2067 - val_accuracy: 0.9061\\n\",\n            \"Epoch 42/50\\n\",\n            \"231/248 [==========================\u003e...] - ETA: 0s - loss: 0.2006 - accuracy: 0.9099\\n\",\n            \"Epoch 42: val_accuracy improved from 0.90859 to 0.90909, saving model to best_model.h5\\n\",\n            \"248/248 [==============================] - 1s 3ms/step - loss: 0.1980 - accuracy: 0.9116 - val_loss: 0.2032 - val_accuracy: 0.9091\\n\",\n            \"Epoch 43/50\\n\",\n            \"243/248 [============================\u003e.] - ETA: 0s - loss: 0.1957 - accuracy: 0.9133\\n\",\n            \"Epoch 43: val_accuracy did not improve from 0.90909\\n\",\n            \"248/248 [==============================] - 1s 5ms/step - loss: 0.1954 - accuracy: 0.9131 - val_loss: 0.2024 - val_accuracy: 0.9030\\n\",\n            \"Epoch 44/50\\n\",\n            \"236/248 [===========================\u003e..] - ETA: 0s - loss: 0.1956 - accuracy: 0.9114\\n\",\n            \"Epoch 44: val_accuracy did not improve from 0.90909\\n\",\n            \"248/248 [==============================] - 2s 6ms/step - loss: 0.1967 - accuracy: 0.9107 - val_loss: 0.2033 - val_accuracy: 0.9091\\n\",\n            \"Epoch 45/50\\n\",\n            \"239/248 [===========================\u003e..] - ETA: 0s - loss: 0.1947 - accuracy: 0.9133\\n\",\n            \"Epoch 45: val_accuracy improved from 0.90909 to 0.90960, saving model to best_model.h5\\n\",\n            \"248/248 [==============================] - 1s 4ms/step - loss: 0.1943 - accuracy: 0.9132 - val_loss: 0.2053 - val_accuracy: 0.9096\\n\",\n            \"Epoch 46/50\\n\",\n            \"239/248 [===========================\u003e..] - ETA: 0s - loss: 0.1958 - accuracy: 0.9140\\n\",\n            \"Epoch 46: val_accuracy did not improve from 0.90960\\n\",\n            \"248/248 [==============================] - 1s 3ms/step - loss: 0.1938 - accuracy: 0.9153 - val_loss: 0.1998 - val_accuracy: 0.9066\\n\",\n            \"Epoch 47/50\\n\",\n            \"243/248 [============================\u003e.] - ETA: 0s - loss: 0.1919 - accuracy: 0.9141\\n\",\n            \"Epoch 47: val_accuracy did not improve from 0.90960\\n\",\n            \"248/248 [==============================] - 1s 3ms/step - loss: 0.1916 - accuracy: 0.9140 - val_loss: 0.1980 - val_accuracy: 0.9096\\n\",\n            \"Epoch 48/50\\n\",\n            \"238/248 [===========================\u003e..] - ETA: 0s - loss: 0.1901 - accuracy: 0.9157\\n\",\n            \"Epoch 48: val_accuracy improved from 0.90960 to 0.91212, saving model to best_model.h5\\n\",\n            \"248/248 [==============================] - 1s 3ms/step - loss: 0.1899 - accuracy: 0.9160 - val_loss: 0.1980 - val_accuracy: 0.9121\\n\",\n            \"Epoch 49/50\\n\",\n            \"243/248 [============================\u003e.] - ETA: 0s - loss: 0.1912 - accuracy: 0.9129\\n\",\n            \"Epoch 49: val_accuracy did not improve from 0.91212\\n\",\n            \"248/248 [==============================] - 1s 5ms/step - loss: 0.1917 - accuracy: 0.9125 - val_loss: 0.1970 - val_accuracy: 0.9091\\n\",\n            \"Epoch 50/50\\n\",\n            \"246/248 [============================\u003e.] - ETA: 0s - loss: 0.1908 - accuracy: 0.9164\\n\",\n            \"Epoch 50: val_accuracy did not improve from 0.91212\\n\",\n            \"248/248 [==============================] - 1s 6ms/step - loss: 0.1907 - accuracy: 0.9165 - val_loss: 0.1990 - val_accuracy: 0.9051\\n\",\n            \"Train accuracy: 0.9138\\n\"\n          ]\n        }\n      ]\n    },\n    {\n      \"cell_type\": \"code\",\n      \"source\": [\n        \"\\n\",\n        \"# Shuffle data\\n\",\n        \"shuffled_data = normalized_data.sample(frac=1).reset_index(drop=True)\\n\",\n        \"\\n\",\n        \"# Split data, test and validation\\n\",\n        \"train_size = int(0.8 * len(shuffled_data))\\n\",\n        \"X_train, X_val = shuffled_data.iloc[:train_size, :-1], shuffled_data.iloc[train_size:, :-1]\\n\",\n        \"y_train, y_val = shuffled_data.iloc[:train_size, -1], shuffled_data.iloc[train_size:, -1]\\n\",\n        \"\\n\",\n        \"# Train a deep model with a larger number of neurons for validation dataset\\n\",\n        \"model = Sequential()\\n\",\n        \"model.add(Dense(128, activation='relu', input_shape=(X_train.shape[1],)))\\n\",\n        \"model.add(Dense(256, activation='relu'))\\n\",\n        \"model.add(Dense(256, activation='relu'))\\n\",\n        \"model.add(Dense(128, activation='relu'))\\n\",\n        \"model.add(Dense(1, activation='sigmoid'))\\n\",\n        \"\\n\",\n        \"model.compile(optimizer='adam', loss='binary_crossentropy', metrics=['accuracy'])\\n\",\n        \"\\n\",\n        \"checkpoint_val = ModelCheckpoint(\\\"best_model_val.h5\\\", monitor='val_accuracy', verbose=1, save_best_only=True, mode='max')\\n\",\n        \"checkpoint_train = ModelCheckpoint(\\\"best_model_train.h5\\\", monitor='accuracy', verbose=1, save_best_only=True, mode='max')\\n\",\n        \"history_val = model.fit(X_train, y_train, epochs=50, validation_data=(X_val, y_val), callbacks=[checkpoint_val, checkpoint_train])\\n\",\n        \"\\n\",\n        \"# Print accuracy on both training and validation dataset\\n\",\n        \"best_model_val = tf.keras.models.load_model(\\\"best_model_val.h5\\\")\\n\",\n        \"best_model_train = tf.keras.models.load_model(\\\"best_model_train.h5\\\")\\n\",\n        \"_, train_accuracy = best_model_train.evaluate(X_train, y_train, verbose=1)\\n\",\n        \"_, val_accuracy = best_model_val.evaluate(X_val, y_val, verbose=1)\\n\",\n        \"print(f\\\"Train accuracy: {train_accuracy:.4f}, Validation accuracy: {val_accuracy:.4f}\\\")\\n\"\n      ],\n      \"metadata\": {\n        \"colab\": {\n          \"base_uri\": \"https://localhost:8080/\"\n        },\n        \"id\": \"KWSh6WgI0seG\",\n        \"outputId\": \"cf757913-f897-4d4c-810c-9bd6facfee2d\"\n      },\n      \"execution_count\": 10,\n      \"outputs\": [\n        {\n          \"output_type\": \"stream\",\n          \"name\": \"stdout\",\n          \"text\": [\n            \"Epoch 1/50\\n\",\n            \"246/248 [============================\u003e.] - ETA: 0s - loss: 0.5092 - accuracy: 0.7270\\n\",\n            \"Epoch 1: val_accuracy improved from -inf to 0.79899, saving model to best_model_val.h5\\n\",\n            \"\\n\",\n            \"Epoch 1: accuracy improved from -inf to 0.72758, saving model to best_model_train.h5\\n\",\n            \"248/248 [==============================] - 3s 7ms/step - loss: 0.5082 - accuracy: 0.7276 - val_loss: 0.4279 - val_accuracy: 0.7990\\n\",\n            \"Epoch 2/50\\n\",\n            \"244/248 [============================\u003e.] - ETA: 0s - loss: 0.3236 - accuracy: 0.8511\\n\",\n            \"Epoch 2: val_accuracy improved from 0.79899 to 0.87020, saving model to best_model_val.h5\\n\",\n            \"\\n\",\n            \"Epoch 2: accuracy improved from 0.72758 to 0.85072, saving model to best_model_train.h5\\n\",\n            \"248/248 [==============================] - 2s 7ms/step - loss: 0.3241 - accuracy: 0.8507 - val_loss: 0.3065 - val_accuracy: 0.8702\\n\",\n            \"Epoch 3/50\\n\",\n            \"247/248 [============================\u003e.] - ETA: 0s - loss: 0.2788 - accuracy: 0.8784\\n\",\n            \"Epoch 3: val_accuracy improved from 0.87020 to 0.88737, saving model to best_model_val.h5\\n\",\n            \"\\n\",\n            \"Epoch 3: accuracy improved from 0.85072 to 0.87838, saving model to best_model_train.h5\\n\",\n            \"248/248 [==============================] - 2s 7ms/step - loss: 0.2789 - accuracy: 0.8784 - val_loss: 0.2546 - val_accuracy: 0.8874\\n\",\n            \"Epoch 4/50\\n\",\n            \"247/248 [============================\u003e.] - ETA: 0s - loss: 0.2594 - accuracy: 0.8850\\n\",\n            \"Epoch 4: val_accuracy improved from 0.88737 to 0.89343, saving model to best_model_val.h5\\n\",\n            \"\\n\",\n            \"Epoch 4: accuracy improved from 0.87838 to 0.88520, saving model to best_model_train.h5\\n\",\n            \"248/248 [==============================] - 2s 7ms/step - loss: 0.2591 - accuracy: 0.8852 - val_loss: 0.2317 - val_accuracy: 0.8934\\n\",\n            \"Epoch 5/50\\n\",\n            \"247/248 [============================\u003e.] - ETA: 0s - loss: 0.2393 - accuracy: 0.8984\\n\",\n            \"Epoch 5: val_accuracy improved from 0.89343 to 0.90152, saving model to best_model_val.h5\\n\",\n            \"\\n\",\n            \"Epoch 5: accuracy improved from 0.88520 to 0.89846, saving model to best_model_train.h5\\n\",\n            \"248/248 [==============================] - 2s 10ms/step - loss: 0.2393 - accuracy: 0.8985 - val_loss: 0.2161 - val_accuracy: 0.9015\\n\",\n            \"Epoch 6/50\\n\",\n            \"243/248 [============================\u003e.] - ETA: 0s - loss: 0.2452 - accuracy: 0.8931\\n\",\n            \"Epoch 6: val_accuracy improved from 0.90152 to 0.90354, saving model to best_model_val.h5\\n\",\n            \"\\n\",\n            \"Epoch 6: accuracy did not improve from 0.89846\\n\",\n            \"248/248 [==============================] - 2s 9ms/step - loss: 0.2444 - accuracy: 0.8935 - val_loss: 0.2211 - val_accuracy: 0.9035\\n\",\n            \"Epoch 7/50\\n\",\n            \"240/248 [============================\u003e.] - ETA: 0s - loss: 0.2254 - accuracy: 0.8992\\n\",\n            \"Epoch 7: val_accuracy improved from 0.90354 to 0.91111, saving model to best_model_val.h5\\n\",\n            \"\\n\",\n            \"Epoch 7: accuracy improved from 0.89846 to 0.89947, saving model to best_model_train.h5\\n\",\n            \"248/248 [==============================] - 2s 7ms/step - loss: 0.2248 - accuracy: 0.8995 - val_loss: 0.2013 - val_accuracy: 0.9111\\n\",\n            \"Epoch 8/50\\n\",\n            \"240/248 [============================\u003e.] - ETA: 0s - loss: 0.2180 - accuracy: 0.9023\\n\",\n            \"Epoch 8: val_accuracy did not improve from 0.91111\\n\",\n            \"\\n\",\n            \"Epoch 8: accuracy improved from 0.89947 to 0.90149, saving model to best_model_train.h5\\n\",\n            \"248/248 [==============================] - 2s 7ms/step - loss: 0.2189 - accuracy: 0.9015 - val_loss: 0.2619 - val_accuracy: 0.8828\\n\",\n            \"Epoch 9/50\\n\",\n            \"242/248 [============================\u003e.] - ETA: 0s - loss: 0.2136 - accuracy: 0.9047\\n\",\n            \"Epoch 9: val_accuracy did not improve from 0.91111\\n\",\n            \"\\n\",\n            \"Epoch 9: accuracy improved from 0.90149 to 0.90515, saving model to best_model_train.h5\\n\",\n            \"248/248 [==============================] - 2s 7ms/step - loss: 0.2132 - accuracy: 0.9052 - val_loss: 0.1945 - val_accuracy: 0.9096\\n\",\n            \"Epoch 10/50\\n\",\n            \"247/248 [============================\u003e.] - ETA: 0s - loss: 0.1985 - accuracy: 0.9109\\n\",\n            \"Epoch 10: val_accuracy did not improve from 0.91111\\n\",\n            \"\\n\",\n            \"Epoch 10: accuracy improved from 0.90515 to 0.91096, saving model to best_model_train.h5\\n\",\n            \"248/248 [==============================] - 2s 7ms/step - loss: 0.1986 - accuracy: 0.9110 - val_loss: 0.2039 - val_accuracy: 0.9111\\n\",\n            \"Epoch 11/50\\n\",\n            \"245/248 [============================\u003e.] - ETA: 0s - loss: 0.2001 - accuracy: 0.9124\\n\",\n            \"Epoch 11: val_accuracy did not improve from 0.91111\\n\",\n            \"\\n\",\n            \"Epoch 11: accuracy improved from 0.91096 to 0.91235, saving model to best_model_train.h5\\n\",\n            \"248/248 [==============================] - 2s 6ms/step - loss: 0.2007 - accuracy: 0.9124 - val_loss: 0.1943 - val_accuracy: 0.9086\\n\",\n            \"Epoch 12/50\\n\",\n            \"248/248 [==============================] - ETA: 0s - loss: 0.2042 - accuracy: 0.9082\\n\",\n            \"Epoch 12: val_accuracy improved from 0.91111 to 0.91313, saving model to best_model_val.h5\\n\",\n            \"\\n\",\n            \"Epoch 12: accuracy did not improve from 0.91235\\n\",\n            \"248/248 [==============================] - 2s 8ms/step - loss: 0.2042 - accuracy: 0.9082 - val_loss: 0.1859 - val_accuracy: 0.9131\\n\",\n            \"Epoch 13/50\\n\",\n            \"247/248 [============================\u003e.] - ETA: 0s - loss: 0.1900 - accuracy: 0.9152\\n\",\n            \"Epoch 13: val_accuracy did not improve from 0.91313\\n\",\n            \"\\n\",\n            \"Epoch 13: accuracy improved from 0.91235 to 0.91513, saving model to best_model_train.h5\\n\",\n            \"248/248 [==============================] - 2s 9ms/step - loss: 0.1900 - accuracy: 0.9151 - val_loss: 0.1921 - val_accuracy: 0.9131\\n\",\n            \"Epoch 14/50\\n\",\n            \"248/248 [==============================] - ETA: 0s - loss: 0.1885 - accuracy: 0.9154\\n\",\n            \"Epoch 14: val_accuracy did not improve from 0.91313\\n\",\n            \"\\n\",\n            \"Epoch 14: accuracy improved from 0.91513 to 0.91538, saving model to best_model_train.h5\\n\",\n            \"248/248 [==============================] - 2s 7ms/step - loss: 0.1885 - accuracy: 0.9154 - val_loss: 0.1981 - val_accuracy: 0.9101\\n\",\n            \"Epoch 15/50\\n\",\n            \"240/248 [============================\u003e.] - ETA: 0s - loss: 0.1832 - accuracy: 0.9187\\n\",\n            \"Epoch 15: val_accuracy improved from 0.91313 to 0.91717, saving model to best_model_val.h5\\n\",\n            \"\\n\",\n            \"Epoch 15: accuracy improved from 0.91538 to 0.91841, saving model to best_model_train.h5\\n\",\n            \"248/248 [==============================] - 2s 7ms/step - loss: 0.1835 - accuracy: 0.9184 - val_loss: 0.1864 - val_accuracy: 0.9172\\n\",\n            \"Epoch 16/50\\n\",\n            \"243/248 [============================\u003e.] - ETA: 0s - loss: 0.1859 - accuracy: 0.9169\\n\",\n            \"Epoch 16: val_accuracy did not improve from 0.91717\\n\",\n            \"\\n\",\n            \"Epoch 16: accuracy did not improve from 0.91841\\n\",\n            \"248/248 [==============================] - 2s 6ms/step - loss: 0.1844 - accuracy: 0.9177 - val_loss: 0.2788 - val_accuracy: 0.8793\\n\",\n            \"Epoch 17/50\\n\",\n            \"243/248 [============================\u003e.] - ETA: 0s - loss: 0.1813 - accuracy: 0.9198\\n\",\n            \"Epoch 17: val_accuracy did not improve from 0.91717\\n\",\n            \"\\n\",\n            \"Epoch 17: accuracy improved from 0.91841 to 0.92018, saving model to best_model_train.h5\\n\",\n            \"248/248 [==============================] - 2s 6ms/step - loss: 0.1803 - accuracy: 0.9202 - val_loss: 0.1953 - val_accuracy: 0.9101\\n\",\n            \"Epoch 18/50\\n\",\n            \"239/248 [===========================\u003e..] - ETA: 0s - loss: 0.1835 - accuracy: 0.9174\\n\",\n            \"Epoch 18: val_accuracy did not improve from 0.91717\\n\",\n            \"\\n\",\n            \"Epoch 18: accuracy did not improve from 0.92018\\n\",\n            \"248/248 [==============================] - 2s 7ms/step - loss: 0.1836 - accuracy: 0.9177 - val_loss: 0.1899 - val_accuracy: 0.9162\\n\",\n            \"Epoch 19/50\\n\",\n            \"248/248 [==============================] - ETA: 0s - loss: 0.1769 - accuracy: 0.9173\\n\",\n            \"Epoch 19: val_accuracy did not improve from 0.91717\\n\",\n            \"\\n\",\n            \"Epoch 19: accuracy did not improve from 0.92018\\n\",\n            \"248/248 [==============================] - 2s 7ms/step - loss: 0.1769 - accuracy: 0.9173 - val_loss: 0.1944 - val_accuracy: 0.9152\\n\",\n            \"Epoch 20/50\\n\",\n            \"246/248 [============================\u003e.] - ETA: 0s - loss: 0.1767 - accuracy: 0.9215\\n\",\n            \"Epoch 20: val_accuracy did not improve from 0.91717\\n\",\n            \"\\n\",\n            \"Epoch 20: accuracy improved from 0.92018 to 0.92170, saving model to best_model_train.h5\\n\",\n            \"248/248 [==============================] - 2s 10ms/step - loss: 0.1763 - accuracy: 0.9217 - val_loss: 0.2235 - val_accuracy: 0.8985\\n\",\n            \"Epoch 21/50\\n\",\n            \"241/248 [============================\u003e.] - ETA: 0s - loss: 0.1744 - accuracy: 0.9219\\n\",\n            \"Epoch 21: val_accuracy did not improve from 0.91717\\n\",\n            \"\\n\",\n            \"Epoch 21: accuracy improved from 0.92170 to 0.92208, saving model to best_model_train.h5\\n\",\n            \"248/248 [==============================] - 2s 7ms/step - loss: 0.1742 - accuracy: 0.9221 - val_loss: 0.2014 - val_accuracy: 0.9081\\n\",\n            \"Epoch 22/50\\n\",\n            \"246/248 [============================\u003e.] - ETA: 0s - loss: 0.1775 - accuracy: 0.9210\\n\",\n            \"Epoch 22: val_accuracy did not improve from 0.91717\\n\",\n            \"\\n\",\n            \"Epoch 22: accuracy did not improve from 0.92208\\n\",\n            \"248/248 [==============================] - 2s 7ms/step - loss: 0.1772 - accuracy: 0.9211 - val_loss: 0.2439 - val_accuracy: 0.9040\\n\",\n            \"Epoch 23/50\\n\",\n            \"248/248 [==============================] - ETA: 0s - loss: 0.1768 - accuracy: 0.9212\\n\",\n            \"Epoch 23: val_accuracy did not improve from 0.91717\\n\",\n            \"\\n\",\n            \"Epoch 23: accuracy did not improve from 0.92208\\n\",\n            \"248/248 [==============================] - 2s 6ms/step - loss: 0.1768 - accuracy: 0.9212 - val_loss: 0.1905 - val_accuracy: 0.9126\\n\",\n            \"Epoch 24/50\\n\",\n            \"247/248 [============================\u003e.] - ETA: 0s - loss: 0.1676 - accuracy: 0.9261\\n\",\n            \"Epoch 24: val_accuracy improved from 0.91717 to 0.91919, saving model to best_model_val.h5\\n\",\n            \"\\n\",\n            \"Epoch 24: accuracy improved from 0.92208 to 0.92612, saving model to best_model_train.h5\\n\",\n            \"248/248 [==============================] - 2s 6ms/step - loss: 0.1676 - accuracy: 0.9261 - val_loss: 0.1774 - val_accuracy: 0.9192\\n\",\n            \"Epoch 25/50\\n\",\n            \"242/248 [============================\u003e.] - ETA: 0s - loss: 0.1707 - accuracy: 0.9238\\n\",\n            \"Epoch 25: val_accuracy did not improve from 0.91919\\n\",\n            \"\\n\",\n            \"Epoch 25: accuracy did not improve from 0.92612\\n\",\n            \"248/248 [==============================] - 2s 7ms/step - loss: 0.1707 - accuracy: 0.9240 - val_loss: 0.2072 - val_accuracy: 0.9071\\n\",\n            \"Epoch 26/50\\n\",\n            \"244/248 [============================\u003e.] - ETA: 0s - loss: 0.1760 - accuracy: 0.9210\\n\",\n            \"Epoch 26: val_accuracy did not improve from 0.91919\\n\",\n            \"\\n\",\n            \"Epoch 26: accuracy did not improve from 0.92612\\n\",\n            \"248/248 [==============================] - 2s 6ms/step - loss: 0.1761 - accuracy: 0.9208 - val_loss: 0.1901 - val_accuracy: 0.9116\\n\",\n            \"Epoch 27/50\\n\",\n            \"246/248 [============================\u003e.] - ETA: 0s - loss: 0.1690 - accuracy: 0.9247\\n\",\n            \"Epoch 27: val_accuracy improved from 0.91919 to 0.92071, saving model to best_model_val.h5\\n\",\n            \"\\n\",\n            \"Epoch 27: accuracy did not improve from 0.92612\\n\",\n            \"248/248 [==============================] - 2s 9ms/step - loss: 0.1685 - accuracy: 0.9249 - val_loss: 0.1759 - val_accuracy: 0.9207\\n\",\n            \"Epoch 28/50\\n\",\n            \"242/248 [============================\u003e.] - ETA: 0s - loss: 0.1651 - accuracy: 0.9267\\n\",\n            \"Epoch 28: val_accuracy did not improve from 0.92071\\n\",\n            \"\\n\",\n            \"Epoch 28: accuracy improved from 0.92612 to 0.92738, saving model to best_model_train.h5\\n\",\n            \"248/248 [==============================] - 2s 9ms/step - loss: 0.1643 - accuracy: 0.9274 - val_loss: 0.2256 - val_accuracy: 0.8980\\n\",\n            \"Epoch 29/50\\n\",\n            \"241/248 [============================\u003e.] - ETA: 0s - loss: 0.1680 - accuracy: 0.9249\\n\",\n            \"Epoch 29: val_accuracy did not improve from 0.92071\\n\",\n            \"\\n\",\n            \"Epoch 29: accuracy did not improve from 0.92738\\n\",\n            \"248/248 [==============================] - 2s 7ms/step - loss: 0.1679 - accuracy: 0.9247 - val_loss: 0.1990 - val_accuracy: 0.9136\\n\",\n            \"Epoch 30/50\\n\",\n            \"246/248 [============================\u003e.] - ETA: 0s - loss: 0.1647 - accuracy: 0.9282\\n\",\n            \"Epoch 30: val_accuracy did not improve from 0.92071\\n\",\n            \"\\n\",\n            \"Epoch 30: accuracy improved from 0.92738 to 0.92801, saving model to best_model_train.h5\\n\",\n            \"248/248 [==============================] - 2s 7ms/step - loss: 0.1650 - accuracy: 0.9280 - val_loss: 0.2105 - val_accuracy: 0.9071\\n\",\n            \"Epoch 31/50\\n\",\n            \"244/248 [============================\u003e.] - ETA: 0s - loss: 0.1686 - accuracy: 0.9239\\n\",\n            \"Epoch 31: val_accuracy did not improve from 0.92071\\n\",\n            \"\\n\",\n            \"Epoch 31: accuracy did not improve from 0.92801\\n\",\n            \"248/248 [==============================] - 2s 7ms/step - loss: 0.1685 - accuracy: 0.9238 - val_loss: 0.1970 - val_accuracy: 0.9061\\n\",\n            \"Epoch 32/50\\n\",\n            \"248/248 [==============================] - ETA: 0s - loss: 0.1570 - accuracy: 0.9294\\n\",\n            \"Epoch 32: val_accuracy did not improve from 0.92071\\n\",\n            \"\\n\",\n            \"Epoch 32: accuracy improved from 0.92801 to 0.92940, saving model to best_model_train.h5\\n\",\n            \"248/248 [==============================] - 2s 6ms/step - loss: 0.1570 - accuracy: 0.9294 - val_loss: 0.2574 - val_accuracy: 0.8929\\n\",\n            \"Epoch 33/50\\n\",\n            \"247/248 [============================\u003e.] - ETA: 0s - loss: 0.1619 - accuracy: 0.9270\\n\",\n            \"Epoch 33: val_accuracy did not improve from 0.92071\\n\",\n            \"\\n\",\n            \"Epoch 33: accuracy did not improve from 0.92940\\n\",\n            \"248/248 [==============================] - 2s 7ms/step - loss: 0.1618 - accuracy: 0.9270 - val_loss: 0.1785 - val_accuracy: 0.9202\\n\",\n            \"Epoch 34/50\\n\",\n            \"248/248 [==============================] - ETA: 0s - loss: 0.1626 - accuracy: 0.9275\\n\",\n            \"Epoch 34: val_accuracy did not improve from 0.92071\\n\",\n            \"\\n\",\n            \"Epoch 34: accuracy did not improve from 0.92940\\n\",\n            \"248/248 [==============================] - 3s 14ms/step - loss: 0.1626 - accuracy: 0.9275 - val_loss: 0.1920 - val_accuracy: 0.9162\\n\",\n            \"Epoch 35/50\\n\",\n            \"245/248 [============================\u003e.] - ETA: 0s - loss: 0.1602 - accuracy: 0.9273\\n\",\n            \"Epoch 35: val_accuracy did not improve from 0.92071\\n\",\n            \"\\n\",\n            \"Epoch 35: accuracy did not improve from 0.92940\\n\",\n            \"248/248 [==============================] - 3s 10ms/step - loss: 0.1602 - accuracy: 0.9273 - val_loss: 0.2243 - val_accuracy: 0.8960\\n\",\n            \"Epoch 36/50\\n\",\n            \"245/248 [============================\u003e.] - ETA: 0s - loss: 0.1572 - accuracy: 0.9295\\n\",\n            \"Epoch 36: val_accuracy did not improve from 0.92071\\n\",\n            \"\\n\",\n            \"Epoch 36: accuracy improved from 0.92940 to 0.92991, saving model to best_model_train.h5\\n\",\n            \"248/248 [==============================] - 2s 9ms/step - loss: 0.1567 - accuracy: 0.9299 - val_loss: 0.1832 - val_accuracy: 0.9197\\n\",\n            \"Epoch 37/50\\n\",\n            \"246/248 [============================\u003e.] - ETA: 0s - loss: 0.1584 - accuracy: 0.9292\\n\",\n            \"Epoch 37: val_accuracy did not improve from 0.92071\\n\",\n            \"\\n\",\n            \"Epoch 37: accuracy did not improve from 0.92991\\n\",\n            \"248/248 [==============================] - 2s 9ms/step - loss: 0.1585 - accuracy: 0.9293 - val_loss: 0.1835 - val_accuracy: 0.9157\\n\",\n            \"Epoch 38/50\\n\",\n            \"243/248 [============================\u003e.] - ETA: 0s - loss: 0.1562 - accuracy: 0.9285\\n\",\n            \"Epoch 38: val_accuracy did not improve from 0.92071\\n\",\n            \"\\n\",\n            \"Epoch 38: accuracy did not improve from 0.92991\\n\",\n            \"248/248 [==============================] - 2s 7ms/step - loss: 0.1560 - accuracy: 0.9285 - val_loss: 0.2104 - val_accuracy: 0.9061\\n\",\n            \"Epoch 39/50\\n\",\n            \"246/248 [============================\u003e.] - ETA: 0s - loss: 0.1524 - accuracy: 0.9333\\n\",\n            \"Epoch 39: val_accuracy did not improve from 0.92071\\n\",\n            \"\\n\",\n            \"Epoch 39: accuracy improved from 0.92991 to 0.93344, saving model to best_model_train.h5\\n\",\n            \"248/248 [==============================] - 2s 6ms/step - loss: 0.1521 - accuracy: 0.9334 - val_loss: 0.1792 - val_accuracy: 0.9162\\n\",\n            \"Epoch 40/50\\n\",\n            \"245/248 [============================\u003e.] - ETA: 0s - loss: 0.1515 - accuracy: 0.9332\\n\",\n            \"Epoch 40: val_accuracy did not improve from 0.92071\\n\",\n            \"\\n\",\n            \"Epoch 40: accuracy did not improve from 0.93344\\n\",\n            \"248/248 [==============================] - 2s 8ms/step - loss: 0.1514 - accuracy: 0.9332 - val_loss: 0.1832 - val_accuracy: 0.9197\\n\",\n            \"Epoch 41/50\\n\",\n            \"245/248 [============================\u003e.] - ETA: 0s - loss: 0.1503 - accuracy: 0.9353\\n\",\n            \"Epoch 41: val_accuracy improved from 0.92071 to 0.92172, saving model to best_model_val.h5\\n\",\n            \"\\n\",\n            \"Epoch 41: accuracy improved from 0.93344 to 0.93534, saving model to best_model_train.h5\\n\",\n            \"248/248 [==============================] - 2s 10ms/step - loss: 0.1504 - accuracy: 0.9353 - val_loss: 0.1920 - val_accuracy: 0.9217\\n\",\n            \"Epoch 42/50\\n\",\n            \"244/248 [============================\u003e.] - ETA: 0s - loss: 0.1552 - accuracy: 0.9339\\n\",\n            \"Epoch 42: val_accuracy did not improve from 0.92172\\n\",\n            \"\\n\",\n            \"Epoch 42: accuracy did not improve from 0.93534\\n\",\n            \"248/248 [==============================] - 2s 7ms/step - loss: 0.1550 - accuracy: 0.9341 - val_loss: 0.1891 - val_accuracy: 0.9136\\n\",\n            \"Epoch 43/50\\n\",\n            \"247/248 [============================\u003e.] - ETA: 0s - loss: 0.1480 - accuracy: 0.9340\\n\",\n            \"Epoch 43: val_accuracy did not improve from 0.92172\\n\",\n            \"\\n\",\n            \"Epoch 43: accuracy did not improve from 0.93534\\n\",\n            \"248/248 [==============================] - 2s 6ms/step - loss: 0.1483 - accuracy: 0.9338 - val_loss: 0.2024 - val_accuracy: 0.9131\\n\",\n            \"Epoch 44/50\\n\",\n            \"247/248 [============================\u003e.] - ETA: 0s - loss: 0.1466 - accuracy: 0.9335\\n\",\n            \"Epoch 44: val_accuracy did not improve from 0.92172\\n\",\n            \"\\n\",\n            \"Epoch 44: accuracy did not improve from 0.93534\\n\",\n            \"248/248 [==============================] - 2s 7ms/step - loss: 0.1464 - accuracy: 0.9336 - val_loss: 0.1872 - val_accuracy: 0.9197\\n\",\n            \"Epoch 45/50\\n\",\n            \"241/248 [============================\u003e.] - ETA: 0s - loss: 0.1435 - accuracy: 0.9356\\n\",\n            \"Epoch 45: val_accuracy did not improve from 0.92172\\n\",\n            \"\\n\",\n            \"Epoch 45: accuracy improved from 0.93534 to 0.93572, saving model to best_model_train.h5\\n\",\n            \"248/248 [==============================] - 2s 7ms/step - loss: 0.1435 - accuracy: 0.9357 - val_loss: 0.1860 - val_accuracy: 0.9157\\n\",\n            \"Epoch 46/50\\n\",\n            \"248/248 [==============================] - ETA: 0s - loss: 0.1478 - accuracy: 0.9348\\n\",\n            \"Epoch 46: val_accuracy did not improve from 0.92172\\n\",\n            \"\\n\",\n            \"Epoch 46: accuracy did not improve from 0.93572\\n\",\n            \"248/248 [==============================] - 2s 7ms/step - loss: 0.1478 - accuracy: 0.9348 - val_loss: 0.2062 - val_accuracy: 0.9035\\n\",\n            \"Epoch 47/50\\n\",\n            \"243/248 [============================\u003e.] - ETA: 0s - loss: 0.1397 - accuracy: 0.9376\\n\",\n            \"Epoch 47: val_accuracy did not improve from 0.92172\\n\",\n            \"\\n\",\n            \"Epoch 47: accuracy improved from 0.93572 to 0.93660, saving model to best_model_train.h5\\n\",\n            \"248/248 [==============================] - 2s 8ms/step - loss: 0.1414 - accuracy: 0.9366 - val_loss: 0.1861 - val_accuracy: 0.9177\\n\",\n            \"Epoch 48/50\\n\",\n            \"247/248 [============================\u003e.] - ETA: 0s - loss: 0.1412 - accuracy: 0.9391\\n\",\n            \"Epoch 48: val_accuracy did not improve from 0.92172\\n\",\n            \"\\n\",\n            \"Epoch 48: accuracy improved from 0.93660 to 0.93925, saving model to best_model_train.h5\\n\",\n            \"248/248 [==============================] - 3s 10ms/step - loss: 0.1411 - accuracy: 0.9393 - val_loss: 0.1937 - val_accuracy: 0.9217\\n\",\n            \"Epoch 49/50\\n\",\n            \"243/248 [============================\u003e.] - ETA: 0s - loss: 0.1403 - accuracy: 0.9376\\n\",\n            \"Epoch 49: val_accuracy did not improve from 0.92172\\n\",\n            \"\\n\",\n            \"Epoch 49: accuracy did not improve from 0.93925\\n\",\n            \"248/248 [==============================] - 2s 6ms/step - loss: 0.1419 - accuracy: 0.9366 - val_loss: 0.2095 - val_accuracy: 0.9091\\n\",\n            \"Epoch 50/50\\n\",\n            \"245/248 [============================\u003e.] - ETA: 0s - loss: 0.1421 - accuracy: 0.9375\\n\",\n            \"Epoch 50: val_accuracy did not improve from 0.92172\\n\",\n            \"\\n\",\n            \"Epoch 50: accuracy did not improve from 0.93925\\n\",\n            \"248/248 [==============================] - 2s 6ms/step - loss: 0.1423 - accuracy: 0.9375 - val_loss: 0.1973 - val_accuracy: 0.9217\\n\",\n            \"Train accuracy: 0.9401, Validation accuracy: 0.9217\\n\"\n          ]\n        }\n      ]\n    },\n    {\n      \"cell_type\": \"code\",\n      \"source\": [\n        \"\\n\",\n        \"\\n\",\n        \"# Split the data into features (X) and target (y)\\n\",\n        \"X = normalized_data.drop(columns=[\\\"brand\\\"])\\n\",\n        \"y = normalized_data[\\\"brand\\\"]\\n\",\n        \"\\n\",\n        \"# Get number of features\\n\",\n        \"n_features = X.shape[1]\\n\",\n        \"\\n\",\n        \"# Train models with single features\\n\",\n        \"single_feature_accuracies = []\\n\",\n        \"for i in range(n_features):\\n\",\n        \"    # Select single feature\\n\",\n        \"    X_single = X.iloc[:, i:i+1]\\n\",\n        \"    # Split data into training and validation sets\\n\",\n        \"    train_size = int(0.8 * len(X_single))\\n\",\n        \"    X_train, X_val = X_single.iloc[:train_size], X_single.iloc[train_size:]\\n\",\n        \"    y_train, y_val = y.iloc[:train_size], y.iloc[train_size:]\\n\",\n        \"    # Build and train model\\n\",\n        \"    model = Sequential([\\n\",\n        \"        Dense(32, activation=\\\"relu\\\", input_shape=[1]),\\n\",\n        \"        Dense(64, activation=\\\"relu\\\"),\\n\",\n        \"        Dense(1, activation=\\\"sigmoid\\\")\\n\",\n        \"    ])\\n\",\n        \"    model.compile(optimizer=\\\"adam\\\", loss=\\\"binary_crossentropy\\\", metrics=[\\\"accuracy\\\"])\\n\",\n        \"    # Define checkpoint to save best model\\n\",\n        \"    checkpoint = ModelCheckpoint(\\\"best_single_feature_model.h5\\\", save_best_only=True, save_weights_only=True)\\n\",\n        \"    # Train model with checkpointing\\n\",\n        \"    model.fit(X_train, y_train, validation_data=(X_val, y_val), epochs=50, callbacks=[checkpoint], verbose=1)\\n\",\n        \"    # Load best model and compute validation accuracy\\n\",\n        \"    model.load_weights(\\\"best_single_feature_model.h5\\\")\\n\",\n        \"    _, accuracy = model.evaluate(X_val, y_val, verbose=1)\\n\",\n        \"    single_feature_accuracies.append(accuracy)\\n\",\n        \"\\n\",\n        \"# Plot single-feature accuracies\\n\",\n        \"plt.bar(range(n_features), single_feature_accuracies)\\n\",\n        \"plt.xlabel(\\\"Feature Index\\\")\\n\",\n        \"plt.ylabel(\\\"Validation Accuracy\\\")\\n\",\n        \"plt.title(\\\"Validation Accuracies of Models with Single Features\\\")\\n\",\n        \"plt.show()\\n\",\n        \"\\n\",\n        \"# Train models with reduced feature sets\\n\",\n        \"reduced_feature_accuracies = [max(single_feature_accuracies)]\\n\",\n        \"for i in range(1, n_features):\\n\",\n        \"    # Select features to keep\\n\",\n        \"    features_to_keep = np.argsort(single_feature_accuracies)[:n_features-i]\\n\",\n        \"    X_reduced = X.iloc[:, features_to_keep]\\n\",\n        \"    # Split data into training and validation sets\\n\",\n        \"    train_size = int(0.8 * len(X_reduced))\\n\",\n        \"    X_train, X_val = X_reduced.iloc[:train_size], X_reduced.iloc[train_size:]\\n\",\n        \"    y_train, y_val = y.iloc[:train_size], y.iloc[train_size:]\\n\",\n        \"    # Build and train model\\n\",\n        \"    model = Sequential([\\n\",\n        \"        Dense(32, activation=\\\"relu\\\", input_shape=[X_reduced.shape[1]]),\\n\",\n        \"        Dense(64, activation=\\\"relu\\\"),\\n\",\n        \"        Dense(1, activation=\\\"sigmoid\\\")\\n\",\n        \"    ])\\n\",\n        \"    model.compile(optimizer=\\\"adam\\\", loss=\\\"binary_crossentropy\\\", metrics=[\\\"accuracy\\\"])\\n\",\n        \"    # Define checkpoint to save best model\\n\",\n        \"    checkpoint = ModelCheckpoint(\\\"best_reduced_feature_model.h5\\\", save_best_only=True, save_weights_only=True)\\n\",\n        \"    # Train model with checkpointing\\n\",\n        \"    model.fit(X_train, y_train, validation_data=(X_val, y_val), epochs=50, callbacks=[checkpoint], verbose=1)\\n\",\n        \"    # Load best model and compute validation accuracy\\n\",\n        \"    model.load_weights(\\\"best_reduced_feature_model.h5\\\")\\n\",\n        \"    _, accuracy = model.evaluate(X_val, y_val, verbose=1)\\n\",\n        \"    reduced_feature_accuracies.append(accuracy)\\n\",\n        \"# Plot accuracies of models with reduced feature sets\\n\",\n        \"plt.plot(range(len(reduced_feature_accuracies)), reduced_feature_accuracies)\\n\",\n        \"plt.xlabel(\\\"Number of Features Removed\\\")\\n\",\n        \"plt.ylabel(\\\"Validation Accuracy\\\")\\n\",\n        \"plt.title(\\\"Validation Accuracies of Models with Reduced Feature Sets\\\")\\n\",\n        \"plt.show()\\n\"\n      ],\n      \"metadata\": {\n        \"colab\": {\n          \"base_uri\": \"https://localhost:8080/\",\n          \"height\": 927\n        },\n        \"id\": \"uRNpCAJ84rZ3\",\n        \"outputId\": \"7b47f85c-0345-4d37-8f97-59aa5745123c\"\n      },\n      \"execution_count\": 12,\n      \"outputs\": [\n        {\n          \"output_type\": \"display_data\",\n          \"data\": {\n            \"text/plain\": [\n              \"\u003cFigure size 640x480 with 1 Axes\u003e\"\n            ],\n            \"image/png\": \"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\\n\"\n          },\n          \"metadata\": {}\n        },\n        {\n          \"output_type\": \"display_data\",\n          \"data\": {\n            \"text/plain\": [\n              \"\u003cFigure size 640x480 with 1 Axes\u003e\"\n            ],\n            \"image/png\": \"iVBORw0KGgoAAAANSUhEUgAAAkAAAAHHCAYAAABXx+fLAAAAOXRFWHRTb2Z0d2FyZQBNYXRwbG90bGliIHZlcnNpb24zLjcuMSwgaHR0cHM6Ly9tYXRwbG90bGliLm9yZy/bCgiHAAAACXBIWXMAAA9hAAAPYQGoP6dpAABrVklEQVR4nO3dd1xV9f8H8Ne9l3HZyB4iIOAWUVzIcIvmyMqZ5SitzFIjrayvqxzZMHOkaa5Ky1xZv5yhKThyz0QBcbORISrj3s/vD7snr4ByFTiM1/PxuA/l3HPPed/DHS/O+QyFEEKAiIiIqAZRyl0AERERUUVjACIiIqIahwGIiIiIahwGICIiIqpxGICIiIioxmEAIiIiohqHAYiIiIhqHAYgIiIiqnEYgIiIiKjGYQCS0eXLl6FQKLBq1Spp2bRp06BQKEr1eIVCgWnTppVpTR06dECHDh3KdJtUen/99RcUCgX++usvuUspVmxsLLp16wYbGxsoFAr8+uuvcpdUxNO8hr28vDB8+PAyrccQw4cPh5eXV6nXtbS0LN+Cykhl/1xZtWoVFAoFLl++LHcpVIEYgEqpT58+MDc3R05OTonrDBkyBCYmJkhPT6/Aygz3zz//YNq0aZX2zb5161YoFAq4ublBq9XKXQ49YNiwYThz5gxmzpyJH374AS1btix2PV24VygUmDFjRrHrDBkyBAqFosp8icvhzp07mDZtWrkE4g4dOki/I4VCATMzM/j7+2PevHl835VA9wdqcbclS5aUyz63bt1a5n/olqXo6Gj06NED7u7uUKvVqFOnDnr37o21a9c+0fa++eYbvZMC5YkBqJSGDBmCu3fvYvPmzcXef+fOHWzZsgXdu3eHvb39E+/nf//7H+7evfvEjy+Nf/75B9OnTy82AO3cuRM7d+4s1/0/zpo1a+Dl5YXExETs3r1b1loqWlhYGO7evYuwsDC5Syni7t27OHjwIF599VW89dZbeOmll1C7du1HPkatVuOnn34qsjw3NxdbtmyBWq0ur3KrpGXLluHChQvSz3fu3MH06dPL7Yxg7dq18cMPP+CHH37A7NmzoVar8c4772Dy5Mnlsr/qYvHixdJx0906d+5cLvvaunUrpk+fXi7bflrr169HWFgYkpOTMW7cOCxYsAAvvfQSbt26hWXLlj3RNisyABlVyF6qgT59+sDKygpr167F0KFDi9y/ZcsW5ObmYsiQIU+1HyMjIxgZyfdrMTExkW3fwH9fjLNnz8bKlSuxZs0adOnSRdaaSpKbmwsLC4sy3aZSqay0oSA1NRUAYGtrW+rHPPPMM9i0aRNOnTqFZs2aScu3bNmC/Px8dO/evcaF3EcxNjau0P3Z2NjgpZdekn5+44030KBBAyxYsAAff/wxVCpVhdZTVfTr1w8ODg5yl/FUyuLza9q0aWjUqBEOHTpU5LsjJSXlqbZdEXgGqJTMzMzw/PPPIzIysthf7Nq1a2FlZYU+ffogIyMDEyZMQNOmTWFpaQlra2v06NEDp06deux+imsDlJeXh3feeQeOjo7SPq5fv17ksVeuXMGbb76J+vXrw8zMDPb29ujfv7/emZ5Vq1ahf//+AICOHTtKp291f2EWd60+JSUFr776KpydnaFWq9GsWTOsXr1abx3dJY8vvvgCS5cuhY+PD0xNTdGqVSscOXLksc9bZ/Pmzbh79y769++PQYMGYdOmTbh3716R9e7du4dp06ahXr16UKvVcHV1xfPPP4/4+HhpHa1Wi6+//hpNmzaFWq2Go6MjunfvjqNHj+rVXNxfGw+3r9L9Xv755x+8+OKLqFWrFkJCQgAAp0+fxvDhw1G3bl2o1Wq4uLjglVdeKfZS6I0bN/Dqq6/Czc0Npqam8Pb2xujRo5Gfnw+g5DZAf//9N7p37w4bGxuYm5ujffv22L9/v946OTk5GD9+PLy8vGBqagonJyd07doVx48ff+xxP3HiBHr06AFra2tYWlqic+fOOHTokN7z9/T0BABMnDgRCoWiVG1VgoKC4O3tXeR0+Jo1a9C9e3fY2dkV+7hvvvkGjRs3hqmpKdzc3DBmzBhkZmYWWU/3WjMzM0Pr1q0RFRVV7Pby8vIwdepU+Pr6wtTUFB4eHnjvvfeQl5f3yPoLCgowffp0+Pn5Qa1Ww97eHiEhIdi1a1eJj8nMzIRKpcL8+fOlZWlpaVAqlbC3t4cQQlo+evRouLi4SD8/2Abo8uXLcHR0BABMnz5deq8+fDnkxo0b6Nu3LywtLeHo6IgJEyZAo9E88nmVRK1Wo1WrVsjJySnyOffjjz8iMDAQZmZmsLOzw6BBg3Dt2rUi2yjN76SkNjePev0/88wzqFWrFiwsLODv74+vv/5ab52YmBj069cPdnZ2UKvVaNmyJX777bci+z537hw6deoEMzMz1K5dGzNmzCjzS36lOVZRUVHo378/6tSpI70m33nnHb0rAMOHD8eiRYsAQO9yG1DysSruc03XXiw+Ph7PPPMMrKyspD/WtVot5s2bh8aNG0OtVsPZ2Rmvv/46bt269djnGR8fj1atWhX7h7OTk5Pez6XZj5eXF86dO4e9e/dKz1X3ffQk78XH4RkgAwwZMgSrV6/GL7/8grfeektanpGRgR07dmDw4MEwMzPDuXPn8Ouvv6J///7w9vZGcnIyvv32W7Rv3x7//PMP3NzcDNrvyJEj8eOPP+LFF19Eu3btsHv3bvTs2bPIekeOHMGBAwcwaNAg1K5dG5cvX8bixYvRoUMH/PPPPzA3N0dYWBjGjh2L+fPn48MPP0TDhg0BQPr3YXfv3kWHDh0QFxeHt956C97e3li/fj2GDx+OzMxMjBs3Tm/9tWvXIicnB6+//joUCgU+++wzPP/887h06VKp/rpds2YNOnbsCBcXFwwaNAgffPABfv/9dym0AYBGo0GvXr0QGRmJQYMGYdy4ccjJycGuXbtw9uxZ+Pj4AABeffVVrFq1Cj169MDIkSNRWFiIqKgoHDp0qMS2K4/Tv39/+Pn5YdasWdIX2a5du3Dp0iWMGDECLi4uOHfuHJYuXYpz587h0KFD0gfWzZs30bp1a2RmZuK1115DgwYNcOPGDWzYsAF37twp8ezb7t270aNHDwQGBmLq1KlQKpVYuXIlOnXqhKioKLRu3RrA/b/eN2zYgLfeeguNGjVCeno6oqOjcf78ebRo0aLE53Tu3DmEhobC2toa7733HoyNjfHtt9+iQ4cO2Lt3L9q0aYPnn38etra2eOeddzB48GA888wzpW67M3jwYPz444/49NNPoVAokJaWhp07d+KHH37A9u3bi6w/bdo0TJ8+HV26dMHo0aNx4cIFLF68GEeOHMH+/ful19Hy5cvx+uuvo127dhg/fjwuXbqEPn36wM7ODh4eHtL2tFot+vTpg+joaLz22mto2LAhzpw5g6+++goXL158ZEPuadOmYfbs2Rg5ciRat26N7OxsHD16FMePH0fXrl2LfYytrS2aNGmCffv2YezYsQDut5NQKBTIyMjAP//8g8aNGwO4/yUYGhpa7HYcHR2xePFijB49Gs899xyef/55AIC/v7+0jkajQXh4ONq0aYMvvvgCf/75J7788kv4+Phg9OjRj/itlEz3Bfrgmb6ZM2di8uTJGDBgAEaOHInU1FQsWLAAYWFhOHHihLRuaX8nhti1axd69eoFV1dXjBs3Di4uLjh//jz+7//+T/r8OXfuHIKDg+Hu7o4PPvgAFhYW+OWXX9C3b19s3LgRzz33HAAgKSkJHTt2RGFhobTe0qVLYWZmZlBNGRkZej+rVCrUqlXLoGO1fv163LlzB6NHj4a9vT0OHz6MBQsW4Pr161i/fj0A4PXXX8fNmzexa9cu/PDDD090/HQKCwsRHh6OkJAQfPHFFzA3N5f2sWrVKowYMQJjx45FQkICFi5ciBMnTui934rj6emJyMhIXL9+/bGXw0uzn3nz5uHtt9+GpaUlPvroIwCAs7MzgCd7Lz6WoFIrLCwUrq6uIigoSG/5kiVLBACxY8cOIYQQ9+7dExqNRm+dhIQEYWpqKj7++GO9ZQDEypUrpWVTp04VD/5aTp48KQCIN998U297L774ogAgpk6dKi27c+dOkZoPHjwoAIjvv/9eWrZ+/XoBQOzZs6fI+u3btxft27eXfp43b54AIH788UdpWX5+vggKChKWlpYiOztb77nY29uLjIwMad0tW7YIAOL3338vsq+HJScnCyMjI7Fs2TJpWbt27cSzzz6rt96KFSsEADF37twi29BqtUIIIXbv3i0AiLFjx5a4TnHHX+fhY6v7vQwePLjIusUd959++kkAEPv27ZOWDR06VCiVSnHkyJESa9qzZ4/e70ar1Qo/Pz8RHh4uraPbp7e3t+jatau0zMbGRowZM6bIth+nb9++wsTERMTHx0vLbt68KaysrERYWJi0THe8Pv/888du88F1z549KwCIqKgoIYQQixYtEpaWliI3N1cMGzZMWFhYSI9LSUkRJiYmolu3bnrvoYULFwoAYsWKFUKI+69BJycnERAQIPLy8qT1li5dKgDovYZ/+OEHoVQqpf3r6N63+/fvl5Z5enqKYcOGST83a9ZM9OzZ87HP92FjxowRzs7O0s8REREiLCxMODk5icWLFwshhEhPTxcKhUJ8/fXX0nrDhg0Tnp6e0s+pqalFXosPrgtA7zNFCCGaN28uAgMDH1tj+/btRYMGDURqaqpITU0VMTExYuLEiQKA3nO+fPmyUKlUYubMmXqPP3PmjDAyMpKWG/I7WblypQAgEhIS9Lb58Ou/sLBQeHt7C09PT3Hr1i29dR98P3Tu3Fk0bdpU3Lt3T+/+du3aCT8/P2nZ+PHjBQDx999/S8tSUlKEjY1NsfU8TPc58PBN9zsr7bESovjPjdmzZwuFQiGuXLkiLRszZozed4LOw8dKp7jPNd1r5YMPPtBbNyoqSgAQa9as0Vu+ffv2Ypc/bPny5QKAMDExER07dhSTJ08WUVFRRb7/DNlP48aN9V4rOk/6XnwUXgIzgEqlwqBBg3Dw4EG9U7dr166Fs7Oz1AjO1NQUSuX9Q6vRaJCeng5LS0vUr1+/VJcjHrR161YAkP6S1Bk/fnyRdR/8K6agoADp6enw9fWFra2twft9cP8uLi4YPHiwtMzY2Bhjx47F7du3sXfvXr31Bw4cKP0lBED66/bSpUuP3dfPP/8MpVKJF154QVo2ePBgbNu2Te806caNG+Hg4IC33367yDZ0Z1s2btwIhUKBqVOnlrjOk3jjjTeKLHvwuN+7dw9paWlo27YtAEjHXavV4tdff0Xv3r2LPftUUk0nT55EbGwsXnzxRaSnpyMtLQ1paWnIzc1F586dsW/fPun0va2tLf7++2/cvHmz1M9Ho9Fg586d6Nu3L+rWrSstd3V1xYsvvojo6GhkZ2eXenvFady4Mfz9/aXG0GvXrsWzzz4r/QX6oD///BP5+fkYP3689B4CgFGjRsHa2hp//PEHAODo0aNISUnBG2+8oXfmbPjw4bCxsdHb5vr169GwYUM0aNBAOn5paWno1KkTAGDPnj0l1m5ra4tz584hNjbWoOccGhqK5ORkqUFzVFQUwsLCEBoaKl0Sio6OhhCixDNApfXwazI0NLRU7zfg/mUjR0dHODo6okGDBvj888/Rp08fvcsnmzZtglarxYABA/SOn4uLC/z8/KTjZ8jvpLROnDiBhIQEjB8/vkjbM917JiMjA7t378aAAQOQk5Mj1Zeeno7w8HDExsbixo0bAO5/nrVt21Y6awrcP9NmaNvNjRs3YteuXdJtzZo1AEp/rAD9z43c3FykpaWhXbt2EELgxIkTBtVTWg+fFVy/fj1sbGzQtWtXvXoDAwNhaWn5yPcGALzyyivYvn07OnTogOjoaHzyyScIDQ2Fn58fDhw4UGb7AZ78vfgoDEAG0r1RdG0arl+/jqioKAwaNEhqMKjVavHVV1/Bz88PpqamcHBwgKOjI06fPo2srCyD9nflyhUolUrpso5O/fr1i6x79+5dTJkyBR4eHnr7zczMNHi/D+7fz89P78sI+O+S2ZUrV/SW16lTR+9nXRgqzfXkH3/8Ea1bt0Z6ejri4uIQFxeH5s2bIz8/XzolDNy/7ly/fv1HNhaPj4+Hm5tbiW1MnpS3t3eRZRkZGRg3bhycnZ1hZmYGR0dHaT3dcU9NTUV2djaaNGli0P50b/Zhw4ZJX1S623fffYe8vDxpH5999hnOnj0LDw8PtG7dGtOmTXvsF2Fqairu3LlT7OupYcOG0Gq1xbbzMNSLL76I9evXIy4uDgcOHMCLL75Y7Hq619PD9ZiYmKBu3brS/bp//fz89NYzNjbWC3LA/WN47ty5IsevXr16AB7dWPPjjz9GZmYm6tWrh6ZNm2LixIk4ffr0Y5+vLtRERUUhNzcXJ06cQGhoKMLCwqQAFBUVBWtra73G4YbStW17UK1atUr1fgPut7nYtWsXduzYgW+++Qbu7u5ITU3Va4gfGxsLIQT8/PyKHMPz589Lx8+Q30lp6dr0Pep9ExcXByEEJk+eXKQ+3R9AD9b4cH1A8Z+njxIWFoYuXbpIt+DgYAClP1YAcPXqVQwfPhx2dnZS+6327dsDwBN/Xj+KkZFRkctUsbGxyMrKgpOTU5F6b9++XaqGzOHh4dixYwcyMzOxb98+jBkzBleuXEGvXr2kx5fFfp70vfgobANkoMDAQDRo0AA//fQTPvzwQ/z0008QQuj9BTFr1ixMnjwZr7zyCj755BPY2dlBqVRi/Pjx5Tq+xttvv42VK1di/PjxCAoKkgarGzRoUIWN61FSrxHxQMPP4sTGxkqNpYv7gFqzZg1ee+21py/wASWddXlUA9Li2goMGDAABw4cwMSJExEQEABLS0totVp07979qY+77vGff/45AgICil1H1xZnwIABCA0NxebNm7Fz5058/vnnmDNnDjZt2oQePXo8VR1Pa/DgwZg0aRJGjRoFe3t7dOvWrcL2rdVq0bRpU8ydO7fY+x/VNiUsLAzx8fHYsmULdu7cie+++w5fffUVlixZgpEjR5b4ODc3N3h7e2Pfvn3w8vKCEAJBQUFwdHTEuHHjcOXKFURFRaFdu3ZF/rgwxNP20rKwsNDrZRkcHIwWLVrgww8/lBpxa7VaKBQKbNu2rdj9Pck4Tk/y3iuJ7j0yYcIEhIeHF7uOr6+vwdt9EqU9VhqNBl27dkVGRgbef/99NGjQABYWFrhx4waGDx9eqs8NQ4/hg1cmHqzXyclJOoP1sIfD9aOYm5sjNDQUoaGhcHBwwPTp07Ft2zYMGzasTPbzpO/FR2EAegJDhgzB5MmTcfr0aaxduxZ+fn5o1aqVdP+GDRvQsWNHLF++XO9xmZmZBned9PT0hFarlc566Dw4VsiD+x02bBi+/PJLadm9e/eK9J4x5BKQp6cnTp8+Da1Wq/fmiYmJke4vC2vWrIGxsTF++OGHIh8c0dHRmD9/Pq5evYo6derAx8cHf//9NwoKCkpsoOfj44MdO3YgIyOjxLNAurNTDx+fh89qPcqtW7cQGRmJ6dOnY8qUKdLyh0/TOjo6wtraGmfPni31tgFIZ/6sra1LNRyAq6sr3nzzTbz55ptISUlBixYtMHPmzBIDkKOjI8zNzYt9PcXExECpVD5x49UH1alTB8HBwfjrr78wevToEs/e6V5PFy5c0DtrkJ+fj4SEBOkY6NaLjY2VLmUB9y/9JiQk6J1V8fHxwalTp9C5c+cnuvxpZ2eHESNGYMSIEbh9+zbCwsIwbdq0x37ohoaGYt++ffD29kZAQACsrKzQrFkz2NjYYPv27Th+/Phjx3d5msu1T8Lf3x8vvfQSvv32W0yYMEF6vwkh4O3tLZ01K44hv5PSvvd0r/+zZ8+W+PrXvU6MjY0f+x7x9PQs9hJKca//J1HaY3XmzBlcvHgRq1ev1htWpbgeTSW9Bsri88vHxwd//vkngoODDW4I/ii6y/yJiYkG7+dRr/knfS+WhJfAnoDubM+UKVNw8uTJItePVSpVkTMe69evl65DG0L3xfVgl1oAmDdvXpF1i9vvggULivxFoBv7obhuxQ975plnkJSUhHXr1knLCgsLsWDBAlhaWkqnbJ/WmjVrEBoaioEDB6Jfv356t4kTJwKA1IbkhRdeQFpaGhYuXFhkO7rn/8ILL0AIUewXjG4da2trODg4YN++fXr3f/PNN6WuWxfWHj7uD/9+lEol+vbti99//13qhl9cTQ8LDAyEj48PvvjiC9y+fbvI/bqxeTQaTZHT5k5OTnBzc3tkV2+VSoVu3bphy5Yteu3akpOTsXbtWoSEhMDa2rrExxtixowZmDp1arFtt3S6dOkCExMTzJ8/X++YLF++HFlZWVLvx5YtW8LR0RFLliyRhhAA7nevfvh1PWDAANy4caPYgdnu3r2L3NzcEut5eCgDS0tL+Pr6Prb7PHA/AF2+fBnr1q2TLokplUq0a9cOc+fORUFBwWPb/+jaSZXmvVpW3nvvPRQUFEhnzJ5//nmoVCpMnz69yOtUCCEdI0N+J7pg8+B7T6PRYOnSpXrrtWjRAt7e3pg3b16RbehqcXJyQocOHfDtt99KX7gP0r1HgPufZ4cOHcLhw4f17i/pzIShSnusivvcEEIU6doPlPx57enpCZVK9VSfXwMGDIBGo8Enn3xS5L7CwsLHvu4iIyOLXa5ru6r7o92Q/VhYWBS736d5L5aEZ4CegLe3N9q1a4ctW7YAQJEA1KtXL3z88ccYMWIE2rVrhzNnzmDNmjVPdB08ICAAgwcPxjfffIOsrCy0a9cOkZGRiIuLK7Jur1698MMPP8DGxgaNGjXCwYMH8eeffxYZmTogIAAqlQpz5sxBVlYWTE1N0alTpyLjNgDAa6+9hm+//RbDhw/HsWPH4OXlhQ0bNmD//v2YN28erKysDH5OD/v777+lbvbFcXd3R4sWLbBmzRq8//77GDp0KL7//ntERETg8OHDCA0NRW5uLv7880+8+eabePbZZ9GxY0e8/PLLmD9/PmJjY6XLUVFRUejYsaO0r5EjR+LTTz/FyJEj0bJlS+zbtw8XL14sde3W1tYICwvDZ599hoKCAri7u2Pnzp1ISEgosu6sWbOwc+dOtG/fXuqOnZiYiPXr1yM6OrrYAQaVSiW+++479OjRA40bN8aIESPg7u6OGzduYM+ePbC2tsbvv/+OnJwc1K5dG/369UOzZs1gaWmJP//8E0eOHNE7I1icGTNmYNeuXQgJCcGbb74JIyMjfPvtt8jLy8Nnn31W6mPxOO3bt39sYHZ0dMSkSZMwffp0dO/eHX369MGFCxfwzTffoFWrVtKgfcbGxpgxYwZef/11dOrUCQMHDkRCQgJWrlxZ5H328ssv45dffsEbb7yBPXv2IDg4GBqNBjExMfjll1+wY8eOEodFaNSoETp06IDAwEDY2dnh6NGj0lADj6MLNxcuXMCsWbOk5WFhYdi2bZs0TtajmJmZoVGjRli3bh3q1asHOzs7NGnSxOC2ZIZo1KgRnnnmGXz33XeYPHkyfHx8MGPGDEyaNAmXL19G3759YWVlhYSEBGzevBmvvfYaJkyYYNDvpHHjxmjbti0mTZoknaX9+eefUVhYqLeeUqnE4sWL0bt3bwQEBGDEiBFwdXVFTEwMzp07hx07dgAAFi1ahJCQEDRt2hSjRo1C3bp1kZycjIMHD+L69evSGGzvvfcefvjhB3Tv3h3jxo2TusHrznQ/rdIeqwYNGsDHxwcTJkzAjRs3YG1tjY0bNxbbdiswMBDA/Y4w4eHhUmccGxsb9O/fHwsWLIBCoYCPjw/+7//+z6ABCNu3b4/XX38ds2fPxsmTJ9GtWzcYGxsjNjYW69evx9dff41+/fqV+Phnn30W3t7e6N27N3x8fKTP4d9//x2tWrVC7969Dd5PYGAgFi9ejBkzZsDX1xdOTk7o1KnTU70XS1SmfcpqkEWLFgkAonXr1kXuu3fvnnj33XeFq6urMDMzE8HBweLgwYNFupiXphu8EELcvXtXjB07Vtjb2wsLCwvRu3dvce3atSLdY2/duiVGjBghHBwchKWlpQgPDxcxMTFFuvYKIcSyZctE3bp1hUql0utK+XCNQtzvnq7bromJiWjatGmRruOP6iL9cJ0Pe/vttwUAvW7YD5s2bZoAIE6dOiWEuN+F9KOPPhLe3t7C2NhYuLi4iH79+ulto7CwUHz++eeiQYMGwsTERDg6OooePXqIY8eOSevcuXNHvPrqq8LGxkZYWVmJAQMGiJSUlBK7waemphap7fr16+K5554Ttra2wsbGRvTv31/cvHmz2Od95coVMXToUOHo6ChMTU1F3bp1xZgxY6RuwyV1bT1x4oR4/vnnhb29vTA1NRWenp5iwIABIjIyUgghRF5enpg4caJo1qyZsLKyEhYWFqJZs2bim2++KfGYPuj48eMiPDxcWFpaCnNzc9GxY0dx4MABvXWetBv8ozzcDV5n4cKFokGDBsLY2Fg4OzuL0aNHF+kGLYQQ33zzjfD29hampqaiZcuWYt++fcW+hvPz88WcOXNE48aNhampqahVq5YIDAwU06dPF1lZWdJ6D79XZsyYIVq3bi1sbW2FmZmZaNCggZg5c6bIz89/7DEQQggnJycBQCQnJ0vLoqOjBQARGhpa7PF4sBu8EEIcOHBABAYGChMTE73XVEnHrrjPkOK0b99eNG7cuNj7/vrrryKv340bN4qQkBBhYWEhLCwsRIMGDcSYMWPEhQsX9B5b2t9JfHy86NKlizA1NRXOzs7iww8/FLt27Sr29R8dHS26du0qvbb9/f3FggULimxv6NChwsXFRRgbGwt3d3fRq1cvsWHDBr31Tp8+Ldq3by/UarVwd3cXn3zyidSdu7Td4Iv7HHhQaY7VP//8I7p06SIsLS2Fg4ODGDVqlDh16lSR74TCwkLx9ttvC0dHR6FQKPR+t6mpqeKFF14Q5ubmolatWuL111+Xhp14uBt8ca8VnaVLl4rAwEBhZmYmrKysRNOmTcV7770nbt68+cjn+dNPP4lBgwYJHx8fYWZmJtRqtWjUqJH46KOPpCFSDN1PUlKS6Nmzp7CystIbPuFp34vFUQjxmNapRERERNUM2wARERFRjcMARERERDUOAxARERHVOJUiAC1atAheXl5Qq9Vo06aNXhfFh3Xo0EFvVlzdrbjJQYH7w8QrFIpiu40TERFRzSR7AFq3bh0iIiIwdepUHD9+HM2aNUN4eHiJXfk2bdqExMRE6Xb27FmoVCq92cJ1Nm/ejEOHDhk8+zoRERFVb7IHoLlz52LUqFEYMWIEGjVqhCVLlsDc3BwrVqwodn07Ozu4uLhIt127dsHc3LxIALpx4wbefvttaYRhIiIiIh1ZB0LMz8/HsWPHMGnSJGmZUqlEly5dcPDgwVJtY/ny5Rg0aJA0WiZwf36Tl19+GRMnTkTjxo0fu428vDy90SS1Wi0yMjJgb29f4UPRExER0ZMRQiAnJwdubm6PnWdP1gCUlpYGjUYDZ2dnveXOzs7SXFOPcvjwYZw9e7bInFtz5syBkZERxo4dW6o6Zs+e/dg5eYiIiKhquHbtGmrXrv3Idar0VBjLly9H06ZN0bp1a2nZsWPH8PXXX+P48eOlPnszadIkRERESD9nZWWhTp06uHbtWpnNg0RERETlKzs7Gx4eHqWapknWAOTg4ACVSoXk5GS95cnJyXBxcXnkY3Nzc/Hzzz/j448/1lseFRWFlJQU1KlTR1qm0Wjw7rvvYt68eXoTPuqYmprC1NS0yHJra2sGICIioiqmNCdAZG0EbWJigsDAQL0ZZbVaLSIjIxEUFPTIx65fvx55eXnS5Ig6L7/8Mk6fPo2TJ09KNzc3N0ycOFGaOI+IiIhqNtkvgUVERGDYsGFo2bIlWrdujXnz5iE3NxcjRowAAAwdOhTu7u6YPXu23uOWL1+Ovn37Fpnp3N7evsgyY2NjuLi4oH79+uX7ZIiIiKhKkD0ADRw4EKmpqZgyZQqSkpIQEBCA7du3Sw2jr169WqQl94ULFxAdHY2dO3fKUTIRERFVcZwNvhjZ2dmwsbFBVlYW2wARERFVEYZ8f8s+ECIRERFRRWMAIiIiohqHAYiIiIhqHAYgIiIiqnEYgIiIiKjGYQAiIiKiGocBiIiIiGocBiAiIiKqcRiAKlhi1l1cSr0tdxlEREQ1GgNQBVq5PwFBs3fjy50X5S6FiIioRmMAqkBN3W0AAPvj06DVcgYSIiIiuTAAVaBmHrawNDVC5p0CnLuZLXc5RERENRYDUAUyVinRtq49ACAqLlXmaoiIiGouBqAKFuJ7PwDtj0uTuRIiIqKaiwGogoX4OQIAjly+hXsFGpmrISIiqpkYgCqYj6MFXG3UyC/U4nBChtzlEBER1UgMQBVMoVAgxNcBABDNy2BERESyYACSQYjfvwEolgGIiIhIDgxAMgj+9wzQP4nZSLudJ3M1RERENQ8DkAwcLE3R0NUaAHuDERERyYEBSCbsDk9ERCQfBiCZ6LrDR8emQQhOi0FERFSRGIBk0trLDiYqJW5m3cOltFy5yyEiIqpRGIBkYmaiQkuvWgDYG4yIiKiiMQDJKJjjAREREcmCAUhGof+OB3QoPh2FGq3M1RAREdUcDEAyauxmA1tzY+TkFeLU9Uy5yyEiIqoxGIBkpFIq0M7nfnf46Nh0mashIiKqORiAZBbi+293+LhUmSshIiKqORiAZKZrB3TiaiZu5xXKXA0REVHNwAAkMw87c3jam6NQK3AonpfBiIiIKgIDUCXA7vBEREQViwGoEghlACIiIqpQDECVQDsfBygUQFzKbSRm3ZW7HCIiomqPAagSsDE3hr+7DQBgfxzbAREREZU3BqBKIuTf3mDRsewOT0REVN4YgCqJ/8YDSocQQuZqiIiIqjcGoEqihactzIxVSLudh5ikHLnLISIiqtYYgCoJUyMVWnvbAQD2szcYERFRuWIAqkR0o0JHxTIAERERlScGoEpE1xD674R05BVqZK6GiIio+mIAqkTqO1vBwdIU9wq0OH4lU+5yiIiIqi0GoEpEoVAgxNceAGeHJyIiKk8MQJVMiN+/3eHZDoiIiKjcMABVMiH/zgt2+kYWMu/ky1wNERFR9cQAVMm42Kjh62QJIYCD8ZwWg4iIqDwwAFVCurNAURwPiIiIqFwwAFVCodK8YAxARERE5YEBqBJqU9ceRkoFrmbcwdX0O3KXQ0REVO0wAFVClqZGaF7HFgAQzctgREREZY4BqJL6b3Z4jgdERERU1hiAKqkQv/sDIh6IT4dGK2SuhoiIqHphAKqkmtW2hZWpETLvFODczSy5yyEiIqpWGIAqKSOVEm197p8F4uzwREREZatSBKBFixbBy8sLarUabdq0weHDh0tct0OHDlAoFEVuPXv2BAAUFBTg/fffR9OmTWFhYQE3NzcMHToUN2/erKinU2bYHZ6IiKh8yB6A1q1bh4iICEydOhXHjx9Hs2bNEB4ejpSUlGLX37RpExITE6Xb2bNnoVKp0L9/fwDAnTt3cPz4cUyePBnHjx/Hpk2bcOHCBfTp06cin1aZCP53QMRjV27hbr5G5mqIiIiqD4UQQtYWtm3atEGrVq2wcOFCAIBWq4WHhwfefvttfPDBB499/Lx58zBlyhQkJibCwsKi2HWOHDmC1q1b48qVK6hTp85jt5mdnQ0bGxtkZWXB2trasCdUhoQQCP50N25m3cPqV1qjfT1H2WohIiKq7Az5/pb1DFB+fj6OHTuGLl26SMuUSiW6dOmCgwcPlmoby5cvx6BBg0oMPwCQlZUFhUIBW1vbYu/Py8tDdna23q0yUCgUCJEug7E7PBERUVmRNQClpaVBo9HA2dlZb7mzszOSkpIe+/jDhw/j7NmzGDlyZInr3Lt3D++//z4GDx5cYhqcPXs2bGxspJuHh4dhT6Qc6S6DRcdxYlQiIqKyInsboKexfPlyNG3aFK1bty72/oKCAgwYMABCCCxevLjE7UyaNAlZWVnS7dq1a+VVssF0Aeh8YjZSc/JkroaIiKh6kDUAOTg4QKVSITk5WW95cnIyXFxcHvnY3Nxc/Pzzz3j11VeLvV8Xfq5cuYJdu3Y98lqgqakprK2t9W6VhYOlKRq53q/nQDx7gxEREZUFWQOQiYkJAgMDERkZKS3TarWIjIxEUFDQIx+7fv165OXl4aWXXipyny78xMbG4s8//4S9vX2Z116RdN3hOR4QERFR2ZD9ElhERASWLVuG1atX4/z58xg9ejRyc3MxYsQIAMDQoUMxadKkIo9bvnw5+vbtWyTcFBQUoF+/fjh69CjWrFkDjUaDpKQkJCUlIT8/v0KeU1nTXQbbH5cGmTvtERERVQtGchcwcOBApKamYsqUKUhKSkJAQAC2b98uNYy+evUqlEr9nHbhwgVER0dj586dRbZ348YN/PbbbwCAgIAAvfv27NmDDh06lMvzKE+tve1gYqREYtY9xKfmwtfJUu6SiIiIqjTZxwGqjCrLOEAPGvLdIeyPS8e03o0wPNhb7nKIiIgqnSozDhCVHrvDExERlR0GoCoi1Pf+KNCHLqWjQKOVuRoiIqKqjQGoimjsZo1a5sa4nVeIU9cy5S6HiIioSmMAqiKUSgXa+bI7PBERUVlgAKpCQh7oDk9ERERPjgGoCtEFoBPXMpFzr0DmaoiIiKouBqAqxMPOHF725tBoBQ5dypC7HCIioiqLAaiKCeZlMCIioqfGAFTF/DcvWKrMlRAREVVdDEBVTJCPA5QKID41F4lZd+Uuh4iIqEpiAKpibMyM4V/bFgC7wxMRET0pBqAqiN3hiYiIng4DUBUU4vdfANJqOZctERGRoRiAqqAWdWrBzFiFtNv5iEnKkbscIiKiKocBqAoyMVKiTV07ALwMRkRE9CQYgKooXTugKAYgIiIigzEAVVGhfo4AgMMJ6bhXoJG5GiIioqqFAaiKqudsCUcrU9wr0OL4lVtyl0NERFSlMABVUQqFQroMFs3LYERERAZhAKrCGICIiIieDANQFaYbD+jMjSzcys2XuRoiIqKqgwGoCnO2VsPPyRJCAAcvpctdDhERUZXBAFTFhUizw/MyGBERUWkxAFVxoX66dkCpMldCRERUdTAAVXFtvO1hpFTgWsZdXEnPlbscIiKiKoEBqIqzMDVCizq1ALA3GBERUWkxAFUDunZA0WwHREREVCoMQNWALgAdiE+HRitkroaIiKjyYwCqBvzdbWClNkLW3QKcvZEldzlERESVHgNQNWCkUiKorj0AtgMiIiIqDQagaiJUGg+I3eGJiIgehwGomgjxcwQAHL+SiTv5hTJXQ0REVLkxAFUTXvbmcLc1Q75Gi8MJGXKXQ0REVKkxAFUTCoXiv9nh2R2eiIjokRiAqhFpPCA2hCYiInokBqBqpJ3P/Z5gMUk5SMm5J3M1RERElRcDUDVib2mKxm7WAIADcekyV0NERFR5MQBVMyFSd3heBiMiIioJA1A1o2sIvT8uDUJwWgwiIqLiMABVM6287GBipERS9j3Ep96WuxwiIqJKiQGomlEbq9Dayw4AL4MRERGVhAGoGpK6wzMAERERFYsBqBrStQM6dCkdBRqtzNUQERFVPgxA1VAjV2vYWZggN1+Dk9cy5S6HiIio0mEAqoaUSoU0KCLbARERERXFAFRNPdgdnoiIiPQZHIAuXbpUHnVQGdM1hD55LRPZ9wpkroaIiKhyMTgA+fr6omPHjvjxxx9x7x7nm6qsatcyh7eDBTRagUPxnBaDiIjoQQYHoOPHj8Pf3x8RERFwcXHB66+/jsOHD5dHbfSUdJfBODs8ERGRPoMDUEBAAL7++mvcvHkTK1asQGJiIkJCQtCkSRPMnTsXqamp5VEnPYFgBiAiIqJiPXEjaCMjIzz//PNYv3495syZg7i4OEyYMAEeHh4YOnQoEhMTy7JOegJBPvZQKoBLqbm4mXlX7nKIiIgqjScOQEePHsWbb74JV1dXzJ07FxMmTEB8fDx27dqFmzdv4tlnny3LOukJ2JgZo5mHLQCOCk1ERPQggwPQ3Llz0bRpU7Rr1w43b97E999/jytXrmDGjBnw9vZGaGgoVq1ahePHj5dHvWQgtgMiIiIqyuAAtHjxYrz44ou4cuUKfv31V/Tq1QtKpf5mnJycsHz58jIrkp7cg+MBabVC5mqIiIgqB4MDUGxsLCZNmgRXV9cS1zExMcGwYcNKvc1FixbBy8sLarUabdq0eWSvsg4dOkChUBS59ezZU1pHCIEpU6bA1dUVZmZm6NKlC2JjY0tdT3XSvE4tmJuokJ6bj/NJ2XKXQ0REVCkYHIBWrlyJ9evXF1m+fv16rF692uAC1q1bh4iICEydOhXHjx9Hs2bNEB4ejpSUlGLX37RpExITE6Xb2bNnoVKp0L9/f2mdzz77DPPnz8eSJUvw999/w8LCAuHh4TVy3CITIyXa1r0/LQbbAREREd1ncACaPXs2HBwciix3cnLCrFmzDC5g7ty5GDVqFEaMGIFGjRphyZIlMDc3x4oVK4pd387ODi4uLtJt165dMDc3lwKQEALz5s3D//73Pzz77LPw9/fH999/j5s3b+LXX381uL7qgN3hiYiI9BkcgK5evQpvb+8iyz09PXH16lWDtpWfn49jx46hS5cu/xWkVKJLly44ePBgqbaxfPlyDBo0CBYWFgCAhIQEJCUl6W3TxsYGbdq0KXGbeXl5yM7O1rtVJ6H/TotxOCED9wo0MldDREQkP4MDkJOTE06fPl1k+alTp2Bvb2/QttLS0qDRaODs7Ky33NnZGUlJSY99/OHDh3H27FmMHDlSWqZ7nCHbnD17NmxsbKSbh4eHQc+jsvNzsoSTlSnyCrU4duWW3OUQERHJzuAANHjwYIwdOxZ79uyBRqOBRqPB7t27MW7cOAwaNKg8aizR8uXL0bRpU7Ru3fqptjNp0iRkZWVJt2vXrpVRhZWDQqFgd3giIqIHGByAPvnkE7Rp0wadO3eGmZkZzMzM0K1bN3Tq1MngNkAODg5QqVRITk7WW56cnAwXF5dHPjY3Nxc///wzXn31Vb3luscZsk1TU1NYW1vr3aob3ezwbAhNRET0BAHIxMQE69atQ0xMDNasWYNNmzYhPj4eK1asgImJicHbCgwMRGRkpLRMq9UiMjISQUFBj3zs+vXrkZeXh5deeklvube3N1xcXPS2mZ2djb///vux26zOdGeAzt7Mwq3cfJmrISIikpfRkz6wXr16qFev3lMXEBERgWHDhqFly5Zo3bo15s2bh9zcXIwYMQIAMHToULi7u2P27Nl6j1u+fDn69u1bpN2RQqHA+PHjMWPGDPj5+cHb2xuTJ0+Gm5sb+vbt+9T1VlVO1mrUd7bCheQc7I9PQy9/N7lLIiIiks0TBaDr16/jt99+w9WrV5Gfr382Ye7cuQZta+DAgUhNTcWUKVOQlJSEgIAAbN++XWrEfPXq1SIjTV+4cAHR0dHYuXNnsdt87733kJubi9deew2ZmZkICQnB9u3boVarDaqtugn2dbgfgOIYgIiIqGZTCCEMmh8hMjISffr0Qd26dRETE4MmTZrg8uXLEEKgRYsW2L17d3nVWmGys7NhY2ODrKysatUeaE9MCkasOoLatcwQ9V5HKBQKuUsiIiIqM4Z8fxvcBmjSpEmYMGECzpw5A7VajY0bN+LatWto37693mjMVPm09raDsUqB67fu4kr6HbnLISIiko3BAej8+fMYOnQoAMDIyAh3796FpaUlPv74Y8yZM6fMC6SyY2FqhOZ1agFgd3giIqrZDA5AFhYWUrsfV1dXxMfHS/elpfFLtbIL9WV3eCIiIoMDUNu2bREdHQ0AeOaZZ/Duu+9i5syZeOWVV9C2bdsyL5DKlm48oAPxadBoDWr+RUREVG0Y3Ats7ty5uH37NgBg+vTpuH37NtatWwc/Pz+De4BRxfOvbQsrtRGy7xXi9PVM6ZIYERFRTWJQANJoNLh+/Tr8/f0B3L8ctmTJknIpjMqHSqlAOx977DiXjP1xaQxARERUIxl0CUylUqFbt264dYsTalZlIX6OAIAotgMiIqIayuA2QE2aNMGlS5fKoxaqILqG0Mev3kJuXqHM1RAREVU8gwPQjBkzMGHCBPzf//0fEhMTkZ2drXejys/T3hzutmYo0AgcvpwhdzlEREQVzuBG0M888wwAoE+fPnojCQshoFAooNFoyq46KhcKhQKhfg74+cg1RMemoWN9J7lLIiIiqlAGB6A9e/aURx1UwUIeCEBEREQ1jcEBqH379uVRB1Wwdj4OUCiAC8k5SMm5Byermj1RLBER1SwGB6B9+/Y98v6wsLAnLoYqjp2FCRq7WePsjWzsj0vDc81ry10SERFRhTE4AHXo0KHIsgfbArENUNUR4uuIszeyERXLAERERDWLwb3Abt26pXdLSUnB9u3b0apVK+zcubM8aqRyEur337xgQnBaDCIiqjkMPgNkY2NTZFnXrl1hYmKCiIgIHDt2rEwKo/IX6FkLpkZKpOTkIS7lNvycreQuiYiIqEIYfAaoJM7Ozrhw4UJZbY4qgNpYhdbedgA4KjQREdUsBp8BOn36tN7PQggkJibi008/RUBAQFnVRRUkxNcBUbFpiI5Lwysh3nKXQ0REVCEMDkABAQFQKBRF2oy0bdsWK1asKLPCqGIE/zstxqFL6SjQaGGsKrOTgkRERJWWwQEoISFB72elUglHR0eo1RxHpipq5GoNewsTpOfm48TVTOmSGBERUXVmcADy9PQsjzpIJkqlAu18HfD7qZuIjk1lACIiohrB4OsdY8eOxfz584ssX7hwIcaPH18WNVEF080OHxXHhtBERFQzGByANm7ciODg4CLL27Vrhw0bNpRJUVSxgv8dD+jUtUxk3yuQuRoiIqLyZ3AASk9PL3YsIGtra6Sl8QxCVeRua4a6DhbQCuBgfLrc5RAREZU7gwOQr68vtm/fXmT5tm3bULdu3TIpiipeyAOjQhMREVV3BjeCjoiIwFtvvYXU1FR06tQJABAZGYkvv/wS8+bNK+v6qIIE+zrg+4NXsJ/tgIiIqAYwOAC98soryMvLw8yZM/HJJ58AALy8vLB48WIMHTq0zAukihHkYw+VUoFLabm4kXkX7rZmcpdERERUbp5o1LvRo0fj+vXrSE5ORnZ2Ni5dusTwU8VZq43RrPb9tl3RsakyV0NERFS+DA5ACQkJiI2NBQA4OjrC0tISABAbG4vLly+XaXFUsUL8HAFwXjAiIqr+DA5Aw4cPx4EDB4os//vvvzF8+PCyqIlkEvLveEAH4tOh1YrHrE1ERFR1GRyATpw4Uew4QG3btsXJkyfLoiaSSfM6trAwUSEjNx//JGbLXQ4REVG5MTgAKRQK5OTkFFmelZUFjUZTJkWRPIxVSrStaw8AiGZvMCIiqsYMDkBhYWGYPXu2XtjRaDSYPXs2QkJCyrQ4qni62eHZHZ6IiKozg7vBz5kzB2FhYahfvz5CQ0MBAFFRUcjOzsbu3bvLvECqWKH/Doh4OCED9wo0UBurZK6IiIio7Bl8BqhRo0Y4ffo0BgwYgJSUFOTk5GDo0KGIiYlBkyZNyqNGqkC+TpZwtjZFXqEWRy/fkrscIiKicmHwGSAAcHNzw6xZs/SWZWZmYuHChXjrrbfKpDCSh0KhQIivIzYev46ouFRpigwiIqLq5IkGQnxQZGQkXnzxRbi6umLq1KllURPJLMTvfkNotgMiIqLq6okC0LVr1/Dxxx/D29sb3bp1AwBs3rwZSUlJZVocyUPXEPrczWxk5ObLXA0REVHZK3UAKigowPr16xEeHo769evj5MmT+Pzzz6FUKvG///0P3bt3h7GxcXnWShXEyUqNBi5WEIJngYiIqHoqdQByd3fHggUL8MILL+DGjRvYtGkT+vXrV561kYzYHZ6IiKqzUgegwsJCKBQKKBQKqFTsGl3d6Ro/R8WmQQhOi0FERNVLqQPQzZs38dprr+Gnn36Ci4sLXnjhBWzevBkKhaI86yOZtPG2g4lKiRuZd3E5/Y7c5RAREZWpUgcgtVqNIUOGYPfu3Thz5gwaNmyIsWPHorCwEDNnzsSuXbs4FUY1Ym5ihBaetgCA6NhUeYshIiIqY0/UC8zHxwczZszAlStX8McffyAvLw+9evWCs7NzWddHMtLNDs95wYiIqLp5qnGAlEolevTogQ0bNuD69ev48MMPy6ouqgRC/BwBAAfi01Go0cpcDRERUdl56oEQdRwdHREREVFWm6NKoKm7DazVRsi5V4jTN7LkLoeIiKjMlFkAoupHpVSgnc+/3eFjeRmMiIiqDwYgeiSpOzzbARERUTXCAESPFPpvADpx9RZy8wplroaIiKhsMADRI3naW8DDzgwFGoG/E9LlLoeIiKhMGBn6AI1Gg1WrViEyMhIpKSnQavV7B+3evbvMiqPKIcTXAT8dvobo2HR0asChDoiIqOozOACNGzcOq1atQs+ePdGkSROOBF0DhPg63g9AcRwQkYiIqgeDA9DPP/+MX375Bc8880x51EOVUDsfeygUwMXk20jOvgdna7XcJRERET0Vg9sAmZiYwNfXtzxqoUqqloUJmrjZAODs8EREVD0YHIDeffddfP3112U2Q/iiRYvg5eUFtVqNNm3a4PDhw49cPzMzE2PGjIGrqytMTU1Rr149bN26Vbpfo9Fg8uTJ8Pb2hpmZGXx8fPDJJ59wRvOnpOsOH83xgIiIqBow+BJYdHQ09uzZg23btqFx48YwNjbWu3/Tpk2l3ta6desQERGBJUuWoE2bNpg3bx7Cw8Nx4cIFODk5FVk/Pz8fXbt2hZOTEzZs2AB3d3dcuXIFtra20jpz5szB4sWLsXr1ajRu3BhHjx7FiBEjYGNjg7Fjxxr6dOlfob4OWPxXPKLj0iCEYNsvIiKq0gwOQLa2tnjuuefKZOdz587FqFGjMGLECADAkiVL8Mcff2DFihX44IMPiqy/YsUKZGRk4MCBA1Lw8vLy0lvnwIEDePbZZ9GzZ0/p/p9++umxZ5bo0Vp41oLaWImUnDzEptxGPWcruUsiIiJ6YgYHoJUrV5bJjvPz83Hs2DFMmjRJWqZUKtGlSxccPHiw2Mf89ttvCAoKwpgxY7BlyxY4OjrixRdfxPvvvw+VSgUAaNeuHZYuXYqLFy+iXr16OHXqFKKjozF37twSa8nLy0NeXp70c3Z2dpk8x+pEbaxCKy87RMWmISo2jQGIiIiqNIMDkE5qaiouXLgAAKhfvz4cHR0NenxaWho0Gg2cnfXHlXF2dkZMTEyxj7l06RJ2796NIUOGYOvWrYiLi8Obb76JgoICTJ06FQDwwQcfIDs7Gw0aNIBKpYJGo8HMmTMxZMiQEmuZPXs2pk+fblD9NVGonwOiYtMQHZuKV0O85S6HiIjoiRncCDo3NxevvPIKXF1dERYWhrCwMLi5ueHVV1/FnTt3yqNGiVarhZOTE5YuXYrAwEAMHDgQH330EZYsWSKt88svv2DNmjVYu3Ytjh8/jtWrV+OLL77A6tWrS9zupEmTkJWVJd2uXbtWrs+jqgrxvR9y/07IQH6h9jFrExERVV4GB6CIiAjs3bsXv//+OzIzM5GZmYktW7Zg7969ePfdd0u9HQcHB6hUKiQnJ+stT05OhouLS7GPcXV1Rb169aTLXQDQsGFDJCUlIT8/HwAwceJEfPDBBxg0aBCaNm2Kl19+Ge+88w5mz55dYi2mpqawtrbWu1FRDVysYG9hgjv5Gpy4ekvucoiIiJ6YwQFo48aNWL58OXr06CGFhWeeeQbLli3Dhg0bSr0dExMTBAYGIjIyUlqm1WoRGRmJoKCgYh8THByMuLg4vek3Ll68CFdXV5iYmAAA7ty5A6VS/2mpVKoiU3aQ4ZRKBYJ9/+0Oz/GAiIioCjM4AN25c6dIux0AcHJyMvgSWEREBJYtW4bVq1fj/PnzGD16NHJzc6VeYUOHDtVrJD169GhkZGRg3LhxuHjxIv744w/MmjULY8aMkdbp3bs3Zs6ciT/++AOXL1/G5s2bMXfu3DLruVbT6cYDiuJ4QEREVIUZ3Ag6KCgIU6dOxffffw+1+v6UCHfv3sX06dNLPHNTkoEDByI1NRVTpkxBUlISAgICsH37dilgXb16Ve9sjoeHB3bs2IF33nkH/v7+cHd3x7hx4/D+++9L6yxYsACTJ0/Gm2++iZSUFLi5ueH111/HlClTDH2qVIyQf88Anb6eiay7BbAxM37MI4iIiCofhTBwiOSzZ88iPDwceXl5aNasGQDg1KlTUKvV2LFjBxo3blwuhVak7Oxs2NjYICsri+2BitHpy79wKTUXS14KRPcmxbfXIiIiqmiGfH8bfAaoSZMmiI2NxZo1a6Tu6oMHD8aQIUNgZmb2ZBVTlRLq64BLqbmIjktlACIioirpicYBMjc3x6hRo8q6FqoiQvwcsfrgFc4LRkREVVapAtBvv/2GHj16wNjYGL/99tsj1+3Tp0+ZFEaVV5u6dlApFbicfgfXMu7Aw85c7pKIiIgMUqoA1LdvXyQlJcHJyQl9+/YtcT2FQgGNRlNWtVElZa02RoCHLY5duYX9cWkY1LqO3CUREREZpFTd4HUjMOv+X9KN4afm0PUGi+J4QEREVAUZPA7Q999/rzdxqE5+fj6+//77MimKKj/deEAH4tKg1RrUkZCIiEh2BgegESNGICsrq8jynJwcaQBDqv4CPGxhaWqEW3cK8E9ittzlEBERGcTgACSEgEKhKLL8+vXrsLGxKZOiqPIzVinRtq4dAI4KTUREVU+pu8E3b94cCoUCCoUCnTt3hpHRfw/VaDRISEhA9+7dy6VIqpxCfB3w5/kURMelYnQHH7nLISIiKrVSByBd76+TJ08iPDwclpaW0n0mJibw8vLCCy+8UOYFUuWlawd05PIt3CvQQG2skrkiIiKi0il1AJo6dSoAwMvLCwMHDpTmAaOay8fREi7WaiRl38ORyxkI9XOUuyQiIqJSMbgN0LBhwxh+CMD9cZ90Z4E4KjQREVUlBgcgjUaDL774Aq1bt4aLiwvs7Oz0blSz6MYDiuZ4QEREVIUYHICmT5+OuXPnYuDAgcjKykJERASef/55KJVKTJs2rRxKpMos+N8AdO5mNtJvFx0fioiIqDIyOACtWbMGy5Ytw7vvvgsjIyMMHjwY3333HaZMmYJDhw6VR41UiTlamaKBixUAYH98uszVEBERlY7BASgpKQlNmzYFAFhaWkqDIvbq1Qt//PFH2VZHVUKo1A4oVeZKiIiISsfgAFS7dm0kJiYCAHx8fLBz504AwJEjR2Bqalq21VGVoLsMFh2bBiE4LQYREVV+Bgeg5557DpGRkQCAt99+G5MnT4afnx+GDh2KV155pcwLpMqvjbc9TFRK3My6h4S0XLnLISIieqxSjwOk8+mnn0r/HzhwIOrUqYODBw/Cz88PvXv3LtPiqGowM1Eh0LMWDl5KR3RcGuo6Wj7+QURERDIyOAA9LCgoCEFBQWVRC1VhIX4O9wNQbBqGBnnJXQ4REdEjlSoA/fbbb6XeYJ8+fZ64GKq6Qnwd8PmOCzgYn45CjRZGKoOvrhIREVWYUgUg3TxgOgqFokhjV90M8RqNpmwqoyqlibsNbMyMkXW3AKeuZyHQs5bcJREREZWoVH+ma7Va6bZz504EBARg27ZtyMzMRGZmJrZt24YWLVpg+/bt5V0vVVIqpQLBvvYAOC0GERFVfgZfpxg/fjy+/vprhIeHw9raGtbW1ggPD8fcuXMxduzY8qiRqghdd/j9nBaDiIgqOYMDUHx8PGxtbYsst7GxweXLl8ugJKqqQn3vzwZ//Oot3M4rlLkaIiKikhkcgFq1aoWIiAgkJydLy5KTkzFx4kS0bt26TIujqqWOvTnq2JmjUCvw9yVOi0FERJWXwQFoxYoVSExMRJ06deDr6wtfX1/UqVMHN27cwPLly8ujRqpCgjk7PBERVQEGjwPk6+uL06dPY9euXYiJiQEANGzYEF26dJF6glHNFerngJ8OX2VDaCIiqtSeaCBEhUKBbt26oVu3bmVdD1Vx7XzsoVAAsSm3kZR1Dy42arlLIiIiKqJUAWj+/Pl47bXXoFarMX/+/Eeuy55gNZutuQn83W1w6noWouPS0C+wttwlERERFaEQpZi+29vbG0ePHoW9vT28vb1L3phCgUuXLpVpgXLIzs6GjY0NsrKyYG1tLXc5Vc5n22PwzV/xeK65O74aGCB3OUREVEMY8v1dqjNACQkJxf6fqDghfg745q94RMelQQjBtmFERFTpcMImKnOBnrWgNlYiNScPF5Jz5C6HiIioiFKdAYqIiCj1BufOnfvExVD1YGqkQmtve+y7mIro2DQ0cOFlRCIiqlxKFYBOnDhRqo3xUgfphPo63A9AcWkYGVpX7nKIiIj0lCoA7dmzp7zroGomxO/+gIh/X8pAXqEGpkYqmSsiIiL6D9sAUblo4GIFB0sT3C3Q4MTVTLnLISIi0vNEAyEePXoUv/zyC65evYr8/Hy9+zZt2lQmhVHVplAoEOzrgC0nbyI6Ng1t69rLXRIREZHE4DNAP//8M9q1a4fz589j8+bNKCgowLlz57B7927Y2NiUR41URYX8Oy9YFOcFIyKiSsbgADRr1ix89dVX+P3332FiYoKvv/4aMTExGDBgAOrUqVMeNVIVpWsHdOZ6JrLuFMhcDRER0X8MDkDx8fHo2bMnAMDExAS5ublQKBR45513sHTp0jIvkKouVxsz+DhaQCuAg5d4FoiIiCoPgwNQrVq1kJNzf3A7d3d3nD17FgCQmZmJO3fulG11VOWF+jkCAKI4OzwREVUiBgegsLAw7Nq1CwDQv39/jBs3DqNGjcLgwYPRuXPnMi+QqjZdO6BotgMiIqJKpNS9wM6ePYsmTZpg4cKFuHfvHgDgo48+grGxMQ4cOIAXXngB//vf/8qtUKqa2vrYQ6VU4Er6HVzLuAMPO3O5SyIiIip9APL390erVq0wcuRIDBo0CACgVCrxwQcflFtxVPVZmhqhuYctjl65hei4NAxuzYbyREQkv1JfAtu7dy8aN26Md999F66urhg2bBiioqLKszaqJnS9waLZDoiIiCqJUgeg0NBQrFixAomJiViwYAEuX76M9u3bo169epgzZw6SkpLKs06qwkL/DUD749Og0QqZqyEiInqCRtAWFhYYMWIE9u7di4sXL6J///5YtGgR6tSpgz59+pRHjVTF+de2haWpETLvFOCfm9lyl0NERPR0c4H5+vriww8/xP/+9z9YWVnhjz/+KKu6qBoxVimlqTCi4lJlroaIiOgpAtC+ffswfPhwuLi4YOLEiXj++eexf//+sqyNqpFQtgMiIqJKxKDJUG/evIlVq1Zh1apViIuLQ7t27TB//nwMGDAAFhYW5VUjVQPB/44HdPTyLdzN18DMRCVzRUREVJOVOgD16NEDf/75JxwcHDB06FC88sorqF+/fnnWRtWIj6MFXG3USMy6hyOXMxBWz1HukoiIqAYrdQAyNjbGhg0b0KtXL6hU/OudDKNQKBDi64D1x64jOi6NAYiIiGRV6gD022+/lWcdVAOE+N0PQJwXjIiI5PZUvcDKwqJFi+Dl5QW1Wo02bdrg8OHDj1w/MzMTY8aMgaurK0xNTVGvXj1s3bpVb50bN27gpZdegr29PczMzNC0aVMcPXq0PJ8GlYKuHdD5xGyk3c6TuRoiIqrJZA1A69atQ0REBKZOnYrjx4+jWbNmCA8PR0pKSrHr5+fno2vXrrh8+TI2bNiACxcuYNmyZXB3d5fWuXXrFoKDg2FsbIxt27bhn3/+wZdffolatWpV1NOiEjhYmqKhqzUAYD8nRyUiIhkZ1AusrM2dOxejRo3CiBEjAABLlizBH3/8gRUrVhQ7x9iKFSuQkZGBAwcOwNjYGADg5eWlt86cOXPg4eGBlStXSsu8vb3L70mQQUL9HHA+MRvRsWl4NsD98Q8gIiIqB7KdAcrPz8exY8fQpUuX/4pRKtGlSxccPHiw2Mf89ttvCAoKwpgxY+Ds7IwmTZpg1qxZ0Gg0euu0bNkS/fv3h5OTE5o3b45ly5Y9spa8vDxkZ2fr3ah86C6D7Y9LgxCcFoOIiOQhWwBKS0uDRqOBs7Oz3nJnZ+cS5xW7dOkSNmzYAI1Gg61bt2Ly5Mn48ssvMWPGDL11Fi9eDD8/P+zYsQOjR4/G2LFjsXr16hJrmT17NmxsbKSbh4dH2TxJKqK1lx1MVErczLqHS2m5cpdDREQ1lOyNoA2h1Wrh5OSEpUuXIjAwEAMHDsRHH32EJUuW6K3TokULzJo1C82bN8drr72GUaNG6a3zsEmTJiErK0u6Xbt2rSKeTo1kZqJCS6/77bE4KjQREclFtgDk4OAAlUqF5ORkveXJyclwcXEp9jGurq6oV6+e3jhEDRs2RFJSEvLz86V1GjVqpPe4hg0b4urVqyXWYmpqCmtra70blZ+Qf6fFYHd4IiKSi2wByMTEBIGBgYiMjJSWabVaREZGIigoqNjHBAcHIy4uDlqtVlp28eJFuLq6wsTERFrnwoULeo+7ePEiPD09y+FZ0JMI+bcd0KFL6SjUaB+zNhERUdmT9RJYREQEli1bhtWrV+P8+fMYPXo0cnNzpV5hQ4cOxaRJk6T1R48ejYyMDIwbNw4XL17EH3/8gVmzZmHMmDHSOu+88w4OHTqEWbNmIS4uDmvXrsXSpUv11iF5NXazga25MW7nFeLU9Uy5yyEiohpI1m7wAwcORGpqKqZMmYKkpCQEBARg+/btUsPoq1evQqn8L6N5eHhgx44deOedd+Dv7w93d3eMGzcO77//vrROq1atsHnzZkyaNAkff/wxvL29MW/ePAwZMqTCnx8VT6VUINjHAX+cSURUbBoCPe3kLomIiGoYhWBf5CKys7NhY2ODrKwstgcqJ2v/vooPN59BK69aWP9GO7nLISKiasCQ7+8q1QuMqo/QfxtCn7iaidt5hTJXQ0RENQ0DEMnCw84cnvbmKNQKHIpPl7scIiKqYRiASDa63mDRnBeMiIgqGAMQyYYBiIiI5MIARLJp5+MApQKIS7mNxKy7cpdDREQ1CAMQycbG3BhNa9sC4LQYRERUsRiASFYhvvYA7s8OT0REVFEYgEhWIb6OAIDouHRwSCoiIqooDEAkqxaetjAzViHtdh5iknLkLoeIiGoIBiCSlamRCm3q3p8Kg5fBiIioojAAkex03eGj2BCaiIgqCAMQyS7k32kx/k5IR16hRuZqiIioJmAAItnVd7aCg6Up7hVocezKLbnLISKiGoABiGSnUCjYHZ6IiCoUAxBVCiF+/3aHZzsgIiKqAAxAVCnoGkKfvpGFzDv5MldDRETVHQMQVQouNmr4OVlCCOBgfLrc5RARUTXHAESVRrCuOzzbARERUTljAKJKI/Tf7vBsB0REROWNAYgqjTZ17WGkVOBqxh1cTb8jdzlERFSNMQBRpWFpaoTmdWwBANG8DEZEROWIAYgqlf9mh0+VuRIiIqrOGICoUtFNi7E/Lh0arZC5GiIiqq4YgKhSaVbbBlamRsi6W4BzN7PkLoeIiKopBiCqVIxUSrT1uT8tBmeHJyKi8sIARJUOu8MTEVF5YwCiSkc3LcaxK7dwN18jczVERFQdMQBRpePtYAE3GzXyNVocvpwhdzlERFQNMQBRpaNQKKTeYNGx7A5PRERljwGIKqUQv/vjAbEhNBERlQcGIKqUgv/tCRaTlIPUnDyZqyEiouqGAYgqJXtLUzRytQYAHIjnWSAiIipbDEBUaem6w/MyGBERlTUGIKq0Qh4YD0gITotBRERlhwGIKq1WXnYwMVIiKfse4lNz5S6HiIiqEQYgqrTUxiq08qoFgN3hiYiobDEAUaUW4nu/O3x0HNsBERFR2WEAokpNNy3GoUsZKNBoZa6GiIiqCwYgqtQau1mjlrkxbucV4tS1TLnLISKiaoIBiCo1pVKBdr7sDk9ERGWLAYgqvdB/AxDbARERUVlhAKJKL/jfAHTyWiZy7hXIXA0REVUHDEBU6XnYmcPL3hwarcChSxlyl0NERNUAAxBVCf+NCs3xgIiI6OkxAFGVEMJ2QEREVIYYgKhKCPJxgFIBxKfmIjHrrtzlEBFRFccARFWCjZkx/GvbAmB3eCIienoMQFRlhD4wOzwREdHTYACiKkPXHX5/XBq0WiFzNUREVJUxAFGV0aJOLZibqJCem4+YpBy5yyEioiqMAYiqDBMjJdp42wEAouPYHZ6IiJ4cAxBVKcFSd/h0mSshIqKqjAGIqpRQP0cAwOGEdNwr0MhcDRERVVWVIgAtWrQIXl5eUKvVaNOmDQ4fPvzI9TMzMzFmzBi4urrC1NQU9erVw9atW4td99NPP4VCocD48ePLoXKqaPWcLeFkZYp7BVocv3JL7nKIiKiKkj0ArVu3DhEREZg6dSqOHz+OZs2aITw8HCkpKcWun5+fj65du+Ly5cvYsGEDLly4gGXLlsHd3b3IukeOHMG3334Lf3//8n4aVEEUCgVHhSYioqcmewCaO3cuRo0ahREjRqBRo0ZYsmQJzM3NsWLFimLXX7FiBTIyMvDrr78iODgYXl5eaN++PZo1a6a33u3btzFkyBAsW7YMtWrVqoinQhUkmAGIiIiekqwBKD8/H8eOHUOXLl2kZUqlEl26dMHBgweLfcxvv/2GoKAgjBkzBs7OzmjSpAlmzZoFjUa/PciYMWPQs2dPvW1T9aCbGPXMjSzcys2XuRoiIqqKjOTceVpaGjQaDZydnfWWOzs7IyYmptjHXLp0Cbt378aQIUOwdetWxMXF4c0330RBQQGmTp0KAPj5559x/PhxHDlypFR15OXlIS8vT/o5Ozv7CZ8RVQRnazXqOVviYvJtHIhPR09/V7lLIiKiKkb2S2CG0mq1cHJywtKlSxEYGIiBAwfio48+wpIlSwAA165dw7hx47BmzRqo1epSbXP27NmwsbGRbh4eHuX5FKgM8DIYERE9DVkDkIODA1QqFZKTk/WWJycnw8XFpdjHuLq6ol69elCpVNKyhg0bIikpSbqklpKSghYtWsDIyAhGRkbYu3cv5s+fDyMjoyKXygBg0qRJyMrKkm7Xrl0r2ydKZU6aF4wDIhIR0ROQNQCZmJggMDAQkZGR0jKtVovIyEgEBQUV+5jg4GDExcVBq9VKyy5evAhXV1eYmJigc+fOOHPmDE6ePCndWrZsiSFDhuDkyZN6wUnH1NQU1tbWejeq3Np428NYpcC1jLu4kp4rdzlERFTFyH4JLCIiAsuWLcPq1atx/vx5jB49Grm5uRgxYgQAYOjQoZg0aZK0/ujRo5GRkYFx48bh4sWL+OOPPzBr1iyMGTMGAGBlZYUmTZro3SwsLGBvb48mTZrI8hyp7FmYGqF5nfu9+3gZjIiIDCVrI2gAGDhwIFJTUzFlyhQkJSUhICAA27dvlxpGX716FUrlfznNw8MDO3bswDvvvAN/f3+4u7tj3LhxeP/99+V6CiSTEF8HHE7IQHRsGoa08ZS7HCIiqkIUQgghdxGVTXZ2NmxsbJCVlcXLYZXY8au38Pw3B2BjZozjk7tCpVTIXRIREcnIkO9v2S+BET0pf3cbWKmNkHW3AGduZMldDhERVSEMQFRlGamUCKprDwDYz3ZARERkAAYgqtJ03eGjYtkdnoiISo8BiKq0ED9HAMCxK7dwJ79Q5mqIiKiqYACiKs3L3hzutmYo0AgcTsiQuxwiIqoiGICoSlMoFAjRTYsRy3ZARERUOgxAVOWF+HFeMCIiMgwDEFV5uolRY5JykJJzT+ZqiIioKmAAoirPzsIEjd3uD3h1IC5d5mqIiKgqYACiaiFE6g7Py2BERPR4DEBULYT63u8OHx2XCs7uQkREj8MARNVCS69aMDVSIjk7D/Gpt+Uuh4iIKjkGIKoW1MYqtPKyA8DLYERE9HgMQFRtSN3hGYCIiOgxGICo2tANiHjoUjoKNFqZqyEiosqMAYiqjUau1rCzMEFuvgYnr2XKXQ4REVViDEBUbSiVCrTzsQfAdkBERPRoDEBUrYRK7YBSZa6EiIgqMwYgqlZC/O6PB3Tqehay7xXIXA0REVVWDEBUrbjbmsHbwQIarcCheE6LQURExTOSuwCishbi64CEtFzs+icZjf6dI4yIiCoXM2MV7C1NZds/AxBVOyF+Dvjh0BWsP3Yd649dl7scIiIqRp9mbpg/uLls+2cAomon1M8BTdytEZvMKTGIiCorI5VC3v3LuneicmBuYoT/eztU7jKIiKgSYyNoIiIiqnEYgIiIiKjGYQAiIiKiGocBiIiIiGocBiAiIiKqcRiAiIiIqMZhACIiIqIahwGIiIiIahwGICIiIqpxGICIiIioxmEAIiIiohqHAYiIiIhqHAYgIiIiqnEYgIiIiKjGMZK7gMpICAEAyM7OlrkSIiIiKi3d97bue/xRGICKkZOTAwDw8PCQuRIiIiIyVE5ODmxsbB65jkKUJibVMFqtFjdv3oSVlRUUCkWZbjs7OxseHh64du0arK2ty3Tb9B8e54rB41wxeJwrBo9zxSmvYy2EQE5ODtzc3KBUPrqVD88AFUOpVKJ27drlug9ra2u+wSoAj3PF4HGuGDzOFYPHueKUx7F+3JkfHTaCJiIiohqHAYiIiIhqHAagCmZqaoqpU6fC1NRU7lKqNR7nisHjXDF4nCsGj3PFqQzHmo2giYiIqMbhGSAiIiKqcRiAiIiIqMZhACIiIqIahwGIiIiIahwGoAq0aNEieHl5Qa1Wo02bNjh8+LDcJVU7+/btQ+/eveHm5gaFQoFff/1V7pKqpdmzZ6NVq1awsrKCk5MT+vbtiwsXLshdVrWzePFi+Pv7S4PFBQUFYdu2bXKXVe19+umnUCgUGD9+vNylVCvTpk2DQqHQuzVo0EC2ehiAKsi6desQERGBqVOn4vjx42jWrBnCw8ORkpIid2nVSm5uLpo1a4ZFixbJXUq1tnfvXowZMwaHDh3Crl27UFBQgG7duiE3N1fu0qqV2rVr49NPP8WxY8dw9OhRdOrUCc8++yzOnTsnd2nV1pEjR/Dtt9/C399f7lKqpcaNGyMxMVG6RUdHy1YLu8FXkDZt2qBVq1ZYuHAhgPvzjXl4eODtt9/GBx98IHN11ZNCocDmzZvRt29fuUup9lJTU+Hk5IS9e/ciLCxM7nKqNTs7O3z++ed49dVX5S6l2rl9+zZatGiBb775BjNmzEBAQADmzZsnd1nVxrRp0/Drr7/i5MmTcpcCgGeAKkR+fj6OHTuGLl26SMuUSiW6dOmCgwcPylgZUdnIysoCcP/LmcqHRqPBzz//jNzcXAQFBcldTrU0ZswY9OzZU++zmspWbGws3NzcULduXQwZMgRXr16VrRZOhloB0tLSoNFo4OzsrLfc2dkZMTExMlVFVDa0Wi3Gjx+P4OBgNGnSRO5yqp0zZ84gKCgI9+7dg6WlJTZv3oxGjRrJXVa18/PPP+P48eM4cuSI3KVUW23atMGqVatQv359JCYmYvr06QgNDcXZs2dhZWVV4fUwABHRUxkzZgzOnj0r67X86qx+/fo4efIksrKysGHDBgwbNgx79+5lCCpD165dw7hx47Br1y6o1Wq5y6m2evToIf3f398fbdq0gaenJ3755RdZLukyAFUABwcHqFQqJCcn6y1PTk6Gi4uLTFURPb233noL//d//4d9+/ahdu3acpdTLZmYmMDX1xcAEBgYiCNHjuDrr7/Gt99+K3Nl1cexY8eQkpKCFi1aSMs0Gg327duHhQsXIi8vDyqVSsYKqydbW1vUq1cPcXFxsuyfbYAqgImJCQIDAxEZGSkt02q1iIyM5LV8qpKEEHjrrbewefNm7N69G97e3nKXVGNotVrk5eXJXUa10rlzZ5w5cwYnT56Ubi1btsSQIUNw8uRJhp9ycvv2bcTHx8PV1VWW/fMMUAWJiIjAsGHD0LJlS7Ru3Rrz5s1Dbm4uRowYIXdp1crt27f1/ppISEjAyZMnYWdnhzp16shYWfUyZswYrF27Flu2bIGVlRWSkpIAADY2NjAzM5O5uupj0qRJ6NGjB+rUqYOcnBysXbsWf/31F3bs2CF3adWKlZVVkfZrFhYWsLe3Z7u2MjRhwgT07t0bnp6euHnzJqZOnQqVSoXBgwfLUg8DUAUZOHAgUlNTMWXKFCQlJSEgIADbt28v0jCans7Ro0fRsWNH6eeIiAgAwLBhw7Bq1SqZqqp+Fi9eDADo0KGD3vKVK1di+PDhFV9QNZWSkoKhQ4ciMTERNjY28Pf3x44dO9C1a1e5SyMy2PXr1zF48GCkp6fD0dERISEhOHToEBwdHWWph+MAERERUY3DNkBERERU4zAAERERUY3DAEREREQ1DgMQERER1TgMQERERFTjMAARERFRjcMARERERDUOAxBRNXb58mUoFAqcPHlS7lIkMTExaNu2LdRqNQICAuQuhyqJVatWwdbWVu4yqAZhACIqR8OHD4dCocCnn36qt/zXX3+FQqGQqSp5TZ06FRYWFrhw4YLe/HgP0h23h29lNWliZf+ynTZtmvScVSoVPDw88NprryEjI0Pu0oiqDQYgonKmVqsxZ84c3Lp1S+5Sykx+fv4TPzY+Ph4hISHw9PSEvb19iet1794diYmJerfKOOlqQUFBuWy3cePGSExMxNWrV7Fy5Ups374do0ePLpd9EdVEDEBE5axLly5wcXHB7NmzS1xn2rRpRS4HzZs3D15eXtLPw4cPR9++fTFr1iw4OzvD1tYWH3/8MQoLCzFx4kTY2dmhdu3aWLlyZZHtx8TEoF27dlCr1WjSpAn27t2rd//Zs2fRo0cPWFpawtnZGS+//DLS0tKk+zt06IC33noL48ePh4ODA8LDw4t9HlqtFh9//DFq164NU1NTac47HYVCgWPHjuHjjz+GQqHAtGnTSjwmpqamcHFx0bvpZuXesmULWrRoAbVajbp162L69OkoLCyUHjt37lw0bdoUFhYW8PDwwJtvvonbt28DAP766y+MGDECWVlZ0lkWXR0KhQK//vqrXh22trbSPHK6S4rr1q1D+/btoVarsWbNGgDAd999h4YNG0KtVqNBgwb45ptvpG3k5+fjrbfegqurK9RqNTw9PR/5egAAIyMjuLi4wN3dHV26dEH//v2xa9cuvXUetU9drb/88gtCQ0NhZmaGVq1a4eLFizhy5AhatmwJS0tL9OjRA6mpqaX+HbZr1w7vv/++Xh2pqakwNjbGvn37AAB5eXmYMGEC3N3dYWFhgTZt2uCvv/7Se8yqVatQp04dmJub47nnnkN6evojjwdRmRNEVG6GDRsmnn32WbFp0yahVqvFtWvXhBBCbN68WTz49ps6dapo1qyZ3mO/+uor4enpqbctKysrMWbMGBETEyOWL18uAIjw8HAxc+ZMcfHiRfHJJ58IY2NjaT8JCQkCgKhdu7bYsGGD+Oeff8TIkSOFlZWVSEtLE0IIcevWLeHo6CgmTZokzp8/L44fPy66du0qOnbsKO27ffv2wtLSUkycOFHExMSImJiYYp/v3LlzhbW1tfjpp59ETEyMeO+994SxsbG4ePGiEEKIxMRE0bhxY/Huu++KxMREkZOT88jjVpx9+/YJa2trsWrVKhEfHy927twpvLy8xLRp0/SO3e7du0VCQoKIjIwU9evXF6NHjxZCCJGXlyfmzZsnrK2tRWJiol4dAMTmzZv19mdjYyNWrlypdzy9vLzExo0bxaVLl8TNmzfFjz/+KFxdXaVlGzduFHZ2dmLVqlVCCCE+//xz4eHhIfbt2ycuX74soqKixNq1a4t9fkIUfT0kJCSIxo0bC2dnZ2nZ4/apq7VBgwZi+/bt4p9//hFt27YVgYGBokOHDiI6OlocP35c+Pr6ijfeeKPUv8OFCxeKOnXqCK1WKz1mwYIFestGjhwp2rVrJ/bt2yfi4uLE559/LkxNTaVtHDp0SCiVSjFnzhxx4cIF8fXXXwtbW1thY2NT4jEhKmsMQETl6MEv8rZt24pXXnlFCPHkAcjT01NoNBppWf369UVoaKj0c2FhobCwsBA//fSTEOK/L8FPP/1UWqegoEDUrl1bzJkzRwghxCeffCK6deumt+9r164JAOLChQtCiPsBqHnz5o99vm5ubmLmzJl6y1q1aiXefPNN6edmzZqJqVOnPnI7w4YNEyqVSlhYWEi3fv36CSGE6Ny5s5g1a5be+j/88INwdXUtcXvr168X9vb20s8rV64s9su2tAFo3rx5euv4+PgUCTSffPKJCAoKEkII8fbbb4tOnTrphYZHmTp1qlAqlcLCwkKo1WoBQAAQc+fOLfU+dbV+99130v0//fSTACAiIyOlZbNnzxb169eXfn7c7zAlJUUYGRmJffv2SfcHBQWJ999/XwghxJUrV4RKpRI3btzQ20bnzp3FpEmThBBCDB48WDzzzDN69w8cOJABiCqUkQwnnYhqpDlz5qBTp06YMGHCE2+jcePGUCr/u3Lt7OyMJk2aSD+rVCrY29sjJSVF73FBQUHS/42MjNCyZUucP38eAHDq1Cns2bMHlpaWRfYXHx+PevXqAQACAwMfWVt2djZu3ryJ4OBgveXBwcE4depUKZ/hfzp27IjFixdLP1tYWEj17t+/HzNnzpTu02g0uHfvHu7cuQNzc3P8+eefmD17NmJiYpCdnY3CwkK9+59Wy5Ytpf/n5uYiPj4er776KkaNGiUtLywshI2NDYD7ly+7du2K+vXro3v37ujVqxe6dev2yH3Ur18fv/32G+7du4cff/wRJ0+exNtvv13qfer4+/tL/3d2dgYANG3aVG+Z7vVSmt+ho6MjunXrhjVr1iA0NBQJCQk4ePAgvv32WwDAmTNnoNFopNeNTl5entTm6/z583juuef07g8KCtK71EZU3hiAiCpIWFgYwsPDMWnSJAwfPlzvPqVSCSGE3rLiGtcaGxvr/axQKIpdptVqS13X7du30bt3b8yZM6fIfa6urtL/dQGkolhYWMDX17fI8tu3b2P69Ol4/vnni9ynVqtx+fJl9OrVC6NHj8bMmTNhZ2eH6OhovPrqq8jPz39kAFIoFKX6PTx4LHRti5YtW4Y2bdroradrs9SiRQskJCRg27Zt+PPPPzFgwAB06dIFGzZsKLEWExMT6fl/+umn6NmzJ6ZPn45PPvmkVPvUefD1oet5+PAyQ14vADBkyBCMHTsWCxYswNq1a9G0aVMpVN2+fRsqlQrHjh0rUktxIZtILgxARBXo008/RUBAAOrXr6+33NHREUlJSRBCSF9SZTl2z6FDhxAWFgbg/lmCY8eO4a233gJw/8t548aN8PLygpHRk38kWFtbw83NDfv370f79u2l5fv370fr1q2f7gk8oEWLFrhw4UKx4QgAjh07Bq1Wiy+//FI6W/bLL7/orWNiYgKNRlPksY6OjkhMTJR+jo2NxZ07dx5Zj7OzM9zc3HDp0iUMGTKkxPWsra0xcOBADBw4EP369UP37t2RkZEBOzu7R25f53//+x86deqE0aNHw83NrVT7NFRpf4fPPvssXnvtNWzfvh1r167F0KFDpfuaN28OjUaDlJQUhIaGFrufhg0b4u+//9ZbdujQoTJ7HkSlwQBEVIGaNm2KIUOGYP78+XrLO3TogNTUVHz22Wfo168ftm/fjm3btsHa2rpM9rto0SL4+fmhYcOG+Oqrr3Dr1i288sorAIAxY8Zg2bJlGDx4MN577z3Y2dkhLi4OP//8M7777rsif8U/ysSJEzF16lT4+PggICAAK1euxMmTJ6WeUmVhypQp6NWrF+rUqYN+/fpBqVTi1KlTOHv2LGbMmAFfX18UFBRgwYIF6N27N/bv348lS5bobcPLywu3b99GZGQkmjVrBnNzc5ibm6NTp05YuHAhgoKCoNFo8P777xc5w1ac6dOnY+zYsbCxsUH37t2Rl5eHo0eP4tatW4iIiMDcuXPh6uqK5s2bQ6lUYv369XBxcTFoLKKgoCD4+/tj1qxZWLhw4WP3+aRK8zu0sLBA3759MXnyZJw/fx6DBw+W7qtXrx6GDBmCoUOH4ssvv0Tz5s2RmpqKyMhI+Pv7o2fPnhg7diyCg4PxxRdf4Nlnn8WOHTt4+YsqnsxtkIiqteJ6MyUkJAgTExPx8Ntv8eLFwsPDQ1hYWIihQ4eKmTNnFmkE/fC22rdvL8aNG6e3zNPTU3z11VfSvgCItWvXitatWwsTExPRqFEjsXv3br3HXLx4UTz33HPC1tZWmJmZiQYNGojx48dLjXaL209xNBqNmDZtmnB3dxfGxsaiWbNmYtu2bXrrlLYRdEm9wIQQYvv27aJdu3bCzMxMWFtbi9atW4ulS5dK98+dO1e4uroKMzMzER4eLr7//nsBQNy6dUta54033hD29vYCgFTPjRs3RLdu3YSFhYXw8/MTW7duLbYR9IkTJ4rUtGbNGhEQECBMTExErVq1RFhYmNi0aZMQQoilS5eKgIAAYWFhIaytrUXnzp3F8ePHS3x+xTWKF+J+I2ZTU1Nx9erVx+6zuFr37NlT5Dg83CC8NL9DIYTYunWrACDCwsKK3Jefny+mTJkivLy8hLGxsXB1dRXPPfecOH36tLTO8uXLRe3atYWZmZno3bu3+OKLL9gImiqUQoiHLngTERERVXMcCJGIiIhqHAYgIiIiqnEYgIiIiKjGYQAiIiKiGocBiIiIiGocBiAiIiKqcRiAiIiIqMZhACIiIqIahwGIiIiIahwGICIiIqpxGICIiIioxmEAIiIiohrn/wFctm5GMo9d9QAAAABJRU5ErkJggg==\\n\"\n          },\n          \"metadata\": {}\n        }\n      ]\n    },\n    {\n      \"cell_type\": \"code\",\n      \"source\": [],\n      \"metadata\": {\n        \"id\": \"cpJwac0L5TXv\"\n      },\n      \"execution_count\": 12,\n      \"outputs\": []\n    }\n  ]\n}","colorizedLines":null,"stylingDirectives":null,"csv":null,"csvError":null,"dependabotInfo":{"showConfigurationBanner":null,"configFilePath":null,"networkDependabotPath":"/vg309/AIPROJECTUMSL/network/updates","dismissConfigurationNoticePath":"/settings/dismiss-notice/dependabot_configuration_notice","configurationNoticeDismissed":false,"repoAlertsPath":"/vg309/AIPROJECTUMSL/security/dependabot","repoSecurityAndAnalysisPath":"/vg309/AIPROJECTUMSL/settings/security_analysis","repoOwnerIsOrg":false,"currentUserCanAdminRepo":true},"displayName":"Untitled14 (1).ipynb","displayUrl":"https://notebooks.githubusercontent.com/view/ipynb?browser=chrome\u0026bypass_fastly=true\u0026color_mode=auto\u0026commit=2e5cea55fcb4957530de5022bad55eaf24f672dd\u0026device=unknown_device\u0026docs_host=https%3A%2F%2Fdocs.github.com\u0026enc_url=68747470733a2f2f7261772e67697468756275736572636f6e74656e742e636f6d2f76673330392f414950524f4a454354554d534c2f326535636561353566636234393537353330646535303232626164353565616632346636373264642f556e7469746c656431342532302831292e6970796e62\u0026logged_in=true\u0026nwo=vg309%2FAIPROJECTUMSL\u0026path=Untitled14+%281%29.ipynb\u0026platform=windows\u0026repository_id=633157059\u0026repository_type=Repository\u0026version=112","headerInfo":{"blobSize":"209 KB","deleteInfo":{"deletePath":"https://github.com/vg309/AIPROJECTUMSL/delete/main/Untitled14%20(1).ipynb","deleteTooltip":"Delete this file"},"editInfo":{"editTooltip":"Edit this file"},"ghDesktopPath":"https://desktop.github.com","gitLfsPath":null,"onBranch":true,"shortPath":"0acbbe1","siteNavLoginPath":"/login?return_to=https%3A%2F%2Fgithub.com%2Fvg309%2FAIPROJECTUMSL%2Fblob%2Fmain%2FUntitled14%2520%281%29.ipynb","isCSV":false,"isRichtext":false,"toc":null,"lineInfo":{"truncatedLoc":"791","truncatedSloc":"791"},"mode":"file"},"image":false,"isCodeownersFile":null,"isValidLegacyIssueTemplate":false,"issueTemplateHelpUrl":"https://docs.github.com/articles/about-issue-and-pull-request-templates","issueTemplate":null,"discussionTemplate":null,"language":"Jupyter Notebook","large":false,"loggedIn":true,"newDiscussionPath":"/vg309/AIPROJECTUMSL/discussions/new","newIssuePath":"/vg309/AIPROJECTUMSL/issues/new","planSupportInfo":{"repoIsFork":null,"repoOwnedByCurrentUser":null,"requestFullPath":"/vg309/AIPROJECTUMSL/blob/main/Untitled14%20(1).ipynb","showFreeOrgGatedFeatureMessage":null,"showPlanSupportBanner":null,"upgradeDataAttributes":null,"upgradePath":null},"publishBannersInfo":{"dismissActionNoticePath":"/settings/dismiss-notice/publish_action_from_dockerfile","dismissStackNoticePath":"/settings/dismiss-notice/publish_stack_from_file","releasePath":"/vg309/AIPROJECTUMSL/releases/new?marketplace=true","showPublishActionBanner":false,"showPublishStackBanner":false},"renderImageOrRaw":false,"richText":null,"renderedFileInfo":{"identityUUID":"ab160fef-ae50-4113-8f52-da167f10ac20","renderFileType":"ipynb","size":214168},"tabSize":8,"topBannersInfo":{"overridingGlobalFundingFile":false,"globalPreferredFundingPath":null,"repoOwner":"vg309","repoName":"AIPROJECTUMSL","showInvalidCitationWarning":false,"citationHelpUrl":"https://docs.github.com/en/github/creating-cloning-and-archiving-repositories/creating-a-repository-on-github/about-citation-files","showDependabotConfigurationBanner":null,"actionsOnboardingTip":null},"truncated":false,"viewable":true,"workflowRedirectUrl":null,"symbols":{"timedOut":false,"notAnalyzed":true,"symbols":[]}},"csrf_tokens":{"/vg309/AIPROJECTUMSL/branches":{"post":"quBYROnvNVC0qIwEDl86Y2EPD_DWOcgHhYwkBUznoxbQfXrqQLj90gK6LLoeS8d1xJ5ohXjtfJUYDEH0FgK8fw"}}},"title":"AIPROJECTUMSL/Untitled14 (1).ipynb at main · vg309/AIPROJECTUMSL","locale":"en","appPayload":{"helpUrl":"https://docs.github.com","findFileWorkerPath":"/assets-cdn/worker/find-file-worker-848bb9a5da17.js","findInFileWorkerPath":"/assets-cdn/worker/find-in-file-worker-06ff61d4a06d.js","githubDevUrl":"https://github.dev/","enabled_features":{"virtualize_file_tree":true,"react_repos_overview":false,"repos_new_shortcut_enabled":false,"blob_navigation_cursor":true,"code_nav_ui_events":false,"ref_selector_v2":false,"codeview_codemirror_next":false}}}</script>
  <div data-target="react-app.reactRoot"></div>
</react-app>
</turbo-frame>



  </div>

</turbo-frame>

    </main>
  </div>

  </div>

          <footer class="footer width-full container-xl p-responsive" role="contentinfo">
  <h2 class='sr-only'>Footer</h2>

  <div class="position-relative d-flex flex-items-center pb-2 f6 color-fg-muted border-top color-border-muted flex-column-reverse flex-lg-row flex-wrap flex-lg-nowrap mt-6 pt-6">
    <div class="list-style-none d-flex flex-wrap col-0 col-lg-2 flex-justify-start flex-lg-justify-between mb-2 mb-lg-0">
      <div class="mt-2 mt-lg-0 d-flex flex-items-center">
        <a aria-label="Homepage" title="GitHub" class="footer-octicon mr-2" href="https://github.com">
          <svg aria-hidden="true" height="24" viewBox="0 0 16 16" version="1.1" width="24" data-view-component="true" class="octicon octicon-mark-github">
    <path d="M8 0c4.42 0 8 3.58 8 8a8.013 8.013 0 0 1-5.45 7.59c-.4.08-.55-.17-.55-.38 0-.27.01-1.13.01-2.2 0-.75-.25-1.23-.54-1.48 1.78-.2 3.65-.88 3.65-3.95 0-.88-.31-1.59-.82-2.15.08-.2.36-1.02-.08-2.12 0 0-.67-.22-2.2.82-.64-.18-1.32-.27-2-.27-.68 0-1.36.09-2 .27-1.53-1.03-2.2-.82-2.2-.82-.44 1.1-.16 1.92-.08 2.12-.51.56-.82 1.28-.82 2.15 0 3.06 1.86 3.75 3.64 3.95-.23.2-.44.55-.51 1.07-.46.21-1.61.55-2.33-.66-.15-.24-.6-.83-1.23-.82-.67.01-.27.38.01.53.34.19.73.9.82 1.13.16.45.68 1.31 2.69.94 0 .67.01 1.3.01 1.49 0 .21-.15.45-.55.38A7.995 7.995 0 0 1 0 8c0-4.42 3.58-8 8-8Z"></path>
</svg>
</a>        <span>
        &copy; 2023 GitHub, Inc.
        </span>
      </div>
    </div>

    <nav aria-label='Footer' class="col-12 col-lg-8">
      <h3 class='sr-only' id='sr-footer-heading'>Footer navigation</h3>
      <ul class="list-style-none d-flex flex-wrap col-12 flex-justify-center flex-lg-justify-between mb-2 mb-lg-0" aria-labelledby='sr-footer-heading'>
          <li class="mr-3 mr-lg-0"><a href="https://docs.github.com/site-policy/github-terms/github-terms-of-service" data-analytics-event="{&quot;category&quot;:&quot;Footer&quot;,&quot;action&quot;:&quot;go to terms&quot;,&quot;label&quot;:&quot;text:terms&quot;}">Terms</a></li>
          <li class="mr-3 mr-lg-0"><a href="https://docs.github.com/site-policy/privacy-policies/github-privacy-statement" data-analytics-event="{&quot;category&quot;:&quot;Footer&quot;,&quot;action&quot;:&quot;go to privacy&quot;,&quot;label&quot;:&quot;text:privacy&quot;}">Privacy</a></li>
          <li class="mr-3 mr-lg-0"><a data-analytics-event="{&quot;category&quot;:&quot;Footer&quot;,&quot;action&quot;:&quot;go to security&quot;,&quot;label&quot;:&quot;text:security&quot;}" href="https://github.com/security">Security</a></li>
          <li class="mr-3 mr-lg-0"><a href="https://www.githubstatus.com/" data-analytics-event="{&quot;category&quot;:&quot;Footer&quot;,&quot;action&quot;:&quot;go to status&quot;,&quot;label&quot;:&quot;text:status&quot;}">Status</a></li>
          <li class="mr-3 mr-lg-0"><a data-ga-click="Footer, go to help, text:Docs" href="https://docs.github.com">Docs</a></li>
          <li class="mr-3 mr-lg-0"><a href="https://support.github.com?tags=dotcom-footer" data-analytics-event="{&quot;category&quot;:&quot;Footer&quot;,&quot;action&quot;:&quot;go to contact&quot;,&quot;label&quot;:&quot;text:contact&quot;}">Contact GitHub</a></li>
          <li class="mr-3 mr-lg-0"><a href="https://github.com/pricing" data-analytics-event="{&quot;category&quot;:&quot;Footer&quot;,&quot;action&quot;:&quot;go to Pricing&quot;,&quot;label&quot;:&quot;text:Pricing&quot;}">Pricing</a></li>
        <li class="mr-3 mr-lg-0"><a href="https://docs.github.com" data-analytics-event="{&quot;category&quot;:&quot;Footer&quot;,&quot;action&quot;:&quot;go to api&quot;,&quot;label&quot;:&quot;text:api&quot;}">API</a></li>
        <li class="mr-3 mr-lg-0"><a href="https://services.github.com" data-analytics-event="{&quot;category&quot;:&quot;Footer&quot;,&quot;action&quot;:&quot;go to training&quot;,&quot;label&quot;:&quot;text:training&quot;}">Training</a></li>
          <li class="mr-3 mr-lg-0"><a href="https://github.blog" data-analytics-event="{&quot;category&quot;:&quot;Footer&quot;,&quot;action&quot;:&quot;go to blog&quot;,&quot;label&quot;:&quot;text:blog&quot;}">Blog</a></li>
          <li><a data-ga-click="Footer, go to about, text:about" href="https://github.com/about">About</a></li>
      </ul>
    </nav>
  </div>

  <div class="d-flex flex-justify-center pb-6">
    <span class="f6 color-fg-muted"></span>
  </div>
</footer>




  <div id="ajax-error-message" class="ajax-error-message flash flash-error" hidden>
    <svg aria-hidden="true" height="16" viewBox="0 0 16 16" version="1.1" width="16" data-view-component="true" class="octicon octicon-alert">
    <path d="M6.457 1.047c.659-1.234 2.427-1.234 3.086 0l6.082 11.378A1.75 1.75 0 0 1 14.082 15H1.918a1.75 1.75 0 0 1-1.543-2.575Zm1.763.707a.25.25 0 0 0-.44 0L1.698 13.132a.25.25 0 0 0 .22.368h12.164a.25.25 0 0 0 .22-.368Zm.53 3.996v2.5a.75.75 0 0 1-1.5 0v-2.5a.75.75 0 0 1 1.5 0ZM9 11a1 1 0 1 1-2 0 1 1 0 0 1 2 0Z"></path>
</svg>
    <button type="button" class="flash-close js-ajax-error-dismiss" aria-label="Dismiss error">
      <svg aria-hidden="true" height="16" viewBox="0 0 16 16" version="1.1" width="16" data-view-component="true" class="octicon octicon-x">
    <path d="M3.72 3.72a.75.75 0 0 1 1.06 0L8 6.94l3.22-3.22a.749.749 0 0 1 1.275.326.749.749 0 0 1-.215.734L9.06 8l3.22 3.22a.749.749 0 0 1-.326 1.275.749.749 0 0 1-.734-.215L8 9.06l-3.22 3.22a.751.751 0 0 1-1.042-.018.751.751 0 0 1-.018-1.042L6.94 8 3.72 4.78a.75.75 0 0 1 0-1.06Z"></path>
</svg>
    </button>
    You can’t perform that action at this time.
  </div>

  <div class="js-stale-session-flash flash flash-warn flash-banner" hidden
    >
    <svg aria-hidden="true" height="16" viewBox="0 0 16 16" version="1.1" width="16" data-view-component="true" class="octicon octicon-alert">
    <path d="M6.457 1.047c.659-1.234 2.427-1.234 3.086 0l6.082 11.378A1.75 1.75 0 0 1 14.082 15H1.918a1.75 1.75 0 0 1-1.543-2.575Zm1.763.707a.25.25 0 0 0-.44 0L1.698 13.132a.25.25 0 0 0 .22.368h12.164a.25.25 0 0 0 .22-.368Zm.53 3.996v2.5a.75.75 0 0 1-1.5 0v-2.5a.75.75 0 0 1 1.5 0ZM9 11a1 1 0 1 1-2 0 1 1 0 0 1 2 0Z"></path>
</svg>
    <span class="js-stale-session-flash-signed-in" hidden>You signed in with another tab or window. <a href="">Reload</a> to refresh your session.</span>
    <span class="js-stale-session-flash-signed-out" hidden>You signed out in another tab or window. <a href="">Reload</a> to refresh your session.</span>
  </div>
    <template id="site-details-dialog">
  <details class="details-reset details-overlay details-overlay-dark lh-default color-fg-default hx_rsm" open>
    <summary role="button" aria-label="Close dialog"></summary>
    <details-dialog class="Box Box--overlay d-flex flex-column anim-fade-in fast hx_rsm-dialog hx_rsm-modal">
      <button class="Box-btn-octicon m-0 btn-octicon position-absolute right-0 top-0" type="button" aria-label="Close dialog" data-close-dialog>
        <svg aria-hidden="true" height="16" viewBox="0 0 16 16" version="1.1" width="16" data-view-component="true" class="octicon octicon-x">
    <path d="M3.72 3.72a.75.75 0 0 1 1.06 0L8 6.94l3.22-3.22a.749.749 0 0 1 1.275.326.749.749 0 0 1-.215.734L9.06 8l3.22 3.22a.749.749 0 0 1-.326 1.275.749.749 0 0 1-.734-.215L8 9.06l-3.22 3.22a.751.751 0 0 1-1.042-.018.751.751 0 0 1-.018-1.042L6.94 8 3.72 4.78a.75.75 0 0 1 0-1.06Z"></path>
</svg>
      </button>
      <div class="octocat-spinner my-6 js-details-dialog-spinner"></div>
    </details-dialog>
  </details>
</template>

    <div class="Popover js-hovercard-content position-absolute" style="display: none; outline: none;" tabindex="0">
  <div class="Popover-message Popover-message--bottom-left Popover-message--large Box color-shadow-large" style="width:360px;">
  </div>
</div>

    <template id="snippet-clipboard-copy-button">
  <div class="zeroclipboard-container position-absolute right-0 top-0">
    <clipboard-copy aria-label="Copy" class="ClipboardButton btn js-clipboard-copy m-2 p-0 tooltipped-no-delay" data-copy-feedback="Copied!" data-tooltip-direction="w">
      <svg aria-hidden="true" height="16" viewBox="0 0 16 16" version="1.1" width="16" data-view-component="true" class="octicon octicon-copy js-clipboard-copy-icon m-2">
    <path d="M0 6.75C0 5.784.784 5 1.75 5h1.5a.75.75 0 0 1 0 1.5h-1.5a.25.25 0 0 0-.25.25v7.5c0 .138.112.25.25.25h7.5a.25.25 0 0 0 .25-.25v-1.5a.75.75 0 0 1 1.5 0v1.5A1.75 1.75 0 0 1 9.25 16h-7.5A1.75 1.75 0 0 1 0 14.25Z"></path><path d="M5 1.75C5 .784 5.784 0 6.75 0h7.5C15.216 0 16 .784 16 1.75v7.5A1.75 1.75 0 0 1 14.25 11h-7.5A1.75 1.75 0 0 1 5 9.25Zm1.75-.25a.25.25 0 0 0-.25.25v7.5c0 .138.112.25.25.25h7.5a.25.25 0 0 0 .25-.25v-7.5a.25.25 0 0 0-.25-.25Z"></path>
</svg>
      <svg aria-hidden="true" height="16" viewBox="0 0 16 16" version="1.1" width="16" data-view-component="true" class="octicon octicon-check js-clipboard-check-icon color-fg-success d-none m-2">
    <path d="M13.78 4.22a.75.75 0 0 1 0 1.06l-7.25 7.25a.75.75 0 0 1-1.06 0L2.22 9.28a.751.751 0 0 1 .018-1.042.751.751 0 0 1 1.042-.018L6 10.94l6.72-6.72a.75.75 0 0 1 1.06 0Z"></path>
</svg>
    </clipboard-copy>
  </div>
</template>


    <style>
      .user-mention[href$="/vg309"] {
        color: var(--color-user-mention-fg);
        background-color: var(--color-user-mention-bg);
        border-radius: 2px;
        margin-left: -2px;
        margin-right: -2px;
        padding: 0 2px;
      }
    </style>


    </div>

    <div id="js-global-screen-reader-notice" class="sr-only" aria-live="polite" ></div>
  </body>
</html>

